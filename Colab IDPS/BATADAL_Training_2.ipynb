{
  "nbformat": 4,
  "nbformat_minor": 0,
  "metadata": {
    "colab": {
      "provenance": []
    },
    "kernelspec": {
      "name": "python3",
      "display_name": "Python 3"
    },
    "language_info": {
      "name": "python"
    }
  },
  "cells": [
    {
      "cell_type": "markdown",
      "source": [
        "**IDPS FOR WDS**"
      ],
      "metadata": {
        "id": "cZTKC5roDB0D"
      }
    },
    {
      "cell_type": "markdown",
      "source": [
        "Step 1: Load & Explore Data"
      ],
      "metadata": {
        "id": "M6pYxMhfDAE7"
      }
    },
    {
      "cell_type": "code",
      "source": [
        "pip install tensorflow\n"
      ],
      "metadata": {
        "id": "rDoyrBXdNozk",
        "colab": {
          "base_uri": "https://localhost:8080/"
        },
        "outputId": "157e84ca-d4be-4eb5-8bfd-e4ce4f1b44ef"
      },
      "execution_count": null,
      "outputs": [
        {
          "output_type": "stream",
          "name": "stdout",
          "text": [
            "Requirement already satisfied: tensorflow in /usr/local/lib/python3.11/dist-packages (2.18.0)\n",
            "Requirement already satisfied: absl-py>=1.0.0 in /usr/local/lib/python3.11/dist-packages (from tensorflow) (1.4.0)\n",
            "Requirement already satisfied: astunparse>=1.6.0 in /usr/local/lib/python3.11/dist-packages (from tensorflow) (1.6.3)\n",
            "Requirement already satisfied: flatbuffers>=24.3.25 in /usr/local/lib/python3.11/dist-packages (from tensorflow) (25.2.10)\n",
            "Requirement already satisfied: gast!=0.5.0,!=0.5.1,!=0.5.2,>=0.2.1 in /usr/local/lib/python3.11/dist-packages (from tensorflow) (0.6.0)\n",
            "Requirement already satisfied: google-pasta>=0.1.1 in /usr/local/lib/python3.11/dist-packages (from tensorflow) (0.2.0)\n",
            "Requirement already satisfied: libclang>=13.0.0 in /usr/local/lib/python3.11/dist-packages (from tensorflow) (18.1.1)\n",
            "Requirement already satisfied: opt-einsum>=2.3.2 in /usr/local/lib/python3.11/dist-packages (from tensorflow) (3.4.0)\n",
            "Requirement already satisfied: packaging in /usr/local/lib/python3.11/dist-packages (from tensorflow) (24.2)\n",
            "Requirement already satisfied: protobuf!=4.21.0,!=4.21.1,!=4.21.2,!=4.21.3,!=4.21.4,!=4.21.5,<6.0.0dev,>=3.20.3 in /usr/local/lib/python3.11/dist-packages (from tensorflow) (4.25.6)\n",
            "Requirement already satisfied: requests<3,>=2.21.0 in /usr/local/lib/python3.11/dist-packages (from tensorflow) (2.32.3)\n",
            "Requirement already satisfied: setuptools in /usr/local/lib/python3.11/dist-packages (from tensorflow) (75.1.0)\n",
            "Requirement already satisfied: six>=1.12.0 in /usr/local/lib/python3.11/dist-packages (from tensorflow) (1.17.0)\n",
            "Requirement already satisfied: termcolor>=1.1.0 in /usr/local/lib/python3.11/dist-packages (from tensorflow) (2.5.0)\n",
            "Requirement already satisfied: typing-extensions>=3.6.6 in /usr/local/lib/python3.11/dist-packages (from tensorflow) (4.12.2)\n",
            "Requirement already satisfied: wrapt>=1.11.0 in /usr/local/lib/python3.11/dist-packages (from tensorflow) (1.17.2)\n",
            "Requirement already satisfied: grpcio<2.0,>=1.24.3 in /usr/local/lib/python3.11/dist-packages (from tensorflow) (1.70.0)\n",
            "Requirement already satisfied: tensorboard<2.19,>=2.18 in /usr/local/lib/python3.11/dist-packages (from tensorflow) (2.18.0)\n",
            "Requirement already satisfied: keras>=3.5.0 in /usr/local/lib/python3.11/dist-packages (from tensorflow) (3.8.0)\n",
            "Requirement already satisfied: numpy<2.1.0,>=1.26.0 in /usr/local/lib/python3.11/dist-packages (from tensorflow) (1.26.4)\n",
            "Requirement already satisfied: h5py>=3.11.0 in /usr/local/lib/python3.11/dist-packages (from tensorflow) (3.12.1)\n",
            "Requirement already satisfied: ml-dtypes<0.5.0,>=0.4.0 in /usr/local/lib/python3.11/dist-packages (from tensorflow) (0.4.1)\n",
            "Requirement already satisfied: tensorflow-io-gcs-filesystem>=0.23.1 in /usr/local/lib/python3.11/dist-packages (from tensorflow) (0.37.1)\n",
            "Requirement already satisfied: wheel<1.0,>=0.23.0 in /usr/local/lib/python3.11/dist-packages (from astunparse>=1.6.0->tensorflow) (0.45.1)\n",
            "Requirement already satisfied: rich in /usr/local/lib/python3.11/dist-packages (from keras>=3.5.0->tensorflow) (13.9.4)\n",
            "Requirement already satisfied: namex in /usr/local/lib/python3.11/dist-packages (from keras>=3.5.0->tensorflow) (0.0.8)\n",
            "Requirement already satisfied: optree in /usr/local/lib/python3.11/dist-packages (from keras>=3.5.0->tensorflow) (0.14.0)\n",
            "Requirement already satisfied: charset-normalizer<4,>=2 in /usr/local/lib/python3.11/dist-packages (from requests<3,>=2.21.0->tensorflow) (3.4.1)\n",
            "Requirement already satisfied: idna<4,>=2.5 in /usr/local/lib/python3.11/dist-packages (from requests<3,>=2.21.0->tensorflow) (3.10)\n",
            "Requirement already satisfied: urllib3<3,>=1.21.1 in /usr/local/lib/python3.11/dist-packages (from requests<3,>=2.21.0->tensorflow) (2.3.0)\n",
            "Requirement already satisfied: certifi>=2017.4.17 in /usr/local/lib/python3.11/dist-packages (from requests<3,>=2.21.0->tensorflow) (2025.1.31)\n",
            "Requirement already satisfied: markdown>=2.6.8 in /usr/local/lib/python3.11/dist-packages (from tensorboard<2.19,>=2.18->tensorflow) (3.7)\n",
            "Requirement already satisfied: tensorboard-data-server<0.8.0,>=0.7.0 in /usr/local/lib/python3.11/dist-packages (from tensorboard<2.19,>=2.18->tensorflow) (0.7.2)\n",
            "Requirement already satisfied: werkzeug>=1.0.1 in /usr/local/lib/python3.11/dist-packages (from tensorboard<2.19,>=2.18->tensorflow) (3.1.3)\n",
            "Requirement already satisfied: MarkupSafe>=2.1.1 in /usr/local/lib/python3.11/dist-packages (from werkzeug>=1.0.1->tensorboard<2.19,>=2.18->tensorflow) (3.0.2)\n",
            "Requirement already satisfied: markdown-it-py>=2.2.0 in /usr/local/lib/python3.11/dist-packages (from rich->keras>=3.5.0->tensorflow) (3.0.0)\n",
            "Requirement already satisfied: pygments<3.0.0,>=2.13.0 in /usr/local/lib/python3.11/dist-packages (from rich->keras>=3.5.0->tensorflow) (2.18.0)\n",
            "Requirement already satisfied: mdurl~=0.1 in /usr/local/lib/python3.11/dist-packages (from markdown-it-py>=2.2.0->rich->keras>=3.5.0->tensorflow) (0.1.2)\n"
          ]
        }
      ]
    },
    {
      "cell_type": "code",
      "execution_count": null,
      "metadata": {
        "colab": {
          "base_uri": "https://localhost:8080/"
        },
        "id": "-oRn_guwC1Pr",
        "outputId": "2ffb5aa3-3885-4a09-f07c-61047987a327"
      },
      "outputs": [
        {
          "output_type": "stream",
          "name": "stderr",
          "text": [
            "<ipython-input-1-b2f67b9571c0>:11: UserWarning: Could not infer format, so each element will be parsed individually, falling back to `dateutil`. To ensure parsing is consistent and as-expected, please specify a format.\n",
            "  df_normal = pd.read_csv(\"/content/drive/MyDrive/CWDS_DEMO/BATADAL Datasets/BATADAL_normal.csv\", parse_dates=['DATETIME'], dayfirst=True)\n",
            "<ipython-input-1-b2f67b9571c0>:12: UserWarning: Could not infer format, so each element will be parsed individually, falling back to `dateutil`. To ensure parsing is consistent and as-expected, please specify a format.\n",
            "  df_attack = pd.read_csv(\"/content/drive/MyDrive/CWDS_DEMO/BATADAL Datasets/BATADAL_train.csv\", parse_dates=['DATETIME'], dayfirst=True)\n"
          ]
        },
        {
          "output_type": "stream",
          "name": "stdout",
          "text": [
            "Normal Data:\n",
            "<class 'pandas.core.frame.DataFrame'>\n",
            "RangeIndex: 8761 entries, 0 to 8760\n",
            "Data columns (total 45 columns):\n",
            " #   Column    Non-Null Count  Dtype         \n",
            "---  ------    --------------  -----         \n",
            " 0   DATETIME  8761 non-null   datetime64[ns]\n",
            " 1   L_T1      8761 non-null   float64       \n",
            " 2   L_T2      8761 non-null   float64       \n",
            " 3   L_T3      8761 non-null   float64       \n",
            " 4   L_T4      8761 non-null   float64       \n",
            " 5   L_T5      8761 non-null   float64       \n",
            " 6   L_T6      8761 non-null   float64       \n",
            " 7   L_T7      8761 non-null   float64       \n",
            " 8   F_PU1     8761 non-null   float64       \n",
            " 9   S_PU1     8761 non-null   int64         \n",
            " 10  F_PU2     8761 non-null   float64       \n",
            " 11  S_PU2     8761 non-null   int64         \n",
            " 12  F_PU3     8761 non-null   int64         \n",
            " 13  S_PU3     8761 non-null   int64         \n",
            " 14  F_PU4     8761 non-null   float64       \n",
            " 15  S_PU4     8761 non-null   int64         \n",
            " 16  F_PU5     8761 non-null   int64         \n",
            " 17  S_PU5     8761 non-null   int64         \n",
            " 18  F_PU6     8761 non-null   float64       \n",
            " 19  S_PU6     8761 non-null   int64         \n",
            " 20  F_PU7     8761 non-null   float64       \n",
            " 21  S_PU7     8761 non-null   int64         \n",
            " 22  F_PU8     8761 non-null   float64       \n",
            " 23  S_PU8     8761 non-null   int64         \n",
            " 24  F_PU9     8761 non-null   int64         \n",
            " 25  S_PU9     8761 non-null   int64         \n",
            " 26  F_PU10    8761 non-null   float64       \n",
            " 27  S_PU10    8761 non-null   int64         \n",
            " 28  F_PU11    8761 non-null   float64       \n",
            " 29  S_PU11    8761 non-null   int64         \n",
            " 30  F_V2      8761 non-null   float64       \n",
            " 31  S_V2      8761 non-null   int64         \n",
            " 32  P_J280    8761 non-null   float64       \n",
            " 33  P_J269    8761 non-null   float64       \n",
            " 34  P_J300    8761 non-null   float64       \n",
            " 35  P_J256    8761 non-null   float64       \n",
            " 36  P_J289    8761 non-null   float64       \n",
            " 37  P_J415    8761 non-null   float64       \n",
            " 38  P_J302    8761 non-null   float64       \n",
            " 39  P_J306    8761 non-null   float64       \n",
            " 40  P_J307    8761 non-null   float64       \n",
            " 41  P_J317    8761 non-null   float64       \n",
            " 42  P_J14     8761 non-null   float64       \n",
            " 43  P_J422    8761 non-null   float64       \n",
            " 44  ATT_FLAG  8761 non-null   int64         \n",
            "dtypes: datetime64[ns](1), float64(28), int64(16)\n",
            "memory usage: 3.0 MB\n",
            "None \n",
            "\n",
            "Attack Data:\n",
            "<class 'pandas.core.frame.DataFrame'>\n",
            "RangeIndex: 4177 entries, 0 to 4176\n",
            "Data columns (total 45 columns):\n",
            " #   Column    Non-Null Count  Dtype         \n",
            "---  ------    --------------  -----         \n",
            " 0   DATETIME  4177 non-null   datetime64[ns]\n",
            " 1   L_T1      4177 non-null   float64       \n",
            " 2   L_T2      4177 non-null   float64       \n",
            " 3   L_T3      4177 non-null   float64       \n",
            " 4   L_T4      4177 non-null   float64       \n",
            " 5   L_T5      4177 non-null   float64       \n",
            " 6   L_T6      4177 non-null   float64       \n",
            " 7   L_T7      4177 non-null   float64       \n",
            " 8   F_PU1     4177 non-null   float64       \n",
            " 9   S_PU1     4177 non-null   int64         \n",
            " 10  F_PU2     4177 non-null   float64       \n",
            " 11  S_PU2     4177 non-null   int64         \n",
            " 12  F_PU3     4177 non-null   int64         \n",
            " 13  S_PU3     4177 non-null   int64         \n",
            " 14  F_PU4     4177 non-null   float64       \n",
            " 15  S_PU4     4177 non-null   int64         \n",
            " 16  F_PU5     4177 non-null   int64         \n",
            " 17  S_PU5     4177 non-null   int64         \n",
            " 18  F_PU6     4177 non-null   float64       \n",
            " 19  S_PU6     4177 non-null   int64         \n",
            " 20  F_PU7     4177 non-null   float64       \n",
            " 21  S_PU7     4177 non-null   int64         \n",
            " 22  F_PU8     4177 non-null   float64       \n",
            " 23  S_PU8     4177 non-null   int64         \n",
            " 24  F_PU9     4177 non-null   int64         \n",
            " 25  S_PU9     4177 non-null   int64         \n",
            " 26  F_PU10    4177 non-null   float64       \n",
            " 27  S_PU10    4177 non-null   int64         \n",
            " 28  F_PU11    4177 non-null   float64       \n",
            " 29  S_PU11    4177 non-null   int64         \n",
            " 30  F_V2      4177 non-null   float64       \n",
            " 31  S_V2      4177 non-null   int64         \n",
            " 32  P_J280    4177 non-null   float64       \n",
            " 33  P_J269    4177 non-null   float64       \n",
            " 34  P_J300    4177 non-null   float64       \n",
            " 35  P_J256    4177 non-null   float64       \n",
            " 36  P_J289    4177 non-null   float64       \n",
            " 37  P_J415    4177 non-null   float64       \n",
            " 38  P_J302    4177 non-null   float64       \n",
            " 39  P_J306    4177 non-null   float64       \n",
            " 40  P_J307    4177 non-null   float64       \n",
            " 41  P_J317    4177 non-null   float64       \n",
            " 42  P_J14     4177 non-null   float64       \n",
            " 43  P_J422    4177 non-null   float64       \n",
            " 44  ATT_FLAG  4177 non-null   int64         \n",
            "dtypes: datetime64[ns](1), float64(28), int64(16)\n",
            "memory usage: 1.4 MB\n",
            "None \n",
            "\n"
          ]
        },
        {
          "output_type": "execute_result",
          "data": {
            "text/plain": [
              "(             DATETIME      L_T1      L_T2      L_T3      L_T4      L_T5  \\\n",
              " 0 2014-01-06 00:00:00  0.509730  2.049003  3.191145  2.792634  2.656091   \n",
              " 1 2014-01-06 01:00:00  0.412580  2.009072  3.642565  2.831673  3.126387   \n",
              " 2 2014-01-06 02:00:00  0.320112  1.986093  4.140192  3.256733  3.574601   \n",
              " 3 2014-01-06 03:00:00  0.332879  2.009203  4.673478  3.744497  3.952379   \n",
              " 4 2014-01-06 04:00:00  0.483496  2.089049  5.237937  4.409456  3.504676   \n",
              " \n",
              "        L_T6      L_T7      F_PU1  S_PU1  ...     P_J256     P_J289     P_J415  \\\n",
              " 0  5.316831  1.562321  98.998444      1  ...  87.605774  26.495605  84.206619   \n",
              " 1  5.494855  1.852043  99.095901      1  ...  89.448341  26.487326  85.900085   \n",
              " 2  5.500000  2.246126  98.420959      1  ...  91.056114  26.487364  86.582474   \n",
              " 3  5.500000  3.203573  97.575172      1  ...  92.594353  26.575815  88.020546   \n",
              " 4  5.500000  4.439714  97.351059      1  ...  94.473099  26.723457  90.422462   \n",
              " \n",
              "       P_J302     P_J306     P_J307     P_J317      P_J14     P_J422  ATT_FLAG  \n",
              " 0  18.901676  81.983734  18.791777  67.125603  29.387470  28.487471         0  \n",
              " 1  18.849329  82.150589  18.739643  67.178696  29.354256  28.454256         0  \n",
              " 2  19.597170  83.988579  19.496712  72.425293  29.354538  28.454538         0  \n",
              " 3  26.028486  64.670486  25.922703  76.275040  29.449951  28.549952         0  \n",
              " 4  26.209970  64.746620  26.104692  76.703529  29.574265  28.674263         0  \n",
              " \n",
              " [5 rows x 45 columns],\n",
              "              DATETIME  L_T1  L_T2  L_T3  L_T4  L_T5  L_T6  L_T7  F_PU1  S_PU1  \\\n",
              " 0 2016-07-04 00:00:00  2.44  5.24  3.19  4.10  2.86  5.50  4.39  93.63      1   \n",
              " 1 2016-07-04 01:00:00  2.66  4.53  3.20  4.18  3.29  5.44  4.53  89.41      1   \n",
              " 2 2016-07-04 02:00:00  3.11  3.66  3.66  4.21  3.87  5.15  3.22  89.88      1   \n",
              " 3 2016-07-04 03:00:00  3.62  3.04  4.17  4.04  3.56  4.98  2.40  88.10      1   \n",
              " 4 2016-07-04 04:00:00  4.08  2.68  4.73  3.20  3.11  5.39  3.46  87.01      1   \n",
              " \n",
              "    ...  P_J256  P_J289  P_J415  P_J302  P_J306  P_J307  P_J317  P_J14  P_J422  \\\n",
              " 0  ...   70.00   28.22   85.87   21.69   82.72   21.58   71.99  39.33   29.64   \n",
              " 1  ...   87.73   24.45   84.87   29.81   86.62   29.81   59.76  42.17   26.15   \n",
              " 2  ...   89.29   23.90   87.11   29.85   87.64   29.85   58.50  42.00   25.56   \n",
              " 3  ...   91.98   27.10   68.75   31.60   64.25   31.47   72.30  43.24   28.38   \n",
              " 4  ...   92.11   26.76   68.74   32.30   64.23   32.17   72.53  44.00   28.04   \n",
              " \n",
              "    ATT_FLAG  \n",
              " 0         0  \n",
              " 1         0  \n",
              " 2         0  \n",
              " 3         0  \n",
              " 4         0  \n",
              " \n",
              " [5 rows x 45 columns])"
            ]
          },
          "metadata": {},
          "execution_count": 1
        }
      ],
      "source": [
        "# Import necessary libraries\n",
        "import pandas as pd\n",
        "import numpy as np\n",
        "import matplotlib.pyplot as plt\n",
        "import seaborn as sns\n",
        "from sklearn.model_selection import train_test_split\n",
        "from sklearn.preprocessing import MinMaxScaler\n",
        "from imblearn.over_sampling import SMOTE\n",
        "\n",
        "# Load datasets (Upload manually in Colab first)\n",
        "df_normal = pd.read_csv(\"/content/drive/MyDrive/CWDS_DEMO/BATADAL Datasets/BATADAL_normal.csv\", parse_dates=['DATETIME'], dayfirst=True)\n",
        "df_attack = pd.read_csv(\"/content/drive/MyDrive/CWDS_DEMO/BATADAL Datasets/BATADAL_train.csv\", parse_dates=['DATETIME'], dayfirst=True)\n",
        "\n",
        "# Display basic info\n",
        "print(\"Normal Data:\")\n",
        "print(df_normal.info(), \"\\n\")\n",
        "print(\"Attack Data:\")\n",
        "print(df_attack.info(), \"\\n\")\n",
        "\n",
        "# Display first few rows\n",
        "df_normal.head(), df_attack.head()\n"
      ]
    },
    {
      "cell_type": "markdown",
      "source": [
        " Step 2: Data Preprocessing"
      ],
      "metadata": {
        "id": "DDYeAYS3FZkN"
      }
    },
    {
      "cell_type": "code",
      "source": [
        "# Drop timestamps\n",
        "df_normal = df_normal.drop(columns=['DATETIME'])\n",
        "df_attack = df_attack.drop(columns=['DATETIME'])\n",
        "\n",
        "# Separate features and labels\n",
        "X_normal = df_normal.drop(columns=['ATT_FLAG'])\n",
        "y_normal = df_normal['ATT_FLAG']\n",
        "\n",
        "X_attack = df_attack.drop(columns=['ATT_FLAG'])\n",
        "y_attack = df_attack['ATT_FLAG']\n",
        "\n",
        "# Normalize features\n",
        "scaler = MinMaxScaler()\n",
        "X_normal_scaled = scaler.fit_transform(X_normal)\n",
        "X_attack_scaled = scaler.transform(X_attack)\n",
        "\n",
        "# Convert back to DataFrame\n",
        "X_normal = pd.DataFrame(X_normal_scaled, columns=X_normal.columns)\n",
        "X_attack = pd.DataFrame(X_attack_scaled, columns=X_attack.columns)\n",
        "\n",
        "print(\"Data successfully normalized!\")\n"
      ],
      "metadata": {
        "colab": {
          "base_uri": "https://localhost:8080/"
        },
        "id": "97n1T4MZFXMf",
        "outputId": "bb789943-2c3a-44d0-fcaa-270734d799ee"
      },
      "execution_count": null,
      "outputs": [
        {
          "output_type": "stream",
          "name": "stdout",
          "text": [
            "Data successfully normalized!\n"
          ]
        }
      ]
    },
    {
      "cell_type": "markdown",
      "source": [
        " Step 3: Handle Class Imbalance"
      ],
      "metadata": {
        "id": "QgXba6QjFewS"
      }
    },
    {
      "cell_type": "code",
      "source": [
        "# Balance the dataset using SMOTE\n",
        "smote = SMOTE(sampling_strategy=0.5, random_state=42)  # Adjust ratio as needed\n",
        "X_balanced, y_balanced = smote.fit_resample(X_attack, y_attack)\n",
        "\n",
        "print(\"Balanced Data Distribution:\")\n",
        "print(pd.Series(y_balanced).value_counts())\n",
        "\n",
        "# Split into train & test sets\n",
        "X_train, X_test, y_train, y_test = train_test_split(X_balanced, y_balanced, test_size=0.2, random_state=42)\n",
        "\n",
        "print(f\"Training Set: {X_train.shape}, Testing Set: {X_test.shape}\")\n"
      ],
      "metadata": {
        "colab": {
          "base_uri": "https://localhost:8080/"
        },
        "id": "TkSpVOrYFfvc",
        "outputId": "a96ef47c-fc69-4932-ba64-c9feb814972d"
      },
      "execution_count": null,
      "outputs": [
        {
          "output_type": "stream",
          "name": "stdout",
          "text": [
            "Balanced Data Distribution:\n",
            "ATT_FLAG\n",
            "0    3685\n",
            "1    1842\n",
            "Name: count, dtype: int64\n",
            "Training Set: (4421, 43), Testing Set: (1106, 43)\n"
          ]
        }
      ]
    },
    {
      "cell_type": "markdown",
      "source": [
        "Step 4: Train Anomaly Detection Models"
      ],
      "metadata": {
        "id": "N19krqTgFt6t"
      }
    },
    {
      "cell_type": "code",
      "source": [
        "from sklearn.ensemble import IsolationForest\n",
        "from sklearn.metrics import classification_report, confusion_matrix\n",
        "\n",
        "# Train Isolation Forest\n",
        "iso_forest = IsolationForest(contamination=0.05, random_state=42)\n",
        "iso_forest.fit(X_train)\n",
        "\n",
        "# Predict\n",
        "y_pred = iso_forest.predict(X_test)\n",
        "y_pred = [1 if p == -1 else 0 for p in y_pred]  # Convert to attack labels (1 = attack)\n",
        "\n",
        "# Evaluate\n",
        "print(\"🔹 Isolation Forest Performance:\")\n",
        "print(confusion_matrix(y_test, y_pred))\n",
        "print(classification_report(y_test, y_pred))\n"
      ],
      "metadata": {
        "colab": {
          "base_uri": "https://localhost:8080/"
        },
        "id": "KkPIJyo8FuiA",
        "outputId": "8d22d003-0edf-4161-e6fc-0a1896d498dd"
      },
      "execution_count": null,
      "outputs": [
        {
          "output_type": "stream",
          "name": "stdout",
          "text": [
            "🔹 Isolation Forest Performance:\n",
            "[[729  12]\n",
            " [329  36]]\n",
            "              precision    recall  f1-score   support\n",
            "\n",
            "           0       0.69      0.98      0.81       741\n",
            "           1       0.75      0.10      0.17       365\n",
            "\n",
            "    accuracy                           0.69      1106\n",
            "   macro avg       0.72      0.54      0.49      1106\n",
            "weighted avg       0.71      0.69      0.60      1106\n",
            "\n"
          ]
        }
      ]
    },
    {
      "cell_type": "markdown",
      "source": [
        "Step 6: Improve Isolation Forest"
      ],
      "metadata": {
        "id": "_biMdbbNGlIP"
      }
    },
    {
      "cell_type": "code",
      "source": [
        "# Re-train Isolation Forest with different contamination level\n",
        "iso_forest = IsolationForest(n_estimators=200, contamination=0.1, random_state=42)\n",
        "iso_forest.fit(X_train)\n",
        "\n",
        "# Predict again\n",
        "y_pred = iso_forest.predict(X_test)\n",
        "y_pred = [1 if p == -1 else 0 for p in y_pred]\n",
        "\n",
        "# Evaluate again\n",
        "print(\"🔹 Improved Isolation Forest Performance:\")\n",
        "print(confusion_matrix(y_test, y_pred))\n",
        "print(classification_report(y_test, y_pred))\n"
      ],
      "metadata": {
        "colab": {
          "base_uri": "https://localhost:8080/"
        },
        "id": "-bp2ppJIGl1G",
        "outputId": "3a22661c-f3db-4620-b6d1-853a4071bf0c"
      },
      "execution_count": null,
      "outputs": [
        {
          "output_type": "stream",
          "name": "stdout",
          "text": [
            "🔹 Improved Isolation Forest Performance:\n",
            "[[713  28]\n",
            " [284  81]]\n",
            "              precision    recall  f1-score   support\n",
            "\n",
            "           0       0.72      0.96      0.82       741\n",
            "           1       0.74      0.22      0.34       365\n",
            "\n",
            "    accuracy                           0.72      1106\n",
            "   macro avg       0.73      0.59      0.58      1106\n",
            "weighted avg       0.72      0.72      0.66      1106\n",
            "\n"
          ]
        }
      ]
    },
    {
      "cell_type": "markdown",
      "source": [
        "Step 7: Try Local Outlier Factor (LOF)"
      ],
      "metadata": {
        "id": "tQY3YYRCGtmJ"
      }
    },
    {
      "cell_type": "code",
      "source": [
        "from sklearn.neighbors import LocalOutlierFactor\n",
        "\n",
        "# Train Local Outlier Factor\n",
        "lof = LocalOutlierFactor(n_neighbors=20, contamination=0.1, novelty=True)\n",
        "lof.fit(X_train)\n",
        "\n",
        "# Predict\n",
        "y_pred_lof = lof.predict(X_test)\n",
        "y_pred_lof = [1 if p == -1 else 0 for p in y_pred_lof]\n",
        "\n",
        "# Evaluate\n",
        "print(\"🔹 Local Outlier Factor Performance:\")\n",
        "print(confusion_matrix(y_test, y_pred_lof))\n",
        "print(classification_report(y_test, y_pred_lof))\n"
      ],
      "metadata": {
        "colab": {
          "base_uri": "https://localhost:8080/"
        },
        "id": "8_n-cNw5GuKA",
        "outputId": "ddfe512e-3876-4150-989a-c8bf9c7d0753"
      },
      "execution_count": null,
      "outputs": [
        {
          "output_type": "stream",
          "name": "stdout",
          "text": [
            "🔹 Local Outlier Factor Performance:\n",
            "[[704  37]\n",
            " [315  50]]\n",
            "              precision    recall  f1-score   support\n",
            "\n",
            "           0       0.69      0.95      0.80       741\n",
            "           1       0.57      0.14      0.22       365\n",
            "\n",
            "    accuracy                           0.68      1106\n",
            "   macro avg       0.63      0.54      0.51      1106\n",
            "weighted avg       0.65      0.68      0.61      1106\n",
            "\n"
          ]
        },
        {
          "output_type": "stream",
          "name": "stderr",
          "text": [
            "/usr/local/lib/python3.11/dist-packages/sklearn/utils/validation.py:2739: UserWarning: X does not have valid feature names, but LocalOutlierFactor was fitted with feature names\n",
            "  warnings.warn(\n"
          ]
        }
      ]
    },
    {
      "cell_type": "markdown",
      "source": [
        "Step 8: Train an AutoEncoder (Deep Learning Approach)"
      ],
      "metadata": {
        "id": "X3evvO09G1L9"
      }
    },
    {
      "cell_type": "code",
      "source": [
        "import tensorflow as tf\n",
        "from tensorflow import keras\n",
        "from tensorflow.keras.models import Model\n",
        "from tensorflow.keras.layers import Input, Dense\n",
        "\n",
        "# Define AutoEncoder model\n",
        "input_dim = X_train.shape[1]\n",
        "encoding_dim = 8  # Dimension of compressed representation\n",
        "\n",
        "input_layer = Input(shape=(input_dim,))\n",
        "encoded = Dense(encoding_dim, activation=\"relu\")(input_layer)\n",
        "decoded = Dense(input_dim, activation=\"sigmoid\")(encoded)\n",
        "\n",
        "autoencoder = Model(input_layer, decoded)\n",
        "autoencoder.compile(optimizer='adam', loss='mse')\n",
        "\n",
        "# Train the AutoEncoder\n",
        "autoencoder.fit(X_train, X_train, epochs=50, batch_size=32, shuffle=True, validation_data=(X_test, X_test))\n",
        "\n",
        "# Get reconstruction error\n",
        "X_test_reconstructed = autoencoder.predict(X_test)\n",
        "reconstruction_error = np.mean(np.abs(X_test - X_test_reconstructed), axis=1)\n",
        "\n",
        "# Define threshold based on training reconstruction error\n",
        "threshold = np.percentile(reconstruction_error, 95)  # Top 5% as anomalies\n",
        "\n",
        "# Predict anomalies\n",
        "y_pred_ae = [1 if e > threshold else 0 for e in reconstruction_error]\n",
        "\n",
        "# Evaluate\n",
        "print(\"🔹 AutoEncoder Performance:\")\n",
        "print(confusion_matrix(y_test, y_pred_ae))\n",
        "print(classification_report(y_test, y_pred_ae))\n"
      ],
      "metadata": {
        "colab": {
          "base_uri": "https://localhost:8080/"
        },
        "id": "KYzUd1XWG12B",
        "outputId": "815d89e1-4a91-41cf-8631-74e62f1f03ae"
      },
      "execution_count": null,
      "outputs": [
        {
          "output_type": "stream",
          "name": "stdout",
          "text": [
            "Epoch 1/50\n",
            "\u001b[1m139/139\u001b[0m \u001b[32m━━━━━━━━━━━━━━━━━━━━\u001b[0m\u001b[37m\u001b[0m \u001b[1m2s\u001b[0m 6ms/step - loss: 0.1466 - val_loss: 0.0854\n",
            "Epoch 2/50\n",
            "\u001b[1m139/139\u001b[0m \u001b[32m━━━━━━━━━━━━━━━━━━━━\u001b[0m\u001b[37m\u001b[0m \u001b[1m1s\u001b[0m 4ms/step - loss: 0.0771 - val_loss: 0.0615\n",
            "Epoch 3/50\n",
            "\u001b[1m139/139\u001b[0m \u001b[32m━━━━━━━━━━━━━━━━━━━━\u001b[0m\u001b[37m\u001b[0m \u001b[1m1s\u001b[0m 4ms/step - loss: 0.0594 - val_loss: 0.0503\n",
            "Epoch 4/50\n",
            "\u001b[1m139/139\u001b[0m \u001b[32m━━━━━━━━━━━━━━━━━━━━\u001b[0m\u001b[37m\u001b[0m \u001b[1m1s\u001b[0m 4ms/step - loss: 0.0485 - val_loss: 0.0414\n",
            "Epoch 5/50\n",
            "\u001b[1m139/139\u001b[0m \u001b[32m━━━━━━━━━━━━━━━━━━━━\u001b[0m\u001b[37m\u001b[0m \u001b[1m0s\u001b[0m 3ms/step - loss: 0.0407 - val_loss: 0.0345\n",
            "Epoch 6/50\n",
            "\u001b[1m139/139\u001b[0m \u001b[32m━━━━━━━━━━━━━━━━━━━━\u001b[0m\u001b[37m\u001b[0m \u001b[1m0s\u001b[0m 3ms/step - loss: 0.0341 - val_loss: 0.0298\n",
            "Epoch 7/50\n",
            "\u001b[1m139/139\u001b[0m \u001b[32m━━━━━━━━━━━━━━━━━━━━\u001b[0m\u001b[37m\u001b[0m \u001b[1m1s\u001b[0m 3ms/step - loss: 0.0300 - val_loss: 0.0262\n",
            "Epoch 8/50\n",
            "\u001b[1m139/139\u001b[0m \u001b[32m━━━━━━━━━━━━━━━━━━━━\u001b[0m\u001b[37m\u001b[0m \u001b[1m1s\u001b[0m 3ms/step - loss: 0.0263 - val_loss: 0.0232\n",
            "Epoch 9/50\n",
            "\u001b[1m139/139\u001b[0m \u001b[32m━━━━━━━━━━━━━━━━━━━━\u001b[0m\u001b[37m\u001b[0m \u001b[1m1s\u001b[0m 3ms/step - loss: 0.0234 - val_loss: 0.0204\n",
            "Epoch 10/50\n",
            "\u001b[1m139/139\u001b[0m \u001b[32m━━━━━━━━━━━━━━━━━━━━\u001b[0m\u001b[37m\u001b[0m \u001b[1m0s\u001b[0m 3ms/step - loss: 0.0203 - val_loss: 0.0177\n",
            "Epoch 11/50\n",
            "\u001b[1m139/139\u001b[0m \u001b[32m━━━━━━━━━━━━━━━━━━━━\u001b[0m\u001b[37m\u001b[0m \u001b[1m1s\u001b[0m 3ms/step - loss: 0.0177 - val_loss: 0.0156\n",
            "Epoch 12/50\n",
            "\u001b[1m139/139\u001b[0m \u001b[32m━━━━━━━━━━━━━━━━━━━━\u001b[0m\u001b[37m\u001b[0m \u001b[1m1s\u001b[0m 3ms/step - loss: 0.0156 - val_loss: 0.0143\n",
            "Epoch 13/50\n",
            "\u001b[1m139/139\u001b[0m \u001b[32m━━━━━━━━━━━━━━━━━━━━\u001b[0m\u001b[37m\u001b[0m \u001b[1m1s\u001b[0m 3ms/step - loss: 0.0143 - val_loss: 0.0135\n",
            "Epoch 14/50\n",
            "\u001b[1m139/139\u001b[0m \u001b[32m━━━━━━━━━━━━━━━━━━━━\u001b[0m\u001b[37m\u001b[0m \u001b[1m1s\u001b[0m 4ms/step - loss: 0.0134 - val_loss: 0.0128\n",
            "Epoch 15/50\n",
            "\u001b[1m139/139\u001b[0m \u001b[32m━━━━━━━━━━━━━━━━━━━━\u001b[0m\u001b[37m\u001b[0m \u001b[1m1s\u001b[0m 3ms/step - loss: 0.0130 - val_loss: 0.0124\n",
            "Epoch 16/50\n",
            "\u001b[1m139/139\u001b[0m \u001b[32m━━━━━━━━━━━━━━━━━━━━\u001b[0m\u001b[37m\u001b[0m \u001b[1m1s\u001b[0m 3ms/step - loss: 0.0124 - val_loss: 0.0121\n",
            "Epoch 17/50\n",
            "\u001b[1m139/139\u001b[0m \u001b[32m━━━━━━━━━━━━━━━━━━━━\u001b[0m\u001b[37m\u001b[0m \u001b[1m1s\u001b[0m 3ms/step - loss: 0.0125 - val_loss: 0.0119\n",
            "Epoch 18/50\n",
            "\u001b[1m139/139\u001b[0m \u001b[32m━━━━━━━━━━━━━━━━━━━━\u001b[0m\u001b[37m\u001b[0m \u001b[1m0s\u001b[0m 3ms/step - loss: 0.0121 - val_loss: 0.0117\n",
            "Epoch 19/50\n",
            "\u001b[1m139/139\u001b[0m \u001b[32m━━━━━━━━━━━━━━━━━━━━\u001b[0m\u001b[37m\u001b[0m \u001b[1m1s\u001b[0m 3ms/step - loss: 0.0120 - val_loss: 0.0115\n",
            "Epoch 20/50\n",
            "\u001b[1m139/139\u001b[0m \u001b[32m━━━━━━━━━━━━━━━━━━━━\u001b[0m\u001b[37m\u001b[0m \u001b[1m1s\u001b[0m 3ms/step - loss: 0.0117 - val_loss: 0.0114\n",
            "Epoch 21/50\n",
            "\u001b[1m139/139\u001b[0m \u001b[32m━━━━━━━━━━━━━━━━━━━━\u001b[0m\u001b[37m\u001b[0m \u001b[1m1s\u001b[0m 3ms/step - loss: 0.0114 - val_loss: 0.0112\n",
            "Epoch 22/50\n",
            "\u001b[1m139/139\u001b[0m \u001b[32m━━━━━━━━━━━━━━━━━━━━\u001b[0m\u001b[37m\u001b[0m \u001b[1m1s\u001b[0m 4ms/step - loss: 0.0118 - val_loss: 0.0112\n",
            "Epoch 23/50\n",
            "\u001b[1m139/139\u001b[0m \u001b[32m━━━━━━━━━━━━━━━━━━━━\u001b[0m\u001b[37m\u001b[0m \u001b[1m1s\u001b[0m 4ms/step - loss: 0.0114 - val_loss: 0.0110\n",
            "Epoch 24/50\n",
            "\u001b[1m139/139\u001b[0m \u001b[32m━━━━━━━━━━━━━━━━━━━━\u001b[0m\u001b[37m\u001b[0m \u001b[1m1s\u001b[0m 4ms/step - loss: 0.0110 - val_loss: 0.0110\n",
            "Epoch 25/50\n",
            "\u001b[1m139/139\u001b[0m \u001b[32m━━━━━━━━━━━━━━━━━━━━\u001b[0m\u001b[37m\u001b[0m \u001b[1m1s\u001b[0m 4ms/step - loss: 0.0116 - val_loss: 0.0109\n",
            "Epoch 26/50\n",
            "\u001b[1m139/139\u001b[0m \u001b[32m━━━━━━━━━━━━━━━━━━━━\u001b[0m\u001b[37m\u001b[0m \u001b[1m1s\u001b[0m 3ms/step - loss: 0.0110 - val_loss: 0.0108\n",
            "Epoch 27/50\n",
            "\u001b[1m139/139\u001b[0m \u001b[32m━━━━━━━━━━━━━━━━━━━━\u001b[0m\u001b[37m\u001b[0m \u001b[1m1s\u001b[0m 3ms/step - loss: 0.0114 - val_loss: 0.0107\n",
            "Epoch 28/50\n",
            "\u001b[1m139/139\u001b[0m \u001b[32m━━━━━━━━━━━━━━━━━━━━\u001b[0m\u001b[37m\u001b[0m \u001b[1m1s\u001b[0m 3ms/step - loss: 0.0110 - val_loss: 0.0107\n",
            "Epoch 29/50\n",
            "\u001b[1m139/139\u001b[0m \u001b[32m━━━━━━━━━━━━━━━━━━━━\u001b[0m\u001b[37m\u001b[0m \u001b[1m0s\u001b[0m 3ms/step - loss: 0.0112 - val_loss: 0.0106\n",
            "Epoch 30/50\n",
            "\u001b[1m139/139\u001b[0m \u001b[32m━━━━━━━━━━━━━━━━━━━━\u001b[0m\u001b[37m\u001b[0m \u001b[1m1s\u001b[0m 3ms/step - loss: 0.0107 - val_loss: 0.0105\n",
            "Epoch 31/50\n",
            "\u001b[1m139/139\u001b[0m \u001b[32m━━━━━━━━━━━━━━━━━━━━\u001b[0m\u001b[37m\u001b[0m \u001b[1m1s\u001b[0m 3ms/step - loss: 0.0112 - val_loss: 0.0105\n",
            "Epoch 32/50\n",
            "\u001b[1m139/139\u001b[0m \u001b[32m━━━━━━━━━━━━━━━━━━━━\u001b[0m\u001b[37m\u001b[0m \u001b[1m1s\u001b[0m 3ms/step - loss: 0.0111 - val_loss: 0.0104\n",
            "Epoch 33/50\n",
            "\u001b[1m139/139\u001b[0m \u001b[32m━━━━━━━━━━━━━━━━━━━━\u001b[0m\u001b[37m\u001b[0m \u001b[1m1s\u001b[0m 3ms/step - loss: 0.0108 - val_loss: 0.0104\n",
            "Epoch 34/50\n",
            "\u001b[1m139/139\u001b[0m \u001b[32m━━━━━━━━━━━━━━━━━━━━\u001b[0m\u001b[37m\u001b[0m \u001b[1m0s\u001b[0m 3ms/step - loss: 0.0106 - val_loss: 0.0104\n",
            "Epoch 35/50\n",
            "\u001b[1m139/139\u001b[0m \u001b[32m━━━━━━━━━━━━━━━━━━━━\u001b[0m\u001b[37m\u001b[0m \u001b[1m1s\u001b[0m 3ms/step - loss: 0.0104 - val_loss: 0.0103\n",
            "Epoch 36/50\n",
            "\u001b[1m139/139\u001b[0m \u001b[32m━━━━━━━━━━━━━━━━━━━━\u001b[0m\u001b[37m\u001b[0m \u001b[1m1s\u001b[0m 3ms/step - loss: 0.0108 - val_loss: 0.0102\n",
            "Epoch 37/50\n",
            "\u001b[1m139/139\u001b[0m \u001b[32m━━━━━━━━━━━━━━━━━━━━\u001b[0m\u001b[37m\u001b[0m \u001b[1m1s\u001b[0m 3ms/step - loss: 0.0109 - val_loss: 0.0102\n",
            "Epoch 38/50\n",
            "\u001b[1m139/139\u001b[0m \u001b[32m━━━━━━━━━━━━━━━━━━━━\u001b[0m\u001b[37m\u001b[0m \u001b[1m1s\u001b[0m 3ms/step - loss: 0.0106 - val_loss: 0.0101\n",
            "Epoch 39/50\n",
            "\u001b[1m139/139\u001b[0m \u001b[32m━━━━━━━━━━━━━━━━━━━━\u001b[0m\u001b[37m\u001b[0m \u001b[1m0s\u001b[0m 3ms/step - loss: 0.0106 - val_loss: 0.0101\n",
            "Epoch 40/50\n",
            "\u001b[1m139/139\u001b[0m \u001b[32m━━━━━━━━━━━━━━━━━━━━\u001b[0m\u001b[37m\u001b[0m \u001b[1m1s\u001b[0m 3ms/step - loss: 0.0103 - val_loss: 0.0101\n",
            "Epoch 41/50\n",
            "\u001b[1m139/139\u001b[0m \u001b[32m━━━━━━━━━━━━━━━━━━━━\u001b[0m\u001b[37m\u001b[0m \u001b[1m1s\u001b[0m 3ms/step - loss: 0.0101 - val_loss: 0.0100\n",
            "Epoch 42/50\n",
            "\u001b[1m139/139\u001b[0m \u001b[32m━━━━━━━━━━━━━━━━━━━━\u001b[0m\u001b[37m\u001b[0m \u001b[1m1s\u001b[0m 3ms/step - loss: 0.0105 - val_loss: 0.0099\n",
            "Epoch 43/50\n",
            "\u001b[1m139/139\u001b[0m \u001b[32m━━━━━━━━━━━━━━━━━━━━\u001b[0m\u001b[37m\u001b[0m \u001b[1m1s\u001b[0m 4ms/step - loss: 0.0102 - val_loss: 0.0099\n",
            "Epoch 44/50\n",
            "\u001b[1m139/139\u001b[0m \u001b[32m━━━━━━━━━━━━━━━━━━━━\u001b[0m\u001b[37m\u001b[0m \u001b[1m1s\u001b[0m 5ms/step - loss: 0.0101 - val_loss: 0.0099\n",
            "Epoch 45/50\n",
            "\u001b[1m139/139\u001b[0m \u001b[32m━━━━━━━━━━━━━━━━━━━━\u001b[0m\u001b[37m\u001b[0m \u001b[1m1s\u001b[0m 5ms/step - loss: 0.0101 - val_loss: 0.0099\n",
            "Epoch 46/50\n",
            "\u001b[1m139/139\u001b[0m \u001b[32m━━━━━━━━━━━━━━━━━━━━\u001b[0m\u001b[37m\u001b[0m \u001b[1m1s\u001b[0m 4ms/step - loss: 0.0104 - val_loss: 0.0098\n",
            "Epoch 47/50\n",
            "\u001b[1m139/139\u001b[0m \u001b[32m━━━━━━━━━━━━━━━━━━━━\u001b[0m\u001b[37m\u001b[0m \u001b[1m0s\u001b[0m 3ms/step - loss: 0.0100 - val_loss: 0.0097\n",
            "Epoch 48/50\n",
            "\u001b[1m139/139\u001b[0m \u001b[32m━━━━━━━━━━━━━━━━━━━━\u001b[0m\u001b[37m\u001b[0m \u001b[1m0s\u001b[0m 3ms/step - loss: 0.0101 - val_loss: 0.0098\n",
            "Epoch 49/50\n",
            "\u001b[1m139/139\u001b[0m \u001b[32m━━━━━━━━━━━━━━━━━━━━\u001b[0m\u001b[37m\u001b[0m \u001b[1m0s\u001b[0m 3ms/step - loss: 0.0098 - val_loss: 0.0097\n",
            "Epoch 50/50\n",
            "\u001b[1m139/139\u001b[0m \u001b[32m━━━━━━━━━━━━━━━━━━━━\u001b[0m\u001b[37m\u001b[0m \u001b[1m1s\u001b[0m 3ms/step - loss: 0.0103 - val_loss: 0.0097\n",
            "\u001b[1m35/35\u001b[0m \u001b[32m━━━━━━━━━━━━━━━━━━━━\u001b[0m\u001b[37m\u001b[0m \u001b[1m0s\u001b[0m 3ms/step\n",
            "🔹 AutoEncoder Performance:\n",
            "[[729  12]\n",
            " [321  44]]\n",
            "              precision    recall  f1-score   support\n",
            "\n",
            "           0       0.69      0.98      0.81       741\n",
            "           1       0.79      0.12      0.21       365\n",
            "\n",
            "    accuracy                           0.70      1106\n",
            "   macro avg       0.74      0.55      0.51      1106\n",
            "weighted avg       0.72      0.70      0.61      1106\n",
            "\n"
          ]
        }
      ]
    },
    {
      "cell_type": "code",
      "source": [
        "import tensorflow as tf\n",
        "from tensorflow import keras\n",
        "from tensorflow.keras.layers import BatchNormalization, Dropout\n",
        "\n",
        "# Define Improved AutoEncoder\n",
        "input_dim = X_train.shape[1]\n",
        "encoding_dim = 16\n",
        "\n",
        "input_layer = Input(shape=(input_dim,))\n",
        "encoded = Dense(encoding_dim, activation=\"relu\")(input_layer)\n",
        "encoded = BatchNormalization()(encoded)\n",
        "encoded = Dropout(0.2)(encoded)\n",
        "\n",
        "encoded = Dense(8, activation=\"relu\")(encoded)\n",
        "encoded = BatchNormalization()(encoded)\n",
        "encoded = Dropout(0.2)(encoded)\n",
        "\n",
        "decoded = Dense(encoding_dim, activation=\"relu\")(encoded)\n",
        "decoded = BatchNormalization()(decoded)\n",
        "decoded = Dense(input_dim, activation=\"sigmoid\")(decoded)\n",
        "\n",
        "autoencoder = Model(input_layer, decoded)\n",
        "autoencoder.compile(optimizer='adam', loss='mse')\n",
        "\n",
        "# Train the AutoEncoder\n",
        "autoencoder.fit(X_train, X_train, epochs=100, batch_size=64, shuffle=True, validation_data=(X_test, X_test))\n",
        "\n"
      ],
      "metadata": {
        "colab": {
          "base_uri": "https://localhost:8080/"
        },
        "id": "n5ouNa5jLEvs",
        "outputId": "7bb054c4-b495-4a86-9ca7-8d641b1008ac"
      },
      "execution_count": null,
      "outputs": [
        {
          "output_type": "stream",
          "name": "stdout",
          "text": [
            "Epoch 1/100\n",
            "\u001b[1m70/70\u001b[0m \u001b[32m━━━━━━━━━━━━━━━━━━━━\u001b[0m\u001b[37m\u001b[0m \u001b[1m3s\u001b[0m 8ms/step - loss: 0.1731 - val_loss: 0.1435\n",
            "Epoch 2/100\n",
            "\u001b[1m70/70\u001b[0m \u001b[32m━━━━━━━━━━━━━━━━━━━━\u001b[0m\u001b[37m\u001b[0m \u001b[1m0s\u001b[0m 4ms/step - loss: 0.1391 - val_loss: 0.1131\n",
            "Epoch 3/100\n",
            "\u001b[1m70/70\u001b[0m \u001b[32m━━━━━━━━━━━━━━━━━━━━\u001b[0m\u001b[37m\u001b[0m \u001b[1m1s\u001b[0m 4ms/step - loss: 0.1093 - val_loss: 0.0774\n",
            "Epoch 4/100\n",
            "\u001b[1m70/70\u001b[0m \u001b[32m━━━━━━━━━━━━━━━━━━━━\u001b[0m\u001b[37m\u001b[0m \u001b[1m1s\u001b[0m 5ms/step - loss: 0.0797 - val_loss: 0.0562\n",
            "Epoch 5/100\n",
            "\u001b[1m70/70\u001b[0m \u001b[32m━━━━━━━━━━━━━━━━━━━━\u001b[0m\u001b[37m\u001b[0m \u001b[1m0s\u001b[0m 5ms/step - loss: 0.0620 - val_loss: 0.0456\n",
            "Epoch 6/100\n",
            "\u001b[1m70/70\u001b[0m \u001b[32m━━━━━━━━━━━━━━━━━━━━\u001b[0m\u001b[37m\u001b[0m \u001b[1m1s\u001b[0m 5ms/step - loss: 0.0531 - val_loss: 0.0398\n",
            "Epoch 7/100\n",
            "\u001b[1m70/70\u001b[0m \u001b[32m━━━━━━━━━━━━━━━━━━━━\u001b[0m\u001b[37m\u001b[0m \u001b[1m1s\u001b[0m 5ms/step - loss: 0.0490 - val_loss: 0.0348\n",
            "Epoch 8/100\n",
            "\u001b[1m70/70\u001b[0m \u001b[32m━━━━━━━━━━━━━━━━━━━━\u001b[0m\u001b[37m\u001b[0m \u001b[1m1s\u001b[0m 5ms/step - loss: 0.0440 - val_loss: 0.0311\n",
            "Epoch 9/100\n",
            "\u001b[1m70/70\u001b[0m \u001b[32m━━━━━━━━━━━━━━━━━━━━\u001b[0m\u001b[37m\u001b[0m \u001b[1m1s\u001b[0m 4ms/step - loss: 0.0410 - val_loss: 0.0277\n",
            "Epoch 10/100\n",
            "\u001b[1m70/70\u001b[0m \u001b[32m━━━━━━━━━━━━━━━━━━━━\u001b[0m\u001b[37m\u001b[0m \u001b[1m0s\u001b[0m 4ms/step - loss: 0.0383 - val_loss: 0.0244\n",
            "Epoch 11/100\n",
            "\u001b[1m70/70\u001b[0m \u001b[32m━━━━━━━━━━━━━━━━━━━━\u001b[0m\u001b[37m\u001b[0m \u001b[1m1s\u001b[0m 4ms/step - loss: 0.0355 - val_loss: 0.0218\n",
            "Epoch 12/100\n",
            "\u001b[1m70/70\u001b[0m \u001b[32m━━━━━━━━━━━━━━━━━━━━\u001b[0m\u001b[37m\u001b[0m \u001b[1m1s\u001b[0m 7ms/step - loss: 0.0347 - val_loss: 0.0204\n",
            "Epoch 13/100\n",
            "\u001b[1m70/70\u001b[0m \u001b[32m━━━━━━━━━━━━━━━━━━━━\u001b[0m\u001b[37m\u001b[0m \u001b[1m1s\u001b[0m 8ms/step - loss: 0.0319 - val_loss: 0.0184\n",
            "Epoch 14/100\n",
            "\u001b[1m70/70\u001b[0m \u001b[32m━━━━━━━━━━━━━━━━━━━━\u001b[0m\u001b[37m\u001b[0m \u001b[1m1s\u001b[0m 8ms/step - loss: 0.0309 - val_loss: 0.0173\n",
            "Epoch 15/100\n",
            "\u001b[1m70/70\u001b[0m \u001b[32m━━━━━━━━━━━━━━━━━━━━\u001b[0m\u001b[37m\u001b[0m \u001b[1m1s\u001b[0m 8ms/step - loss: 0.0297 - val_loss: 0.0165\n",
            "Epoch 16/100\n",
            "\u001b[1m70/70\u001b[0m \u001b[32m━━━━━━━━━━━━━━━━━━━━\u001b[0m\u001b[37m\u001b[0m \u001b[1m1s\u001b[0m 8ms/step - loss: 0.0295 - val_loss: 0.0158\n",
            "Epoch 17/100\n",
            "\u001b[1m70/70\u001b[0m \u001b[32m━━━━━━━━━━━━━━━━━━━━\u001b[0m\u001b[37m\u001b[0m \u001b[1m1s\u001b[0m 7ms/step - loss: 0.0281 - val_loss: 0.0154\n",
            "Epoch 18/100\n",
            "\u001b[1m70/70\u001b[0m \u001b[32m━━━━━━━━━━━━━━━━━━━━\u001b[0m\u001b[37m\u001b[0m \u001b[1m0s\u001b[0m 5ms/step - loss: 0.0288 - val_loss: 0.0149\n",
            "Epoch 19/100\n",
            "\u001b[1m70/70\u001b[0m \u001b[32m━━━━━━━━━━━━━━━━━━━━\u001b[0m\u001b[37m\u001b[0m \u001b[1m1s\u001b[0m 4ms/step - loss: 0.0278 - val_loss: 0.0145\n",
            "Epoch 20/100\n",
            "\u001b[1m70/70\u001b[0m \u001b[32m━━━━━━━━━━━━━━━━━━━━\u001b[0m\u001b[37m\u001b[0m \u001b[1m1s\u001b[0m 5ms/step - loss: 0.0277 - val_loss: 0.0144\n",
            "Epoch 21/100\n",
            "\u001b[1m70/70\u001b[0m \u001b[32m━━━━━━━━━━━━━━━━━━━━\u001b[0m\u001b[37m\u001b[0m \u001b[1m1s\u001b[0m 4ms/step - loss: 0.0272 - val_loss: 0.0141\n",
            "Epoch 22/100\n",
            "\u001b[1m70/70\u001b[0m \u001b[32m━━━━━━━━━━━━━━━━━━━━\u001b[0m\u001b[37m\u001b[0m \u001b[1m1s\u001b[0m 4ms/step - loss: 0.0267 - val_loss: 0.0140\n",
            "Epoch 23/100\n",
            "\u001b[1m70/70\u001b[0m \u001b[32m━━━━━━━━━━━━━━━━━━━━\u001b[0m\u001b[37m\u001b[0m \u001b[1m0s\u001b[0m 4ms/step - loss: 0.0262 - val_loss: 0.0138\n",
            "Epoch 24/100\n",
            "\u001b[1m70/70\u001b[0m \u001b[32m━━━━━━━━━━━━━━━━━━━━\u001b[0m\u001b[37m\u001b[0m \u001b[1m1s\u001b[0m 5ms/step - loss: 0.0265 - val_loss: 0.0137\n",
            "Epoch 25/100\n",
            "\u001b[1m70/70\u001b[0m \u001b[32m━━━━━━━━━━━━━━━━━━━━\u001b[0m\u001b[37m\u001b[0m \u001b[1m0s\u001b[0m 5ms/step - loss: 0.0261 - val_loss: 0.0136\n",
            "Epoch 26/100\n",
            "\u001b[1m70/70\u001b[0m \u001b[32m━━━━━━━━━━━━━━━━━━━━\u001b[0m\u001b[37m\u001b[0m \u001b[1m0s\u001b[0m 5ms/step - loss: 0.0264 - val_loss: 0.0135\n",
            "Epoch 27/100\n",
            "\u001b[1m70/70\u001b[0m \u001b[32m━━━━━━━━━━━━━━━━━━━━\u001b[0m\u001b[37m\u001b[0m \u001b[1m1s\u001b[0m 4ms/step - loss: 0.0258 - val_loss: 0.0135\n",
            "Epoch 28/100\n",
            "\u001b[1m70/70\u001b[0m \u001b[32m━━━━━━━━━━━━━━━━━━━━\u001b[0m\u001b[37m\u001b[0m \u001b[1m1s\u001b[0m 4ms/step - loss: 0.0254 - val_loss: 0.0134\n",
            "Epoch 29/100\n",
            "\u001b[1m70/70\u001b[0m \u001b[32m━━━━━━━━━━━━━━━━━━━━\u001b[0m\u001b[37m\u001b[0m \u001b[1m1s\u001b[0m 7ms/step - loss: 0.0258 - val_loss: 0.0133\n",
            "Epoch 30/100\n",
            "\u001b[1m70/70\u001b[0m \u001b[32m━━━━━━━━━━━━━━━━━━━━\u001b[0m\u001b[37m\u001b[0m \u001b[1m0s\u001b[0m 5ms/step - loss: 0.0258 - val_loss: 0.0132\n",
            "Epoch 31/100\n",
            "\u001b[1m70/70\u001b[0m \u001b[32m━━━━━━━━━━━━━━━━━━━━\u001b[0m\u001b[37m\u001b[0m \u001b[1m0s\u001b[0m 5ms/step - loss: 0.0255 - val_loss: 0.0131\n",
            "Epoch 32/100\n",
            "\u001b[1m70/70\u001b[0m \u001b[32m━━━━━━━━━━━━━━━━━━━━\u001b[0m\u001b[37m\u001b[0m \u001b[1m1s\u001b[0m 4ms/step - loss: 0.0257 - val_loss: 0.0131\n",
            "Epoch 33/100\n",
            "\u001b[1m70/70\u001b[0m \u001b[32m━━━━━━━━━━━━━━━━━━━━\u001b[0m\u001b[37m\u001b[0m \u001b[1m0s\u001b[0m 4ms/step - loss: 0.0255 - val_loss: 0.0131\n",
            "Epoch 34/100\n",
            "\u001b[1m70/70\u001b[0m \u001b[32m━━━━━━━━━━━━━━━━━━━━\u001b[0m\u001b[37m\u001b[0m \u001b[1m1s\u001b[0m 4ms/step - loss: 0.0255 - val_loss: 0.0131\n",
            "Epoch 35/100\n",
            "\u001b[1m70/70\u001b[0m \u001b[32m━━━━━━━━━━━━━━━━━━━━\u001b[0m\u001b[37m\u001b[0m \u001b[1m1s\u001b[0m 6ms/step - loss: 0.0250 - val_loss: 0.0130\n",
            "Epoch 36/100\n",
            "\u001b[1m70/70\u001b[0m \u001b[32m━━━━━━━━━━━━━━━━━━━━\u001b[0m\u001b[37m\u001b[0m \u001b[1m1s\u001b[0m 8ms/step - loss: 0.0255 - val_loss: 0.0128\n",
            "Epoch 37/100\n",
            "\u001b[1m70/70\u001b[0m \u001b[32m━━━━━━━━━━━━━━━━━━━━\u001b[0m\u001b[37m\u001b[0m \u001b[1m1s\u001b[0m 8ms/step - loss: 0.0243 - val_loss: 0.0128\n",
            "Epoch 38/100\n",
            "\u001b[1m70/70\u001b[0m \u001b[32m━━━━━━━━━━━━━━━━━━━━\u001b[0m\u001b[37m\u001b[0m \u001b[1m1s\u001b[0m 8ms/step - loss: 0.0249 - val_loss: 0.0129\n",
            "Epoch 39/100\n",
            "\u001b[1m70/70\u001b[0m \u001b[32m━━━━━━━━━━━━━━━━━━━━\u001b[0m\u001b[37m\u001b[0m \u001b[1m1s\u001b[0m 7ms/step - loss: 0.0246 - val_loss: 0.0130\n",
            "Epoch 40/100\n",
            "\u001b[1m70/70\u001b[0m \u001b[32m━━━━━━━━━━━━━━━━━━━━\u001b[0m\u001b[37m\u001b[0m \u001b[1m1s\u001b[0m 8ms/step - loss: 0.0239 - val_loss: 0.0128\n",
            "Epoch 41/100\n",
            "\u001b[1m70/70\u001b[0m \u001b[32m━━━━━━━━━━━━━━━━━━━━\u001b[0m\u001b[37m\u001b[0m \u001b[1m1s\u001b[0m 7ms/step - loss: 0.0248 - val_loss: 0.0127\n",
            "Epoch 42/100\n",
            "\u001b[1m70/70\u001b[0m \u001b[32m━━━━━━━━━━━━━━━━━━━━\u001b[0m\u001b[37m\u001b[0m \u001b[1m1s\u001b[0m 6ms/step - loss: 0.0245 - val_loss: 0.0128\n",
            "Epoch 43/100\n",
            "\u001b[1m70/70\u001b[0m \u001b[32m━━━━━━━━━━━━━━━━━━━━\u001b[0m\u001b[37m\u001b[0m \u001b[1m1s\u001b[0m 5ms/step - loss: 0.0240 - val_loss: 0.0127\n",
            "Epoch 44/100\n",
            "\u001b[1m70/70\u001b[0m \u001b[32m━━━━━━━━━━━━━━━━━━━━\u001b[0m\u001b[37m\u001b[0m \u001b[1m1s\u001b[0m 4ms/step - loss: 0.0248 - val_loss: 0.0127\n",
            "Epoch 45/100\n",
            "\u001b[1m70/70\u001b[0m \u001b[32m━━━━━━━━━━━━━━━━━━━━\u001b[0m\u001b[37m\u001b[0m \u001b[1m0s\u001b[0m 4ms/step - loss: 0.0244 - val_loss: 0.0127\n",
            "Epoch 46/100\n",
            "\u001b[1m70/70\u001b[0m \u001b[32m━━━━━━━━━━━━━━━━━━━━\u001b[0m\u001b[37m\u001b[0m \u001b[1m0s\u001b[0m 4ms/step - loss: 0.0243 - val_loss: 0.0127\n",
            "Epoch 47/100\n",
            "\u001b[1m70/70\u001b[0m \u001b[32m━━━━━━━━━━━━━━━━━━━━\u001b[0m\u001b[37m\u001b[0m \u001b[1m1s\u001b[0m 5ms/step - loss: 0.0234 - val_loss: 0.0126\n",
            "Epoch 48/100\n",
            "\u001b[1m70/70\u001b[0m \u001b[32m━━━━━━━━━━━━━━━━━━━━\u001b[0m\u001b[37m\u001b[0m \u001b[1m1s\u001b[0m 4ms/step - loss: 0.0236 - val_loss: 0.0126\n",
            "Epoch 49/100\n",
            "\u001b[1m70/70\u001b[0m \u001b[32m━━━━━━━━━━━━━━━━━━━━\u001b[0m\u001b[37m\u001b[0m \u001b[1m1s\u001b[0m 5ms/step - loss: 0.0244 - val_loss: 0.0126\n",
            "Epoch 50/100\n",
            "\u001b[1m70/70\u001b[0m \u001b[32m━━━━━━━━━━━━━━━━━━━━\u001b[0m\u001b[37m\u001b[0m \u001b[1m0s\u001b[0m 5ms/step - loss: 0.0238 - val_loss: 0.0125\n",
            "Epoch 51/100\n",
            "\u001b[1m70/70\u001b[0m \u001b[32m━━━━━━━━━━━━━━━━━━━━\u001b[0m\u001b[37m\u001b[0m \u001b[1m0s\u001b[0m 4ms/step - loss: 0.0238 - val_loss: 0.0126\n",
            "Epoch 52/100\n",
            "\u001b[1m70/70\u001b[0m \u001b[32m━━━━━━━━━━━━━━━━━━━━\u001b[0m\u001b[37m\u001b[0m \u001b[1m0s\u001b[0m 5ms/step - loss: 0.0233 - val_loss: 0.0126\n",
            "Epoch 53/100\n",
            "\u001b[1m70/70\u001b[0m \u001b[32m━━━━━━━━━━━━━━━━━━━━\u001b[0m\u001b[37m\u001b[0m \u001b[1m0s\u001b[0m 4ms/step - loss: 0.0236 - val_loss: 0.0124\n",
            "Epoch 54/100\n",
            "\u001b[1m70/70\u001b[0m \u001b[32m━━━━━━━━━━━━━━━━━━━━\u001b[0m\u001b[37m\u001b[0m \u001b[1m0s\u001b[0m 4ms/step - loss: 0.0240 - val_loss: 0.0124\n",
            "Epoch 55/100\n",
            "\u001b[1m70/70\u001b[0m \u001b[32m━━━━━━━━━━━━━━━━━━━━\u001b[0m\u001b[37m\u001b[0m \u001b[1m0s\u001b[0m 4ms/step - loss: 0.0242 - val_loss: 0.0124\n",
            "Epoch 56/100\n",
            "\u001b[1m70/70\u001b[0m \u001b[32m━━━━━━━━━━━━━━━━━━━━\u001b[0m\u001b[37m\u001b[0m \u001b[1m1s\u001b[0m 5ms/step - loss: 0.0243 - val_loss: 0.0123\n",
            "Epoch 57/100\n",
            "\u001b[1m70/70\u001b[0m \u001b[32m━━━━━━━━━━━━━━━━━━━━\u001b[0m\u001b[37m\u001b[0m \u001b[1m1s\u001b[0m 4ms/step - loss: 0.0233 - val_loss: 0.0124\n",
            "Epoch 58/100\n",
            "\u001b[1m70/70\u001b[0m \u001b[32m━━━━━━━━━━━━━━━━━━━━\u001b[0m\u001b[37m\u001b[0m \u001b[1m1s\u001b[0m 5ms/step - loss: 0.0244 - val_loss: 0.0124\n",
            "Epoch 59/100\n",
            "\u001b[1m70/70\u001b[0m \u001b[32m━━━━━━━━━━━━━━━━━━━━\u001b[0m\u001b[37m\u001b[0m \u001b[1m0s\u001b[0m 4ms/step - loss: 0.0231 - val_loss: 0.0123\n",
            "Epoch 60/100\n",
            "\u001b[1m70/70\u001b[0m \u001b[32m━━━━━━━━━━━━━━━━━━━━\u001b[0m\u001b[37m\u001b[0m \u001b[1m1s\u001b[0m 5ms/step - loss: 0.0230 - val_loss: 0.0123\n",
            "Epoch 61/100\n",
            "\u001b[1m70/70\u001b[0m \u001b[32m━━━━━━━━━━━━━━━━━━━━\u001b[0m\u001b[37m\u001b[0m \u001b[1m0s\u001b[0m 5ms/step - loss: 0.0233 - val_loss: 0.0123\n",
            "Epoch 62/100\n",
            "\u001b[1m70/70\u001b[0m \u001b[32m━━━━━━━━━━━━━━━━━━━━\u001b[0m\u001b[37m\u001b[0m \u001b[1m0s\u001b[0m 6ms/step - loss: 0.0232 - val_loss: 0.0123\n",
            "Epoch 63/100\n",
            "\u001b[1m70/70\u001b[0m \u001b[32m━━━━━━━━━━━━━━━━━━━━\u001b[0m\u001b[37m\u001b[0m \u001b[1m0s\u001b[0m 5ms/step - loss: 0.0233 - val_loss: 0.0123\n",
            "Epoch 64/100\n",
            "\u001b[1m70/70\u001b[0m \u001b[32m━━━━━━━━━━━━━━━━━━━━\u001b[0m\u001b[37m\u001b[0m \u001b[1m1s\u001b[0m 8ms/step - loss: 0.0238 - val_loss: 0.0122\n",
            "Epoch 65/100\n",
            "\u001b[1m70/70\u001b[0m \u001b[32m━━━━━━━━━━━━━━━━━━━━\u001b[0m\u001b[37m\u001b[0m \u001b[1m1s\u001b[0m 9ms/step - loss: 0.0237 - val_loss: 0.0121\n",
            "Epoch 66/100\n",
            "\u001b[1m70/70\u001b[0m \u001b[32m━━━━━━━━━━━━━━━━━━━━\u001b[0m\u001b[37m\u001b[0m \u001b[1m1s\u001b[0m 7ms/step - loss: 0.0232 - val_loss: 0.0123\n",
            "Epoch 67/100\n",
            "\u001b[1m70/70\u001b[0m \u001b[32m━━━━━━━━━━━━━━━━━━━━\u001b[0m\u001b[37m\u001b[0m \u001b[1m1s\u001b[0m 7ms/step - loss: 0.0232 - val_loss: 0.0122\n",
            "Epoch 68/100\n",
            "\u001b[1m70/70\u001b[0m \u001b[32m━━━━━━━━━━━━━━━━━━━━\u001b[0m\u001b[37m\u001b[0m \u001b[1m1s\u001b[0m 8ms/step - loss: 0.0233 - val_loss: 0.0123\n",
            "Epoch 69/100\n",
            "\u001b[1m70/70\u001b[0m \u001b[32m━━━━━━━━━━━━━━━━━━━━\u001b[0m\u001b[37m\u001b[0m \u001b[1m1s\u001b[0m 7ms/step - loss: 0.0241 - val_loss: 0.0122\n",
            "Epoch 70/100\n",
            "\u001b[1m70/70\u001b[0m \u001b[32m━━━━━━━━━━━━━━━━━━━━\u001b[0m\u001b[37m\u001b[0m \u001b[1m0s\u001b[0m 5ms/step - loss: 0.0228 - val_loss: 0.0122\n",
            "Epoch 71/100\n",
            "\u001b[1m70/70\u001b[0m \u001b[32m━━━━━━━━━━━━━━━━━━━━\u001b[0m\u001b[37m\u001b[0m \u001b[1m0s\u001b[0m 4ms/step - loss: 0.0231 - val_loss: 0.0122\n",
            "Epoch 72/100\n",
            "\u001b[1m70/70\u001b[0m \u001b[32m━━━━━━━━━━━━━━━━━━━━\u001b[0m\u001b[37m\u001b[0m \u001b[1m1s\u001b[0m 5ms/step - loss: 0.0242 - val_loss: 0.0121\n",
            "Epoch 73/100\n",
            "\u001b[1m70/70\u001b[0m \u001b[32m━━━━━━━━━━━━━━━━━━━━\u001b[0m\u001b[37m\u001b[0m \u001b[1m1s\u001b[0m 4ms/step - loss: 0.0237 - val_loss: 0.0122\n",
            "Epoch 74/100\n",
            "\u001b[1m70/70\u001b[0m \u001b[32m━━━━━━━━━━━━━━━━━━━━\u001b[0m\u001b[37m\u001b[0m \u001b[1m1s\u001b[0m 4ms/step - loss: 0.0224 - val_loss: 0.0121\n",
            "Epoch 75/100\n",
            "\u001b[1m70/70\u001b[0m \u001b[32m━━━━━━━━━━━━━━━━━━━━\u001b[0m\u001b[37m\u001b[0m \u001b[1m1s\u001b[0m 5ms/step - loss: 0.0231 - val_loss: 0.0121\n",
            "Epoch 76/100\n",
            "\u001b[1m70/70\u001b[0m \u001b[32m━━━━━━━━━━━━━━━━━━━━\u001b[0m\u001b[37m\u001b[0m \u001b[1m1s\u001b[0m 4ms/step - loss: 0.0233 - val_loss: 0.0122\n",
            "Epoch 77/100\n",
            "\u001b[1m70/70\u001b[0m \u001b[32m━━━━━━━━━━━━━━━━━━━━\u001b[0m\u001b[37m\u001b[0m \u001b[1m0s\u001b[0m 5ms/step - loss: 0.0237 - val_loss: 0.0121\n",
            "Epoch 78/100\n",
            "\u001b[1m70/70\u001b[0m \u001b[32m━━━━━━━━━━━━━━━━━━━━\u001b[0m\u001b[37m\u001b[0m \u001b[1m1s\u001b[0m 4ms/step - loss: 0.0234 - val_loss: 0.0121\n",
            "Epoch 79/100\n",
            "\u001b[1m70/70\u001b[0m \u001b[32m━━━━━━━━━━━━━━━━━━━━\u001b[0m\u001b[37m\u001b[0m \u001b[1m0s\u001b[0m 4ms/step - loss: 0.0223 - val_loss: 0.0121\n",
            "Epoch 80/100\n",
            "\u001b[1m70/70\u001b[0m \u001b[32m━━━━━━━━━━━━━━━━━━━━\u001b[0m\u001b[37m\u001b[0m \u001b[1m1s\u001b[0m 4ms/step - loss: 0.0229 - val_loss: 0.0121\n",
            "Epoch 81/100\n",
            "\u001b[1m70/70\u001b[0m \u001b[32m━━━━━━━━━━━━━━━━━━━━\u001b[0m\u001b[37m\u001b[0m \u001b[1m1s\u001b[0m 5ms/step - loss: 0.0221 - val_loss: 0.0121\n",
            "Epoch 82/100\n",
            "\u001b[1m70/70\u001b[0m \u001b[32m━━━━━━━━━━━━━━━━━━━━\u001b[0m\u001b[37m\u001b[0m \u001b[1m1s\u001b[0m 5ms/step - loss: 0.0237 - val_loss: 0.0121\n",
            "Epoch 83/100\n",
            "\u001b[1m70/70\u001b[0m \u001b[32m━━━━━━━━━━━━━━━━━━━━\u001b[0m\u001b[37m\u001b[0m \u001b[1m0s\u001b[0m 5ms/step - loss: 0.0234 - val_loss: 0.0120\n",
            "Epoch 84/100\n",
            "\u001b[1m70/70\u001b[0m \u001b[32m━━━━━━━━━━━━━━━━━━━━\u001b[0m\u001b[37m\u001b[0m \u001b[1m1s\u001b[0m 4ms/step - loss: 0.0231 - val_loss: 0.0119\n",
            "Epoch 85/100\n",
            "\u001b[1m70/70\u001b[0m \u001b[32m━━━━━━━━━━━━━━━━━━━━\u001b[0m\u001b[37m\u001b[0m \u001b[1m0s\u001b[0m 5ms/step - loss: 0.0230 - val_loss: 0.0119\n",
            "Epoch 86/100\n",
            "\u001b[1m70/70\u001b[0m \u001b[32m━━━━━━━━━━━━━━━━━━━━\u001b[0m\u001b[37m\u001b[0m \u001b[1m0s\u001b[0m 5ms/step - loss: 0.0231 - val_loss: 0.0120\n",
            "Epoch 87/100\n",
            "\u001b[1m70/70\u001b[0m \u001b[32m━━━━━━━━━━━━━━━━━━━━\u001b[0m\u001b[37m\u001b[0m \u001b[1m1s\u001b[0m 4ms/step - loss: 0.0227 - val_loss: 0.0119\n",
            "Epoch 88/100\n",
            "\u001b[1m70/70\u001b[0m \u001b[32m━━━━━━━━━━━━━━━━━━━━\u001b[0m\u001b[37m\u001b[0m \u001b[1m1s\u001b[0m 4ms/step - loss: 0.0235 - val_loss: 0.0119\n",
            "Epoch 89/100\n",
            "\u001b[1m70/70\u001b[0m \u001b[32m━━━━━━━━━━━━━━━━━━━━\u001b[0m\u001b[37m\u001b[0m \u001b[1m0s\u001b[0m 6ms/step - loss: 0.0228 - val_loss: 0.0120\n",
            "Epoch 90/100\n",
            "\u001b[1m70/70\u001b[0m \u001b[32m━━━━━━━━━━━━━━━━━━━━\u001b[0m\u001b[37m\u001b[0m \u001b[1m1s\u001b[0m 7ms/step - loss: 0.0224 - val_loss: 0.0119\n",
            "Epoch 91/100\n",
            "\u001b[1m70/70\u001b[0m \u001b[32m━━━━━━━━━━━━━━━━━━━━\u001b[0m\u001b[37m\u001b[0m \u001b[1m1s\u001b[0m 8ms/step - loss: 0.0228 - val_loss: 0.0119\n",
            "Epoch 92/100\n",
            "\u001b[1m70/70\u001b[0m \u001b[32m━━━━━━━━━━━━━━━━━━━━\u001b[0m\u001b[37m\u001b[0m \u001b[1m1s\u001b[0m 7ms/step - loss: 0.0230 - val_loss: 0.0118\n",
            "Epoch 93/100\n",
            "\u001b[1m70/70\u001b[0m \u001b[32m━━━━━━━━━━━━━━━━━━━━\u001b[0m\u001b[37m\u001b[0m \u001b[1m1s\u001b[0m 7ms/step - loss: 0.0236 - val_loss: 0.0118\n",
            "Epoch 94/100\n",
            "\u001b[1m70/70\u001b[0m \u001b[32m━━━━━━━━━━━━━━━━━━━━\u001b[0m\u001b[37m\u001b[0m \u001b[1m1s\u001b[0m 8ms/step - loss: 0.0227 - val_loss: 0.0118\n",
            "Epoch 95/100\n",
            "\u001b[1m70/70\u001b[0m \u001b[32m━━━━━━━━━━━━━━━━━━━━\u001b[0m\u001b[37m\u001b[0m \u001b[1m0s\u001b[0m 5ms/step - loss: 0.0227 - val_loss: 0.0118\n",
            "Epoch 96/100\n",
            "\u001b[1m70/70\u001b[0m \u001b[32m━━━━━━━━━━━━━━━━━━━━\u001b[0m\u001b[37m\u001b[0m \u001b[1m1s\u001b[0m 4ms/step - loss: 0.0229 - val_loss: 0.0118\n",
            "Epoch 97/100\n",
            "\u001b[1m70/70\u001b[0m \u001b[32m━━━━━━━━━━━━━━━━━━━━\u001b[0m\u001b[37m\u001b[0m \u001b[1m0s\u001b[0m 4ms/step - loss: 0.0228 - val_loss: 0.0117\n",
            "Epoch 98/100\n",
            "\u001b[1m70/70\u001b[0m \u001b[32m━━━━━━━━━━━━━━━━━━━━\u001b[0m\u001b[37m\u001b[0m \u001b[1m1s\u001b[0m 5ms/step - loss: 0.0221 - val_loss: 0.0117\n",
            "Epoch 99/100\n",
            "\u001b[1m70/70\u001b[0m \u001b[32m━━━━━━━━━━━━━━━━━━━━\u001b[0m\u001b[37m\u001b[0m \u001b[1m0s\u001b[0m 5ms/step - loss: 0.0228 - val_loss: 0.0117\n",
            "Epoch 100/100\n",
            "\u001b[1m70/70\u001b[0m \u001b[32m━━━━━━━━━━━━━━━━━━━━\u001b[0m\u001b[37m\u001b[0m \u001b[1m1s\u001b[0m 4ms/step - loss: 0.0228 - val_loss: 0.0117\n"
          ]
        },
        {
          "output_type": "execute_result",
          "data": {
            "text/plain": [
              "<keras.src.callbacks.history.History at 0x7b46213705d0>"
            ]
          },
          "metadata": {},
          "execution_count": 25
        }
      ]
    },
    {
      "cell_type": "code",
      "source": [
        "# Get reconstructed test data\n",
        "X_test_reconstructed = autoencoder.predict(X_test)\n",
        "\n",
        "# Compute reconstruction error (Mean Absolute Error)\n",
        "reconstruction_error = np.mean(np.abs(X_test - X_test_reconstructed), axis=1)\n",
        "\n",
        "# Display error statistics\n",
        "print(\"Reconstruction Error - Min:\", reconstruction_error.min())\n",
        "print(\"Reconstruction Error - Max:\", reconstruction_error.max())\n",
        "print(\"Reconstruction Error - Mean:\", reconstruction_error.mean())\n"
      ],
      "metadata": {
        "colab": {
          "base_uri": "https://localhost:8080/"
        },
        "id": "g1HRkfCJMJSf",
        "outputId": "1652f557-e817-438f-fc1d-5cb6cc6bcb08"
      },
      "execution_count": null,
      "outputs": [
        {
          "output_type": "stream",
          "name": "stdout",
          "text": [
            "\u001b[1m35/35\u001b[0m \u001b[32m━━━━━━━━━━━━━━━━━━━━\u001b[0m\u001b[37m\u001b[0m \u001b[1m1s\u001b[0m 9ms/step\n",
            "Reconstruction Error - Min: 0.02307900416000903\n",
            "Reconstruction Error - Max: 0.16736069433254083\n",
            "Reconstruction Error - Mean: 0.057874663224861914\n"
          ]
        }
      ]
    },
    {
      "cell_type": "code",
      "source": [
        "# Define threshold for anomalies (95th percentile)\n",
        "threshold = np.percentile(reconstruction_error, 95)\n",
        "\n",
        "print(f\"Anomaly Detection Threshold: {threshold}\")\n"
      ],
      "metadata": {
        "colab": {
          "base_uri": "https://localhost:8080/"
        },
        "id": "8u2kBkKRMSPb",
        "outputId": "b3cade87-bd66-4d7e-b735-e06bd0e79d2b"
      },
      "execution_count": null,
      "outputs": [
        {
          "output_type": "stream",
          "name": "stdout",
          "text": [
            "Anomaly Detection Threshold: 0.08272723026539991\n"
          ]
        }
      ]
    },
    {
      "cell_type": "code",
      "source": [
        "# Classify anomalies\n",
        "y_pred_ae = [1 if e > threshold else 0 for e in reconstruction_error]\n",
        "\n",
        "# Evaluate AutoEncoder Performance\n",
        "from sklearn.metrics import confusion_matrix, classification_report\n",
        "\n",
        "print(\"🔹 AutoEncoder (Improved) Performance:\")\n",
        "print(confusion_matrix(y_test, y_pred_ae))\n",
        "print(classification_report(y_test, y_pred_ae))\n"
      ],
      "metadata": {
        "colab": {
          "base_uri": "https://localhost:8080/"
        },
        "id": "sTuRY5zQMXkC",
        "outputId": "c883f45e-485e-4bb2-abd1-4366612802d0"
      },
      "execution_count": null,
      "outputs": [
        {
          "output_type": "stream",
          "name": "stdout",
          "text": [
            "🔹 AutoEncoder (Improved) Performance:\n",
            "[[728  13]\n",
            " [322  43]]\n",
            "              precision    recall  f1-score   support\n",
            "\n",
            "           0       0.69      0.98      0.81       741\n",
            "           1       0.77      0.12      0.20       365\n",
            "\n",
            "    accuracy                           0.70      1106\n",
            "   macro avg       0.73      0.55      0.51      1106\n",
            "weighted avg       0.72      0.70      0.61      1106\n",
            "\n"
          ]
        }
      ]
    },
    {
      "cell_type": "markdown",
      "source": [
        "Reshape Data for LSTM"
      ],
      "metadata": {
        "id": "L8EMEgR7M5tE"
      }
    },
    {
      "cell_type": "code",
      "source": [
        "# Determine a valid time step size\n",
        "time_steps = 2  # Start with 2 and try increasing if necessary\n",
        "input_dim = X_train.shape[1] // time_steps  # Compute new feature size\n",
        "\n",
        "# Ensure feature count is divisible by time_steps\n",
        "X_train_trimmed = X_train.iloc[:, :input_dim * time_steps]\n",
        "X_test_trimmed = X_test.iloc[:, :input_dim * time_steps]\n",
        "\n",
        "# Reshape\n",
        "X_train_lstm = np.reshape(X_train_trimmed.values, (X_train_trimmed.shape[0], time_steps, -1))\n",
        "X_test_lstm = np.reshape(X_test_trimmed.values, (X_test_trimmed.shape[0], time_steps, -1))\n",
        "\n",
        "print(\"✅ LSTM Input Shape:\", X_train_lstm.shape)\n"
      ],
      "metadata": {
        "colab": {
          "base_uri": "https://localhost:8080/"
        },
        "id": "0vrq4ViEOaVk",
        "outputId": "44010897-7bc3-4f6a-8c95-199da057d2d2"
      },
      "execution_count": null,
      "outputs": [
        {
          "output_type": "stream",
          "name": "stdout",
          "text": [
            "✅ LSTM Input Shape: (4421, 2, 21)\n"
          ]
        }
      ]
    },
    {
      "cell_type": "code",
      "source": [
        "\n",
        "# Define time steps (how many past observations to use)\n",
        "time_steps = 5\n",
        "\n",
        "# Reshape training and test data\n",
        "X_train_lstm = np.reshape(X_train.values, (X_train.shape[0], time_steps, X_train.shape[1] // time_steps))\n",
        "X_test_lstm = np.reshape(X_test.values, (X_test.shape[0], time_steps, X_test.shape[1] // time_steps))\n",
        "\n",
        "print(\"LSTM Input Shape:\", X_train_lstm.shape)\n"
      ],
      "metadata": {
        "colab": {
          "base_uri": "https://localhost:8080/",
          "height": 356
        },
        "id": "NtZF-IDpM6Un",
        "outputId": "fb3419ce-c914-403c-ecda-ec61b11aa128"
      },
      "execution_count": null,
      "outputs": [
        {
          "output_type": "error",
          "ename": "ValueError",
          "evalue": "cannot reshape array of size 190103 into shape (4421,5,8)",
          "traceback": [
            "\u001b[0;31m---------------------------------------------------------------------------\u001b[0m",
            "\u001b[0;31mValueError\u001b[0m                                Traceback (most recent call last)",
            "\u001b[0;32m<ipython-input-36-5b4f52cfb361>\u001b[0m in \u001b[0;36m<cell line: 0>\u001b[0;34m()\u001b[0m\n\u001b[1;32m      5\u001b[0m \u001b[0;34m\u001b[0m\u001b[0m\n\u001b[1;32m      6\u001b[0m \u001b[0;31m# Reshape training and test data\u001b[0m\u001b[0;34m\u001b[0m\u001b[0;34m\u001b[0m\u001b[0m\n\u001b[0;32m----> 7\u001b[0;31m \u001b[0mX_train_lstm\u001b[0m \u001b[0;34m=\u001b[0m \u001b[0mnp\u001b[0m\u001b[0;34m.\u001b[0m\u001b[0mreshape\u001b[0m\u001b[0;34m(\u001b[0m\u001b[0mX_train\u001b[0m\u001b[0;34m.\u001b[0m\u001b[0mvalues\u001b[0m\u001b[0;34m,\u001b[0m \u001b[0;34m(\u001b[0m\u001b[0mX_train\u001b[0m\u001b[0;34m.\u001b[0m\u001b[0mshape\u001b[0m\u001b[0;34m[\u001b[0m\u001b[0;36m0\u001b[0m\u001b[0;34m]\u001b[0m\u001b[0;34m,\u001b[0m \u001b[0mtime_steps\u001b[0m\u001b[0;34m,\u001b[0m \u001b[0mX_train\u001b[0m\u001b[0;34m.\u001b[0m\u001b[0mshape\u001b[0m\u001b[0;34m[\u001b[0m\u001b[0;36m1\u001b[0m\u001b[0;34m]\u001b[0m \u001b[0;34m//\u001b[0m \u001b[0mtime_steps\u001b[0m\u001b[0;34m)\u001b[0m\u001b[0;34m)\u001b[0m\u001b[0;34m\u001b[0m\u001b[0;34m\u001b[0m\u001b[0m\n\u001b[0m\u001b[1;32m      8\u001b[0m \u001b[0mX_test_lstm\u001b[0m \u001b[0;34m=\u001b[0m \u001b[0mnp\u001b[0m\u001b[0;34m.\u001b[0m\u001b[0mreshape\u001b[0m\u001b[0;34m(\u001b[0m\u001b[0mX_test\u001b[0m\u001b[0;34m.\u001b[0m\u001b[0mvalues\u001b[0m\u001b[0;34m,\u001b[0m \u001b[0;34m(\u001b[0m\u001b[0mX_test\u001b[0m\u001b[0;34m.\u001b[0m\u001b[0mshape\u001b[0m\u001b[0;34m[\u001b[0m\u001b[0;36m0\u001b[0m\u001b[0;34m]\u001b[0m\u001b[0;34m,\u001b[0m \u001b[0mtime_steps\u001b[0m\u001b[0;34m,\u001b[0m \u001b[0mX_test\u001b[0m\u001b[0;34m.\u001b[0m\u001b[0mshape\u001b[0m\u001b[0;34m[\u001b[0m\u001b[0;36m1\u001b[0m\u001b[0;34m]\u001b[0m \u001b[0;34m//\u001b[0m \u001b[0mtime_steps\u001b[0m\u001b[0;34m)\u001b[0m\u001b[0;34m)\u001b[0m\u001b[0;34m\u001b[0m\u001b[0;34m\u001b[0m\u001b[0m\n\u001b[1;32m      9\u001b[0m \u001b[0;34m\u001b[0m\u001b[0m\n",
            "\u001b[0;32m/usr/local/lib/python3.11/dist-packages/numpy/core/fromnumeric.py\u001b[0m in \u001b[0;36mreshape\u001b[0;34m(a, newshape, order)\u001b[0m\n\u001b[1;32m    283\u001b[0m            [5, 6]])\n\u001b[1;32m    284\u001b[0m     \"\"\"\n\u001b[0;32m--> 285\u001b[0;31m     \u001b[0;32mreturn\u001b[0m \u001b[0m_wrapfunc\u001b[0m\u001b[0;34m(\u001b[0m\u001b[0ma\u001b[0m\u001b[0;34m,\u001b[0m \u001b[0;34m'reshape'\u001b[0m\u001b[0;34m,\u001b[0m \u001b[0mnewshape\u001b[0m\u001b[0;34m,\u001b[0m \u001b[0morder\u001b[0m\u001b[0;34m=\u001b[0m\u001b[0morder\u001b[0m\u001b[0;34m)\u001b[0m\u001b[0;34m\u001b[0m\u001b[0;34m\u001b[0m\u001b[0m\n\u001b[0m\u001b[1;32m    286\u001b[0m \u001b[0;34m\u001b[0m\u001b[0m\n\u001b[1;32m    287\u001b[0m \u001b[0;34m\u001b[0m\u001b[0m\n",
            "\u001b[0;32m/usr/local/lib/python3.11/dist-packages/numpy/core/fromnumeric.py\u001b[0m in \u001b[0;36m_wrapfunc\u001b[0;34m(obj, method, *args, **kwds)\u001b[0m\n\u001b[1;32m     57\u001b[0m \u001b[0;34m\u001b[0m\u001b[0m\n\u001b[1;32m     58\u001b[0m     \u001b[0;32mtry\u001b[0m\u001b[0;34m:\u001b[0m\u001b[0;34m\u001b[0m\u001b[0;34m\u001b[0m\u001b[0m\n\u001b[0;32m---> 59\u001b[0;31m         \u001b[0;32mreturn\u001b[0m \u001b[0mbound\u001b[0m\u001b[0;34m(\u001b[0m\u001b[0;34m*\u001b[0m\u001b[0margs\u001b[0m\u001b[0;34m,\u001b[0m \u001b[0;34m**\u001b[0m\u001b[0mkwds\u001b[0m\u001b[0;34m)\u001b[0m\u001b[0;34m\u001b[0m\u001b[0;34m\u001b[0m\u001b[0m\n\u001b[0m\u001b[1;32m     60\u001b[0m     \u001b[0;32mexcept\u001b[0m \u001b[0mTypeError\u001b[0m\u001b[0;34m:\u001b[0m\u001b[0;34m\u001b[0m\u001b[0;34m\u001b[0m\u001b[0m\n\u001b[1;32m     61\u001b[0m         \u001b[0;31m# A TypeError occurs if the object does have such a method in its\u001b[0m\u001b[0;34m\u001b[0m\u001b[0;34m\u001b[0m\u001b[0m\n",
            "\u001b[0;31mValueError\u001b[0m: cannot reshape array of size 190103 into shape (4421,5,8)"
          ]
        }
      ]
    },
    {
      "cell_type": "markdown",
      "source": [
        "Define & Train LSTM AutoEncode"
      ],
      "metadata": {
        "id": "jaHUZC79M9q-"
      }
    },
    {
      "cell_type": "code",
      "source": [
        "import numpy as np\n",
        "import tensorflow as tf\n",
        "from tensorflow.keras.models import Model\n",
        "from tensorflow.keras.layers import Input, Dense, LSTM, RepeatVector, TimeDistributed\n",
        "\n",
        "\n",
        "# Define LSTM AutoEncoder Model\n",
        "input_dim = X_train_lstm.shape[2]  # Number of features per time step\n",
        "\n",
        "input_layer = Input(shape=(time_steps, input_dim))\n",
        "encoded = LSTM(64, activation=\"relu\", return_sequences=True)(input_layer)\n",
        "encoded = LSTM(32, activation=\"relu\", return_sequences=False)(encoded)\n",
        "\n",
        "decoded = RepeatVector(time_steps)(encoded)\n",
        "decoded = LSTM(32, activation=\"relu\", return_sequences=True)(decoded)\n",
        "decoded = LSTM(64, activation=\"relu\", return_sequences=True)(decoded)\n",
        "decoded = TimeDistributed(Dense(input_dim))(decoded)\n",
        "\n",
        "lstm_autoencoder = Model(input_layer, decoded)\n",
        "lstm_autoencoder.compile(optimizer=\"adam\", loss=\"mse\")\n",
        "\n",
        "# Train LSTM AutoEncoder\n",
        "lstm_autoencoder.fit(X_train_lstm, X_train_lstm, epochs=50, batch_size=32, validation_data=(X_test_lstm, X_test_lstm))\n"
      ],
      "metadata": {
        "colab": {
          "base_uri": "https://localhost:8080/"
        },
        "id": "r48D3SZbM-Rd",
        "outputId": "24b607ba-2605-44b0-e0b2-f970307dc3ed"
      },
      "execution_count": null,
      "outputs": [
        {
          "output_type": "stream",
          "name": "stdout",
          "text": [
            "Epoch 1/50\n",
            "\u001b[1m139/139\u001b[0m \u001b[32m━━━━━━━━━━━━━━━━━━━━\u001b[0m\u001b[37m\u001b[0m \u001b[1m11s\u001b[0m 16ms/step - loss: 0.2453 - val_loss: 0.0808\n",
            "Epoch 2/50\n",
            "\u001b[1m139/139\u001b[0m \u001b[32m━━━━━━━━━━━━━━━━━━━━\u001b[0m\u001b[37m\u001b[0m \u001b[1m2s\u001b[0m 14ms/step - loss: 0.0793 - val_loss: 0.0559\n",
            "Epoch 3/50\n",
            "\u001b[1m139/139\u001b[0m \u001b[32m━━━━━━━━━━━━━━━━━━━━\u001b[0m\u001b[37m\u001b[0m \u001b[1m2s\u001b[0m 9ms/step - loss: 0.0477 - val_loss: 0.0296\n",
            "Epoch 4/50\n",
            "\u001b[1m139/139\u001b[0m \u001b[32m━━━━━━━━━━━━━━━━━━━━\u001b[0m\u001b[37m\u001b[0m \u001b[1m3s\u001b[0m 15ms/step - loss: 0.0273 - val_loss: 0.0219\n",
            "Epoch 5/50\n",
            "\u001b[1m139/139\u001b[0m \u001b[32m━━━━━━━━━━━━━━━━━━━━\u001b[0m\u001b[37m\u001b[0m \u001b[1m2s\u001b[0m 10ms/step - loss: 0.0202 - val_loss: 0.0146\n",
            "Epoch 6/50\n",
            "\u001b[1m139/139\u001b[0m \u001b[32m━━━━━━━━━━━━━━━━━━━━\u001b[0m\u001b[37m\u001b[0m \u001b[1m2s\u001b[0m 9ms/step - loss: 0.0143 - val_loss: 0.0127\n",
            "Epoch 7/50\n",
            "\u001b[1m139/139\u001b[0m \u001b[32m━━━━━━━━━━━━━━━━━━━━\u001b[0m\u001b[37m\u001b[0m \u001b[1m3s\u001b[0m 9ms/step - loss: 0.0128 - val_loss: 0.0114\n",
            "Epoch 8/50\n",
            "\u001b[1m139/139\u001b[0m \u001b[32m━━━━━━━━━━━━━━━━━━━━\u001b[0m\u001b[37m\u001b[0m \u001b[1m3s\u001b[0m 9ms/step - loss: 0.0116 - val_loss: 0.0100\n",
            "Epoch 9/50\n",
            "\u001b[1m139/139\u001b[0m \u001b[32m━━━━━━━━━━━━━━━━━━━━\u001b[0m\u001b[37m\u001b[0m \u001b[1m3s\u001b[0m 15ms/step - loss: 0.0102 - val_loss: 0.0090\n",
            "Epoch 10/50\n",
            "\u001b[1m139/139\u001b[0m \u001b[32m━━━━━━━━━━━━━━━━━━━━\u001b[0m\u001b[37m\u001b[0m \u001b[1m2s\u001b[0m 15ms/step - loss: 0.0087 - val_loss: 0.0079\n",
            "Epoch 11/50\n",
            "\u001b[1m139/139\u001b[0m \u001b[32m━━━━━━━━━━━━━━━━━━━━\u001b[0m\u001b[37m\u001b[0m \u001b[1m2s\u001b[0m 11ms/step - loss: 0.0080 - val_loss: 0.0071\n",
            "Epoch 12/50\n",
            "\u001b[1m139/139\u001b[0m \u001b[32m━━━━━━━━━━━━━━━━━━━━\u001b[0m\u001b[37m\u001b[0m \u001b[1m2s\u001b[0m 9ms/step - loss: 0.0070 - val_loss: 0.0066\n",
            "Epoch 13/50\n",
            "\u001b[1m139/139\u001b[0m \u001b[32m━━━━━━━━━━━━━━━━━━━━\u001b[0m\u001b[37m\u001b[0m \u001b[1m1s\u001b[0m 9ms/step - loss: 0.0061 - val_loss: 0.0053\n",
            "Epoch 14/50\n",
            "\u001b[1m139/139\u001b[0m \u001b[32m━━━━━━━━━━━━━━━━━━━━\u001b[0m\u001b[37m\u001b[0m \u001b[1m3s\u001b[0m 10ms/step - loss: 0.0049 - val_loss: 0.0050\n",
            "Epoch 15/50\n",
            "\u001b[1m139/139\u001b[0m \u001b[32m━━━━━━━━━━━━━━━━━━━━\u001b[0m\u001b[37m\u001b[0m \u001b[1m1s\u001b[0m 9ms/step - loss: 0.0042 - val_loss: 0.0043\n",
            "Epoch 16/50\n",
            "\u001b[1m139/139\u001b[0m \u001b[32m━━━━━━━━━━━━━━━━━━━━\u001b[0m\u001b[37m\u001b[0m \u001b[1m3s\u001b[0m 15ms/step - loss: 0.0039 - val_loss: 0.0038\n",
            "Epoch 17/50\n",
            "\u001b[1m139/139\u001b[0m \u001b[32m━━━━━━━━━━━━━━━━━━━━\u001b[0m\u001b[37m\u001b[0m \u001b[1m2s\u001b[0m 9ms/step - loss: 0.0035 - val_loss: 0.0043\n",
            "Epoch 18/50\n",
            "\u001b[1m139/139\u001b[0m \u001b[32m━━━━━━━━━━━━━━━━━━━━\u001b[0m\u001b[37m\u001b[0m \u001b[1m1s\u001b[0m 9ms/step - loss: 0.0034 - val_loss: 0.0031\n",
            "Epoch 19/50\n",
            "\u001b[1m139/139\u001b[0m \u001b[32m━━━━━━━━━━━━━━━━━━━━\u001b[0m\u001b[37m\u001b[0m \u001b[1m3s\u001b[0m 9ms/step - loss: 0.0030 - val_loss: 0.0036\n",
            "Epoch 20/50\n",
            "\u001b[1m139/139\u001b[0m \u001b[32m━━━━━━━━━━━━━━━━━━━━\u001b[0m\u001b[37m\u001b[0m \u001b[1m1s\u001b[0m 9ms/step - loss: 0.0030 - val_loss: 0.0028\n",
            "Epoch 21/50\n",
            "\u001b[1m139/139\u001b[0m \u001b[32m━━━━━━━━━━━━━━━━━━━━\u001b[0m\u001b[37m\u001b[0m \u001b[1m1s\u001b[0m 9ms/step - loss: 0.0026 - val_loss: 0.0025\n",
            "Epoch 22/50\n",
            "\u001b[1m139/139\u001b[0m \u001b[32m━━━━━━━━━━━━━━━━━━━━\u001b[0m\u001b[37m\u001b[0m \u001b[1m3s\u001b[0m 11ms/step - loss: 0.0024 - val_loss: 0.0025\n",
            "Epoch 23/50\n",
            "\u001b[1m139/139\u001b[0m \u001b[32m━━━━━━━━━━━━━━━━━━━━\u001b[0m\u001b[37m\u001b[0m \u001b[1m3s\u001b[0m 14ms/step - loss: 0.0024 - val_loss: 0.0023\n",
            "Epoch 24/50\n",
            "\u001b[1m139/139\u001b[0m \u001b[32m━━━━━━━━━━━━━━━━━━━━\u001b[0m\u001b[37m\u001b[0m \u001b[1m2s\u001b[0m 9ms/step - loss: 0.0023 - val_loss: 0.0022\n",
            "Epoch 25/50\n",
            "\u001b[1m139/139\u001b[0m \u001b[32m━━━━━━━━━━━━━━━━━━━━\u001b[0m\u001b[37m\u001b[0m \u001b[1m3s\u001b[0m 10ms/step - loss: 0.0021 - val_loss: 0.0021\n",
            "Epoch 26/50\n",
            "\u001b[1m139/139\u001b[0m \u001b[32m━━━━━━━━━━━━━━━━━━━━\u001b[0m\u001b[37m\u001b[0m \u001b[1m3s\u001b[0m 9ms/step - loss: 0.0020 - val_loss: 0.0021\n",
            "Epoch 27/50\n",
            "\u001b[1m139/139\u001b[0m \u001b[32m━━━━━━━━━━━━━━━━━━━━\u001b[0m\u001b[37m\u001b[0m \u001b[1m1s\u001b[0m 9ms/step - loss: 0.0019 - val_loss: 0.0020\n",
            "Epoch 28/50\n",
            "\u001b[1m139/139\u001b[0m \u001b[32m━━━━━━━━━━━━━━━━━━━━\u001b[0m\u001b[37m\u001b[0m \u001b[1m3s\u001b[0m 15ms/step - loss: 0.0018 - val_loss: 0.0022\n",
            "Epoch 29/50\n",
            "\u001b[1m139/139\u001b[0m \u001b[32m━━━━━━━━━━━━━━━━━━━━\u001b[0m\u001b[37m\u001b[0m \u001b[1m2s\u001b[0m 14ms/step - loss: 0.0018 - val_loss: 0.0018\n",
            "Epoch 30/50\n",
            "\u001b[1m139/139\u001b[0m \u001b[32m━━━━━━━━━━━━━━━━━━━━\u001b[0m\u001b[37m\u001b[0m \u001b[1m1s\u001b[0m 9ms/step - loss: 0.0015 - val_loss: 0.0019\n",
            "Epoch 31/50\n",
            "\u001b[1m139/139\u001b[0m \u001b[32m━━━━━━━━━━━━━━━━━━━━\u001b[0m\u001b[37m\u001b[0m \u001b[1m3s\u001b[0m 11ms/step - loss: 0.0014 - val_loss: 0.0014\n",
            "Epoch 32/50\n",
            "\u001b[1m139/139\u001b[0m \u001b[32m━━━━━━━━━━━━━━━━━━━━\u001b[0m\u001b[37m\u001b[0m \u001b[1m2s\u001b[0m 10ms/step - loss: 0.0013 - val_loss: 0.0015\n",
            "Epoch 33/50\n",
            "\u001b[1m139/139\u001b[0m \u001b[32m━━━━━━━━━━━━━━━━━━━━\u001b[0m\u001b[37m\u001b[0m \u001b[1m1s\u001b[0m 9ms/step - loss: 0.0013 - val_loss: 0.0014\n",
            "Epoch 34/50\n",
            "\u001b[1m139/139\u001b[0m \u001b[32m━━━━━━━━━━━━━━━━━━━━\u001b[0m\u001b[37m\u001b[0m \u001b[1m1s\u001b[0m 10ms/step - loss: 0.0013 - val_loss: 0.0013\n",
            "Epoch 35/50\n",
            "\u001b[1m139/139\u001b[0m \u001b[32m━━━━━━━━━━━━━━━━━━━━\u001b[0m\u001b[37m\u001b[0m \u001b[1m2s\u001b[0m 13ms/step - loss: 0.0012 - val_loss: 0.0013\n",
            "Epoch 36/50\n",
            "\u001b[1m139/139\u001b[0m \u001b[32m━━━━━━━━━━━━━━━━━━━━\u001b[0m\u001b[37m\u001b[0m \u001b[1m3s\u001b[0m 13ms/step - loss: 0.0012 - val_loss: 0.0014\n",
            "Epoch 37/50\n",
            "\u001b[1m139/139\u001b[0m \u001b[32m━━━━━━━━━━━━━━━━━━━━\u001b[0m\u001b[37m\u001b[0m \u001b[1m2s\u001b[0m 9ms/step - loss: 0.0011 - val_loss: 0.0015\n",
            "Epoch 38/50\n",
            "\u001b[1m139/139\u001b[0m \u001b[32m━━━━━━━━━━━━━━━━━━━━\u001b[0m\u001b[37m\u001b[0m \u001b[1m1s\u001b[0m 10ms/step - loss: 0.0012 - val_loss: 0.0013\n",
            "Epoch 39/50\n",
            "\u001b[1m139/139\u001b[0m \u001b[32m━━━━━━━━━━━━━━━━━━━━\u001b[0m\u001b[37m\u001b[0m \u001b[1m2s\u001b[0m 11ms/step - loss: 0.0011 - val_loss: 0.0011\n",
            "Epoch 40/50\n",
            "\u001b[1m139/139\u001b[0m \u001b[32m━━━━━━━━━━━━━━━━━━━━\u001b[0m\u001b[37m\u001b[0m \u001b[1m1s\u001b[0m 9ms/step - loss: 0.0010 - val_loss: 0.0012\n",
            "Epoch 41/50\n",
            "\u001b[1m139/139\u001b[0m \u001b[32m━━━━━━━━━━━━━━━━━━━━\u001b[0m\u001b[37m\u001b[0m \u001b[1m1s\u001b[0m 9ms/step - loss: 0.0011 - val_loss: 0.0014\n",
            "Epoch 42/50\n",
            "\u001b[1m139/139\u001b[0m \u001b[32m━━━━━━━━━━━━━━━━━━━━\u001b[0m\u001b[37m\u001b[0m \u001b[1m1s\u001b[0m 9ms/step - loss: 0.0010 - val_loss: 0.0011\n",
            "Epoch 43/50\n",
            "\u001b[1m139/139\u001b[0m \u001b[32m━━━━━━━━━━━━━━━━━━━━\u001b[0m\u001b[37m\u001b[0m \u001b[1m2s\u001b[0m 11ms/step - loss: 9.7601e-04 - val_loss: 9.5919e-04\n",
            "Epoch 44/50\n",
            "\u001b[1m139/139\u001b[0m \u001b[32m━━━━━━━━━━━━━━━━━━━━\u001b[0m\u001b[37m\u001b[0m \u001b[1m3s\u001b[0m 14ms/step - loss: 9.2857e-04 - val_loss: 9.8097e-04\n",
            "Epoch 45/50\n",
            "\u001b[1m139/139\u001b[0m \u001b[32m━━━━━━━━━━━━━━━━━━━━\u001b[0m\u001b[37m\u001b[0m \u001b[1m1s\u001b[0m 10ms/step - loss: 9.2318e-04 - val_loss: 9.9197e-04\n",
            "Epoch 46/50\n",
            "\u001b[1m139/139\u001b[0m \u001b[32m━━━━━━━━━━━━━━━━━━━━\u001b[0m\u001b[37m\u001b[0m \u001b[1m3s\u001b[0m 10ms/step - loss: 9.1706e-04 - val_loss: 8.7405e-04\n",
            "Epoch 47/50\n",
            "\u001b[1m139/139\u001b[0m \u001b[32m━━━━━━━━━━━━━━━━━━━━\u001b[0m\u001b[37m\u001b[0m \u001b[1m1s\u001b[0m 9ms/step - loss: 8.4179e-04 - val_loss: 9.8086e-04\n",
            "Epoch 48/50\n",
            "\u001b[1m139/139\u001b[0m \u001b[32m━━━━━━━━━━━━━━━━━━━━\u001b[0m\u001b[37m\u001b[0m \u001b[1m1s\u001b[0m 9ms/step - loss: 9.0951e-04 - val_loss: 9.1823e-04\n",
            "Epoch 49/50\n",
            "\u001b[1m139/139\u001b[0m \u001b[32m━━━━━━━━━━━━━━━━━━━━\u001b[0m\u001b[37m\u001b[0m \u001b[1m3s\u001b[0m 9ms/step - loss: 8.1835e-04 - val_loss: 0.0011\n",
            "Epoch 50/50\n",
            "\u001b[1m139/139\u001b[0m \u001b[32m━━━━━━━━━━━━━━━━━━━━\u001b[0m\u001b[37m\u001b[0m \u001b[1m3s\u001b[0m 15ms/step - loss: 8.5355e-04 - val_loss: 8.0622e-04\n"
          ]
        },
        {
          "output_type": "execute_result",
          "data": {
            "text/plain": [
              "<keras.src.callbacks.history.History at 0x7feaa8f9ecd0>"
            ]
          },
          "metadata": {},
          "execution_count": 12
        }
      ]
    },
    {
      "cell_type": "markdown",
      "source": [
        "Compute Reconstruction Errors"
      ],
      "metadata": {
        "id": "rdDrZE3uNEXT"
      }
    },
    {
      "cell_type": "code",
      "source": [
        "# Get reconstructed test data\n",
        "X_test_lstm_reconstructed = lstm_autoencoder.predict(X_test_lstm)\n",
        "\n",
        "# Compute reconstruction error (Mean Absolute Error)\n",
        "reconstruction_error_lstm = np.mean(np.abs(X_test_lstm - X_test_lstm_reconstructed), axis=(1, 2))\n",
        "\n",
        "# Display error statistics\n",
        "print(\"LSTM Reconstruction Error - Min:\", reconstruction_error_lstm.min())\n",
        "print(\"LSTM Reconstruction Error - Max:\", reconstruction_error_lstm.max())\n",
        "print(\"LSTM Reconstruction Error - Mean:\", reconstruction_error_lstm.mean())\n"
      ],
      "metadata": {
        "colab": {
          "base_uri": "https://localhost:8080/"
        },
        "id": "sXEeRKDaNGfR",
        "outputId": "f7a8c34d-1831-4a59-9d3e-e804df4652bf"
      },
      "execution_count": null,
      "outputs": [
        {
          "output_type": "stream",
          "name": "stdout",
          "text": [
            "\u001b[1m35/35\u001b[0m \u001b[32m━━━━━━━━━━━━━━━━━━━━\u001b[0m\u001b[37m\u001b[0m \u001b[1m1s\u001b[0m 23ms/step\n",
            "LSTM Reconstruction Error - Min: 0.009282635609927658\n",
            "LSTM Reconstruction Error - Max: 0.08792045810955587\n",
            "LSTM Reconstruction Error - Mean: 0.019263287455908905\n"
          ]
        }
      ]
    },
    {
      "cell_type": "markdown",
      "source": [
        "Define Threshold & Detect Anomalies"
      ],
      "metadata": {
        "id": "VwWiccoONJ2k"
      }
    },
    {
      "cell_type": "code",
      "source": [
        "# Define anomaly threshold\n",
        "from sklearn.metrics import classification_report, confusion_matrix\n",
        "threshold_lstm = np.percentile(reconstruction_error_lstm, 95)\n",
        "\n",
        "print(f\"LSTM Anomaly Detection Threshold: {threshold_lstm}\")\n",
        "\n",
        "# Predict anomalies\n",
        "y_pred_lstm = [1 if e > threshold_lstm else 0 for e in reconstruction_error_lstm]\n",
        "\n",
        "# Evaluate Performance\n",
        "print(\"🔹 LSTM AutoEncoder Performance:\")\n",
        "print(confusion_matrix(y_test, y_pred_lstm))\n",
        "print(classification_report(y_test, y_pred_lstm))\n"
      ],
      "metadata": {
        "colab": {
          "base_uri": "https://localhost:8080/"
        },
        "id": "zNptG7h4NKoB",
        "outputId": "29435b59-d5c3-4bc2-8fd6-77dbd1cce3af"
      },
      "execution_count": null,
      "outputs": [
        {
          "output_type": "stream",
          "name": "stdout",
          "text": [
            "LSTM Anomaly Detection Threshold: 0.032597031693717804\n",
            "🔹 LSTM AutoEncoder Performance:\n",
            "[[737   4]\n",
            " [313  52]]\n",
            "              precision    recall  f1-score   support\n",
            "\n",
            "           0       0.70      0.99      0.82       741\n",
            "           1       0.93      0.14      0.25       365\n",
            "\n",
            "    accuracy                           0.71      1106\n",
            "   macro avg       0.82      0.57      0.54      1106\n",
            "weighted avg       0.78      0.71      0.63      1106\n",
            "\n"
          ]
        }
      ]
    },
    {
      "cell_type": "code",
      "source": [
        "# Adjust threshold dynamically (90th percentile instead of 95th)\n",
        "new_threshold_lstm = np.percentile(reconstruction_error_lstm, 90)  # Lower threshold\n",
        "\n",
        "# Predict anomalies\n",
        "y_pred_lstm_adjusted = [1 if e > new_threshold_lstm else 0 for e in reconstruction_error_lstm]\n",
        "\n",
        "# Evaluate again\n",
        "print(\"🔹 LSTM AutoEncoder (Adjusted Threshold) Performance:\")\n",
        "print(confusion_matrix(y_test, y_pred_lstm_adjusted))\n",
        "print(classification_report(y_test, y_pred_lstm_adjusted))\n"
      ],
      "metadata": {
        "colab": {
          "base_uri": "https://localhost:8080/"
        },
        "id": "ufPP-RTHVO9j",
        "outputId": "e76777e0-5f38-4d3d-b01a-485087c5faa9"
      },
      "execution_count": null,
      "outputs": [
        {
          "output_type": "stream",
          "name": "stdout",
          "text": [
            "🔹 LSTM AutoEncoder (Adjusted Threshold) Performance:\n",
            "[[723  18]\n",
            " [272  93]]\n",
            "              precision    recall  f1-score   support\n",
            "\n",
            "           0       0.73      0.98      0.83       741\n",
            "           1       0.84      0.25      0.39       365\n",
            "\n",
            "    accuracy                           0.74      1106\n",
            "   macro avg       0.78      0.62      0.61      1106\n",
            "weighted avg       0.76      0.74      0.69      1106\n",
            "\n"
          ]
        }
      ]
    },
    {
      "cell_type": "code",
      "source": [
        "from tensorflow.keras.layers import Bidirectional\n",
        "\n",
        "# Define Bi-Directional LSTM AutoEncoder\n",
        "input_layer = Input(shape=(time_steps, input_dim))\n",
        "encoded = Bidirectional(LSTM(64, activation=\"relu\", return_sequences=True))(input_layer)\n",
        "encoded = Bidirectional(LSTM(32, activation=\"relu\", return_sequences=False))(encoded)\n",
        "\n",
        "decoded = RepeatVector(time_steps)(encoded)\n",
        "decoded = Bidirectional(LSTM(32, activation=\"relu\", return_sequences=True))(decoded)\n",
        "decoded = Bidirectional(LSTM(64, activation=\"relu\", return_sequences=True))(decoded)\n",
        "decoded = TimeDistributed(Dense(input_dim))(decoded)\n",
        "\n",
        "bilstm_autoencoder = Model(input_layer, decoded)\n",
        "bilstm_autoencoder.compile(optimizer=\"adam\", loss=\"mse\")\n",
        "\n",
        "# Train the Bi-Directional LSTM\n",
        "bilstm_autoencoder.fit(X_train_lstm, X_train_lstm, epochs=50, batch_size=32, validation_data=(X_test_lstm, X_test_lstm))\n"
      ],
      "metadata": {
        "colab": {
          "base_uri": "https://localhost:8080/"
        },
        "id": "hVKm9RxrWZo_",
        "outputId": "e0a2fce4-e639-4a88-d4b1-e13f3e19c055"
      },
      "execution_count": null,
      "outputs": [
        {
          "output_type": "stream",
          "name": "stdout",
          "text": [
            "Epoch 1/50\n",
            "\u001b[1m139/139\u001b[0m \u001b[32m━━━━━━━━━━━━━━━━━━━━\u001b[0m\u001b[37m\u001b[0m \u001b[1m24s\u001b[0m 26ms/step - loss: 0.2088 - val_loss: 0.0780\n",
            "Epoch 2/50\n",
            "\u001b[1m139/139\u001b[0m \u001b[32m━━━━━━━━━━━━━━━━━━━━\u001b[0m\u001b[37m\u001b[0m \u001b[1m2s\u001b[0m 16ms/step - loss: 0.0765 - val_loss: 0.0454\n",
            "Epoch 3/50\n",
            "\u001b[1m139/139\u001b[0m \u001b[32m━━━━━━━━━━━━━━━━━━━━\u001b[0m\u001b[37m\u001b[0m \u001b[1m3s\u001b[0m 18ms/step - loss: 0.0355 - val_loss: 0.0164\n",
            "Epoch 4/50\n",
            "\u001b[1m139/139\u001b[0m \u001b[32m━━━━━━━━━━━━━━━━━━━━\u001b[0m\u001b[37m\u001b[0m \u001b[1m4s\u001b[0m 25ms/step - loss: 0.0146 - val_loss: 0.0107\n",
            "Epoch 5/50\n",
            "\u001b[1m139/139\u001b[0m \u001b[32m━━━━━━━━━━━━━━━━━━━━\u001b[0m\u001b[37m\u001b[0m \u001b[1m4s\u001b[0m 16ms/step - loss: 0.0098 - val_loss: 0.0076\n",
            "Epoch 6/50\n",
            "\u001b[1m139/139\u001b[0m \u001b[32m━━━━━━━━━━━━━━━━━━━━\u001b[0m\u001b[37m\u001b[0m \u001b[1m2s\u001b[0m 15ms/step - loss: 0.0072 - val_loss: 0.0058\n",
            "Epoch 7/50\n",
            "\u001b[1m139/139\u001b[0m \u001b[32m━━━━━━━━━━━━━━━━━━━━\u001b[0m\u001b[37m\u001b[0m \u001b[1m3s\u001b[0m 16ms/step - loss: 0.0053 - val_loss: 0.0044\n",
            "Epoch 8/50\n",
            "\u001b[1m139/139\u001b[0m \u001b[32m━━━━━━━━━━━━━━━━━━━━\u001b[0m\u001b[37m\u001b[0m \u001b[1m3s\u001b[0m 22ms/step - loss: 0.0039 - val_loss: 0.0033\n",
            "Epoch 9/50\n",
            "\u001b[1m139/139\u001b[0m \u001b[32m━━━━━━━━━━━━━━━━━━━━\u001b[0m\u001b[37m\u001b[0m \u001b[1m3s\u001b[0m 24ms/step - loss: 0.0031 - val_loss: 0.0032\n",
            "Epoch 10/50\n",
            "\u001b[1m139/139\u001b[0m \u001b[32m━━━━━━━━━━━━━━━━━━━━\u001b[0m\u001b[37m\u001b[0m \u001b[1m4s\u001b[0m 17ms/step - loss: 0.0027 - val_loss: 0.0022\n",
            "Epoch 11/50\n",
            "\u001b[1m139/139\u001b[0m \u001b[32m━━━━━━━━━━━━━━━━━━━━\u001b[0m\u001b[37m\u001b[0m \u001b[1m2s\u001b[0m 16ms/step - loss: 0.0021 - val_loss: 0.0020\n",
            "Epoch 12/50\n",
            "\u001b[1m139/139\u001b[0m \u001b[32m━━━━━━━━━━━━━━━━━━━━\u001b[0m\u001b[37m\u001b[0m \u001b[1m2s\u001b[0m 15ms/step - loss: 0.0017 - val_loss: 0.0016\n",
            "Epoch 13/50\n",
            "\u001b[1m139/139\u001b[0m \u001b[32m━━━━━━━━━━━━━━━━━━━━\u001b[0m\u001b[37m\u001b[0m \u001b[1m4s\u001b[0m 25ms/step - loss: 0.0015 - val_loss: 0.0015\n",
            "Epoch 14/50\n",
            "\u001b[1m139/139\u001b[0m \u001b[32m━━━━━━━━━━━━━━━━━━━━\u001b[0m\u001b[37m\u001b[0m \u001b[1m3s\u001b[0m 20ms/step - loss: 0.0013 - val_loss: 0.0014\n",
            "Epoch 15/50\n",
            "\u001b[1m139/139\u001b[0m \u001b[32m━━━━━━━━━━━━━━━━━━━━\u001b[0m\u001b[37m\u001b[0m \u001b[1m2s\u001b[0m 17ms/step - loss: 0.0012 - val_loss: 0.0012\n",
            "Epoch 16/50\n",
            "\u001b[1m139/139\u001b[0m \u001b[32m━━━━━━━━━━━━━━━━━━━━\u001b[0m\u001b[37m\u001b[0m \u001b[1m2s\u001b[0m 15ms/step - loss: 0.0011 - val_loss: 0.0012\n",
            "Epoch 17/50\n",
            "\u001b[1m139/139\u001b[0m \u001b[32m━━━━━━━━━━━━━━━━━━━━\u001b[0m\u001b[37m\u001b[0m \u001b[1m3s\u001b[0m 16ms/step - loss: 0.0010 - val_loss: 0.0011\n",
            "Epoch 18/50\n",
            "\u001b[1m139/139\u001b[0m \u001b[32m━━━━━━━━━━━━━━━━━━━━\u001b[0m\u001b[37m\u001b[0m \u001b[1m4s\u001b[0m 24ms/step - loss: 9.4978e-04 - val_loss: 0.0010\n",
            "Epoch 19/50\n",
            "\u001b[1m139/139\u001b[0m \u001b[32m━━━━━━━━━━━━━━━━━━━━\u001b[0m\u001b[37m\u001b[0m \u001b[1m4s\u001b[0m 16ms/step - loss: 9.1283e-04 - val_loss: 9.7581e-04\n",
            "Epoch 20/50\n",
            "\u001b[1m139/139\u001b[0m \u001b[32m━━━━━━━━━━━━━━━━━━━━\u001b[0m\u001b[37m\u001b[0m \u001b[1m2s\u001b[0m 16ms/step - loss: 8.4699e-04 - val_loss: 9.3996e-04\n",
            "Epoch 21/50\n",
            "\u001b[1m139/139\u001b[0m \u001b[32m━━━━━━━━━━━━━━━━━━━━\u001b[0m\u001b[37m\u001b[0m \u001b[1m2s\u001b[0m 16ms/step - loss: 8.3011e-04 - val_loss: 8.1999e-04\n",
            "Epoch 22/50\n",
            "\u001b[1m139/139\u001b[0m \u001b[32m━━━━━━━━━━━━━━━━━━━━\u001b[0m\u001b[37m\u001b[0m \u001b[1m3s\u001b[0m 16ms/step - loss: 7.0343e-04 - val_loss: 7.1334e-04\n",
            "Epoch 23/50\n",
            "\u001b[1m139/139\u001b[0m \u001b[32m━━━━━━━━━━━━━━━━━━━━\u001b[0m\u001b[37m\u001b[0m \u001b[1m4s\u001b[0m 26ms/step - loss: 7.1079e-04 - val_loss: 7.1755e-04\n",
            "Epoch 24/50\n",
            "\u001b[1m139/139\u001b[0m \u001b[32m━━━━━━━━━━━━━━━━━━━━\u001b[0m\u001b[37m\u001b[0m \u001b[1m2s\u001b[0m 16ms/step - loss: 6.5170e-04 - val_loss: 7.5818e-04\n",
            "Epoch 25/50\n",
            "\u001b[1m139/139\u001b[0m \u001b[32m━━━━━━━━━━━━━━━━━━━━\u001b[0m\u001b[37m\u001b[0m \u001b[1m2s\u001b[0m 15ms/step - loss: 6.4555e-04 - val_loss: 7.2414e-04\n",
            "Epoch 26/50\n",
            "\u001b[1m139/139\u001b[0m \u001b[32m━━━━━━━━━━━━━━━━━━━━\u001b[0m\u001b[37m\u001b[0m \u001b[1m2s\u001b[0m 15ms/step - loss: 6.0544e-04 - val_loss: 9.3081e-04\n",
            "Epoch 27/50\n",
            "\u001b[1m139/139\u001b[0m \u001b[32m━━━━━━━━━━━━━━━━━━━━\u001b[0m\u001b[37m\u001b[0m \u001b[1m2s\u001b[0m 16ms/step - loss: 6.0910e-04 - val_loss: 7.1151e-04\n",
            "Epoch 28/50\n",
            "\u001b[1m139/139\u001b[0m \u001b[32m━━━━━━━━━━━━━━━━━━━━\u001b[0m\u001b[37m\u001b[0m \u001b[1m3s\u001b[0m 23ms/step - loss: 5.9086e-04 - val_loss: 5.7836e-04\n",
            "Epoch 29/50\n",
            "\u001b[1m139/139\u001b[0m \u001b[32m━━━━━━━━━━━━━━━━━━━━\u001b[0m\u001b[37m\u001b[0m \u001b[1m4s\u001b[0m 16ms/step - loss: 5.0616e-04 - val_loss: 5.7477e-04\n",
            "Epoch 30/50\n",
            "\u001b[1m139/139\u001b[0m \u001b[32m━━━━━━━━━━━━━━━━━━━━\u001b[0m\u001b[37m\u001b[0m \u001b[1m2s\u001b[0m 16ms/step - loss: 5.2599e-04 - val_loss: 5.7014e-04\n",
            "Epoch 31/50\n",
            "\u001b[1m139/139\u001b[0m \u001b[32m━━━━━━━━━━━━━━━━━━━━\u001b[0m\u001b[37m\u001b[0m \u001b[1m2s\u001b[0m 15ms/step - loss: 5.0243e-04 - val_loss: 5.3349e-04\n",
            "Epoch 32/50\n",
            "\u001b[1m139/139\u001b[0m \u001b[32m━━━━━━━━━━━━━━━━━━━━\u001b[0m\u001b[37m\u001b[0m \u001b[1m3s\u001b[0m 17ms/step - loss: 4.9256e-04 - val_loss: 5.9747e-04\n",
            "Epoch 33/50\n",
            "\u001b[1m139/139\u001b[0m \u001b[32m━━━━━━━━━━━━━━━━━━━━\u001b[0m\u001b[37m\u001b[0m \u001b[1m5s\u001b[0m 36ms/step - loss: 4.9255e-04 - val_loss: 5.1496e-04\n",
            "Epoch 34/50\n",
            "\u001b[1m139/139\u001b[0m \u001b[32m━━━━━━━━━━━━━━━━━━━━\u001b[0m\u001b[37m\u001b[0m \u001b[1m2s\u001b[0m 17ms/step - loss: 4.6581e-04 - val_loss: 5.1917e-04\n",
            "Epoch 35/50\n",
            "\u001b[1m139/139\u001b[0m \u001b[32m━━━━━━━━━━━━━━━━━━━━\u001b[0m\u001b[37m\u001b[0m \u001b[1m3s\u001b[0m 17ms/step - loss: 4.6530e-04 - val_loss: 4.8513e-04\n",
            "Epoch 36/50\n",
            "\u001b[1m139/139\u001b[0m \u001b[32m━━━━━━━━━━━━━━━━━━━━\u001b[0m\u001b[37m\u001b[0m \u001b[1m2s\u001b[0m 15ms/step - loss: 4.2922e-04 - val_loss: 4.9133e-04\n",
            "Epoch 37/50\n",
            "\u001b[1m139/139\u001b[0m \u001b[32m━━━━━━━━━━━━━━━━━━━━\u001b[0m\u001b[37m\u001b[0m \u001b[1m2s\u001b[0m 17ms/step - loss: 4.6583e-04 - val_loss: 5.0873e-04\n",
            "Epoch 38/50\n",
            "\u001b[1m139/139\u001b[0m \u001b[32m━━━━━━━━━━━━━━━━━━━━\u001b[0m\u001b[37m\u001b[0m \u001b[1m4s\u001b[0m 25ms/step - loss: 4.5011e-04 - val_loss: 5.3192e-04\n",
            "Epoch 39/50\n",
            "\u001b[1m139/139\u001b[0m \u001b[32m━━━━━━━━━━━━━━━━━━━━\u001b[0m\u001b[37m\u001b[0m \u001b[1m4s\u001b[0m 16ms/step - loss: 4.7008e-04 - val_loss: 4.3283e-04\n",
            "Epoch 40/50\n",
            "\u001b[1m139/139\u001b[0m \u001b[32m━━━━━━━━━━━━━━━━━━━━\u001b[0m\u001b[37m\u001b[0m \u001b[1m2s\u001b[0m 17ms/step - loss: 3.9241e-04 - val_loss: 4.8398e-04\n",
            "Epoch 41/50\n",
            "\u001b[1m139/139\u001b[0m \u001b[32m━━━━━━━━━━━━━━━━━━━━\u001b[0m\u001b[37m\u001b[0m \u001b[1m2s\u001b[0m 15ms/step - loss: 4.4693e-04 - val_loss: 4.4211e-04\n",
            "Epoch 42/50\n",
            "\u001b[1m139/139\u001b[0m \u001b[32m━━━━━━━━━━━━━━━━━━━━\u001b[0m\u001b[37m\u001b[0m \u001b[1m3s\u001b[0m 21ms/step - loss: 3.7976e-04 - val_loss: 4.9250e-04\n",
            "Epoch 43/50\n",
            "\u001b[1m139/139\u001b[0m \u001b[32m━━━━━━━━━━━━━━━━━━━━\u001b[0m\u001b[37m\u001b[0m \u001b[1m3s\u001b[0m 22ms/step - loss: 4.2076e-04 - val_loss: 4.8958e-04\n",
            "Epoch 44/50\n",
            "\u001b[1m139/139\u001b[0m \u001b[32m━━━━━━━━━━━━━━━━━━━━\u001b[0m\u001b[37m\u001b[0m \u001b[1m4s\u001b[0m 15ms/step - loss: 3.9715e-04 - val_loss: 4.7565e-04\n",
            "Epoch 45/50\n",
            "\u001b[1m139/139\u001b[0m \u001b[32m━━━━━━━━━━━━━━━━━━━━\u001b[0m\u001b[37m\u001b[0m \u001b[1m2s\u001b[0m 17ms/step - loss: 4.2316e-04 - val_loss: 3.8852e-04\n",
            "Epoch 46/50\n",
            "\u001b[1m139/139\u001b[0m \u001b[32m━━━━━━━━━━━━━━━━━━━━\u001b[0m\u001b[37m\u001b[0m \u001b[1m2s\u001b[0m 15ms/step - loss: 3.7423e-04 - val_loss: 4.3196e-04\n",
            "Epoch 47/50\n",
            "\u001b[1m139/139\u001b[0m \u001b[32m━━━━━━━━━━━━━━━━━━━━\u001b[0m\u001b[37m\u001b[0m \u001b[1m3s\u001b[0m 25ms/step - loss: 3.6967e-04 - val_loss: 4.0518e-04\n",
            "Epoch 48/50\n",
            "\u001b[1m139/139\u001b[0m \u001b[32m━━━━━━━━━━━━━━━━━━━━\u001b[0m\u001b[37m\u001b[0m \u001b[1m4s\u001b[0m 15ms/step - loss: 3.8133e-04 - val_loss: 4.1693e-04\n",
            "Epoch 49/50\n",
            "\u001b[1m139/139\u001b[0m \u001b[32m━━━━━━━━━━━━━━━━━━━━\u001b[0m\u001b[37m\u001b[0m \u001b[1m2s\u001b[0m 17ms/step - loss: 3.4818e-04 - val_loss: 5.8246e-04\n",
            "Epoch 50/50\n",
            "\u001b[1m139/139\u001b[0m \u001b[32m━━━━━━━━━━━━━━━━━━━━\u001b[0m\u001b[37m\u001b[0m \u001b[1m2s\u001b[0m 16ms/step - loss: 4.0694e-04 - val_loss: 3.9674e-04\n"
          ]
        },
        {
          "output_type": "execute_result",
          "data": {
            "text/plain": [
              "<keras.src.callbacks.history.History at 0x7fea9b7000d0>"
            ]
          },
          "metadata": {},
          "execution_count": 18
        }
      ]
    },
    {
      "cell_type": "code",
      "source": [
        "# Get reconstructed test data\n",
        "X_test_bilstm_reconstructed = bilstm_autoencoder.predict(X_test_lstm)\n",
        "\n",
        "# Compute reconstruction error (Mean Absolute Error)\n",
        "reconstruction_error_bilstm = np.mean(np.abs(X_test_lstm - X_test_bilstm_reconstructed), axis=(1, 2))\n",
        "\n",
        "# Display error statistics\n",
        "print(\"Bi-Directional LSTM Reconstruction Error - Min:\", reconstruction_error_bilstm.min())\n",
        "print(\"Bi-Directional LSTM Reconstruction Error - Max:\", reconstruction_error_bilstm.max())\n",
        "print(\"Bi-Directional LSTM Reconstruction Error - Mean:\", reconstruction_error_bilstm.mean())\n"
      ],
      "metadata": {
        "colab": {
          "base_uri": "https://localhost:8080/"
        },
        "id": "6dR1Oj45X3V5",
        "outputId": "5faa1b37-3cdd-4e7f-fb5d-78052cf1d141"
      },
      "execution_count": null,
      "outputs": [
        {
          "output_type": "stream",
          "name": "stdout",
          "text": [
            "\u001b[1m35/35\u001b[0m \u001b[32m━━━━━━━━━━━━━━━━━━━━\u001b[0m\u001b[37m\u001b[0m \u001b[1m5s\u001b[0m 72ms/step\n",
            "Bi-Directional LSTM Reconstruction Error - Min: 0.007532922493437013\n",
            "Bi-Directional LSTM Reconstruction Error - Max: 0.0580078010794708\n",
            "Bi-Directional LSTM Reconstruction Error - Mean: 0.013159129417299447\n"
          ]
        }
      ]
    },
    {
      "cell_type": "code",
      "source": [
        "# Define anomaly threshold\n",
        "threshold_bilstm = np.percentile(reconstruction_error_bilstm, 95)\n",
        "\n",
        "print(f\"Bi-Directional LSTM Anomaly Detection Threshold: {threshold_bilstm}\")\n"
      ],
      "metadata": {
        "colab": {
          "base_uri": "https://localhost:8080/"
        },
        "id": "xfihYwtUX8xt",
        "outputId": "9e64a74c-5609-437a-aa7b-32a915635ed2"
      },
      "execution_count": null,
      "outputs": [
        {
          "output_type": "stream",
          "name": "stdout",
          "text": [
            "Bi-Directional LSTM Anomaly Detection Threshold: 0.0214388493749499\n"
          ]
        }
      ]
    },
    {
      "cell_type": "code",
      "source": [
        "# Predict anomalies\n",
        "y_pred_bilstm = [1 if e > threshold_bilstm else 0 for e in reconstruction_error_bilstm]\n",
        "\n",
        "# Evaluate Bi-Directional LSTM Performance\n",
        "from sklearn.metrics import confusion_matrix, classification_report\n",
        "\n",
        "print(\"🔹 Bi-Directional LSTM AutoEncoder Performance:\")\n",
        "print(confusion_matrix(y_test, y_pred_bilstm))\n",
        "print(classification_report(y_test, y_pred_bilstm))\n"
      ],
      "metadata": {
        "colab": {
          "base_uri": "https://localhost:8080/"
        },
        "id": "J4ur2oXXYBqa",
        "outputId": "82045b6b-e28a-4960-aeff-aa4b4741a531"
      },
      "execution_count": null,
      "outputs": [
        {
          "output_type": "stream",
          "name": "stdout",
          "text": [
            "🔹 Bi-Directional LSTM AutoEncoder Performance:\n",
            "[[736   5]\n",
            " [314  51]]\n",
            "              precision    recall  f1-score   support\n",
            "\n",
            "           0       0.70      0.99      0.82       741\n",
            "           1       0.91      0.14      0.24       365\n",
            "\n",
            "    accuracy                           0.71      1106\n",
            "   macro avg       0.81      0.57      0.53      1106\n",
            "weighted avg       0.77      0.71      0.63      1106\n",
            "\n"
          ]
        }
      ]
    },
    {
      "cell_type": "markdown",
      "source": [
        "Supervised Learning"
      ],
      "metadata": {
        "id": "X2lK8O-QZ3GY"
      }
    },
    {
      "cell_type": "code",
      "source": [
        "from imblearn.over_sampling import SMOTE\n",
        "\n",
        "# Drop DATETIME column\n",
        "X = df_attack.drop(columns=['DATETIME', 'ATT_FLAG'])\n",
        "y = df_attack['ATT_FLAG']\n",
        "\n",
        "# Apply SMOTE to oversample attack samples\n",
        "smote = SMOTE(sampling_strategy=0.5, random_state=42)  # 50% attack samples\n",
        "X_balanced, y_balanced = smote.fit_resample(X, y)\n",
        "\n",
        "# Check new class balance\n",
        "print(\"Class distribution after SMOTE:\")\n",
        "print(pd.Series(y_balanced).value_counts())\n"
      ],
      "metadata": {
        "colab": {
          "base_uri": "https://localhost:8080/",
          "height": 371
        },
        "id": "hETzrAKTZe4z",
        "outputId": "39f3d0e5-17af-451c-f7a4-e24f0c8bdc5b"
      },
      "execution_count": null,
      "outputs": [
        {
          "output_type": "error",
          "ename": "KeyError",
          "evalue": "\"['DATETIME'] not found in axis\"",
          "traceback": [
            "\u001b[0;31m---------------------------------------------------------------------------\u001b[0m",
            "\u001b[0;31mKeyError\u001b[0m                                  Traceback (most recent call last)",
            "\u001b[0;32m<ipython-input-5-5126c5d8e9a8>\u001b[0m in \u001b[0;36m<cell line: 0>\u001b[0;34m()\u001b[0m\n\u001b[1;32m      2\u001b[0m \u001b[0;34m\u001b[0m\u001b[0m\n\u001b[1;32m      3\u001b[0m \u001b[0;31m# Drop DATETIME column\u001b[0m\u001b[0;34m\u001b[0m\u001b[0;34m\u001b[0m\u001b[0m\n\u001b[0;32m----> 4\u001b[0;31m \u001b[0mX\u001b[0m \u001b[0;34m=\u001b[0m \u001b[0mdf_attack\u001b[0m\u001b[0;34m.\u001b[0m\u001b[0mdrop\u001b[0m\u001b[0;34m(\u001b[0m\u001b[0mcolumns\u001b[0m\u001b[0;34m=\u001b[0m\u001b[0;34m[\u001b[0m\u001b[0;34m'DATETIME'\u001b[0m\u001b[0;34m,\u001b[0m \u001b[0;34m'ATT_FLAG'\u001b[0m\u001b[0;34m]\u001b[0m\u001b[0;34m)\u001b[0m\u001b[0;34m\u001b[0m\u001b[0;34m\u001b[0m\u001b[0m\n\u001b[0m\u001b[1;32m      5\u001b[0m \u001b[0my\u001b[0m \u001b[0;34m=\u001b[0m \u001b[0mdf_attack\u001b[0m\u001b[0;34m[\u001b[0m\u001b[0;34m'ATT_FLAG'\u001b[0m\u001b[0;34m]\u001b[0m\u001b[0;34m\u001b[0m\u001b[0;34m\u001b[0m\u001b[0m\n\u001b[1;32m      6\u001b[0m \u001b[0;34m\u001b[0m\u001b[0m\n",
            "\u001b[0;32m/usr/local/lib/python3.11/dist-packages/pandas/core/frame.py\u001b[0m in \u001b[0;36mdrop\u001b[0;34m(self, labels, axis, index, columns, level, inplace, errors)\u001b[0m\n\u001b[1;32m   5579\u001b[0m                 \u001b[0mweight\u001b[0m  \u001b[0;36m1.0\u001b[0m     \u001b[0;36m0.8\u001b[0m\u001b[0;34m\u001b[0m\u001b[0;34m\u001b[0m\u001b[0m\n\u001b[1;32m   5580\u001b[0m         \"\"\"\n\u001b[0;32m-> 5581\u001b[0;31m         return super().drop(\n\u001b[0m\u001b[1;32m   5582\u001b[0m             \u001b[0mlabels\u001b[0m\u001b[0;34m=\u001b[0m\u001b[0mlabels\u001b[0m\u001b[0;34m,\u001b[0m\u001b[0;34m\u001b[0m\u001b[0;34m\u001b[0m\u001b[0m\n\u001b[1;32m   5583\u001b[0m             \u001b[0maxis\u001b[0m\u001b[0;34m=\u001b[0m\u001b[0maxis\u001b[0m\u001b[0;34m,\u001b[0m\u001b[0;34m\u001b[0m\u001b[0;34m\u001b[0m\u001b[0m\n",
            "\u001b[0;32m/usr/local/lib/python3.11/dist-packages/pandas/core/generic.py\u001b[0m in \u001b[0;36mdrop\u001b[0;34m(self, labels, axis, index, columns, level, inplace, errors)\u001b[0m\n\u001b[1;32m   4786\u001b[0m         \u001b[0;32mfor\u001b[0m \u001b[0maxis\u001b[0m\u001b[0;34m,\u001b[0m \u001b[0mlabels\u001b[0m \u001b[0;32min\u001b[0m \u001b[0maxes\u001b[0m\u001b[0;34m.\u001b[0m\u001b[0mitems\u001b[0m\u001b[0;34m(\u001b[0m\u001b[0;34m)\u001b[0m\u001b[0;34m:\u001b[0m\u001b[0;34m\u001b[0m\u001b[0;34m\u001b[0m\u001b[0m\n\u001b[1;32m   4787\u001b[0m             \u001b[0;32mif\u001b[0m \u001b[0mlabels\u001b[0m \u001b[0;32mis\u001b[0m \u001b[0;32mnot\u001b[0m \u001b[0;32mNone\u001b[0m\u001b[0;34m:\u001b[0m\u001b[0;34m\u001b[0m\u001b[0;34m\u001b[0m\u001b[0m\n\u001b[0;32m-> 4788\u001b[0;31m                 \u001b[0mobj\u001b[0m \u001b[0;34m=\u001b[0m \u001b[0mobj\u001b[0m\u001b[0;34m.\u001b[0m\u001b[0m_drop_axis\u001b[0m\u001b[0;34m(\u001b[0m\u001b[0mlabels\u001b[0m\u001b[0;34m,\u001b[0m \u001b[0maxis\u001b[0m\u001b[0;34m,\u001b[0m \u001b[0mlevel\u001b[0m\u001b[0;34m=\u001b[0m\u001b[0mlevel\u001b[0m\u001b[0;34m,\u001b[0m \u001b[0merrors\u001b[0m\u001b[0;34m=\u001b[0m\u001b[0merrors\u001b[0m\u001b[0;34m)\u001b[0m\u001b[0;34m\u001b[0m\u001b[0;34m\u001b[0m\u001b[0m\n\u001b[0m\u001b[1;32m   4789\u001b[0m \u001b[0;34m\u001b[0m\u001b[0m\n\u001b[1;32m   4790\u001b[0m         \u001b[0;32mif\u001b[0m \u001b[0minplace\u001b[0m\u001b[0;34m:\u001b[0m\u001b[0;34m\u001b[0m\u001b[0;34m\u001b[0m\u001b[0m\n",
            "\u001b[0;32m/usr/local/lib/python3.11/dist-packages/pandas/core/generic.py\u001b[0m in \u001b[0;36m_drop_axis\u001b[0;34m(self, labels, axis, level, errors, only_slice)\u001b[0m\n\u001b[1;32m   4828\u001b[0m                 \u001b[0mnew_axis\u001b[0m \u001b[0;34m=\u001b[0m \u001b[0maxis\u001b[0m\u001b[0;34m.\u001b[0m\u001b[0mdrop\u001b[0m\u001b[0;34m(\u001b[0m\u001b[0mlabels\u001b[0m\u001b[0;34m,\u001b[0m \u001b[0mlevel\u001b[0m\u001b[0;34m=\u001b[0m\u001b[0mlevel\u001b[0m\u001b[0;34m,\u001b[0m \u001b[0merrors\u001b[0m\u001b[0;34m=\u001b[0m\u001b[0merrors\u001b[0m\u001b[0;34m)\u001b[0m\u001b[0;34m\u001b[0m\u001b[0;34m\u001b[0m\u001b[0m\n\u001b[1;32m   4829\u001b[0m             \u001b[0;32melse\u001b[0m\u001b[0;34m:\u001b[0m\u001b[0;34m\u001b[0m\u001b[0;34m\u001b[0m\u001b[0m\n\u001b[0;32m-> 4830\u001b[0;31m                 \u001b[0mnew_axis\u001b[0m \u001b[0;34m=\u001b[0m \u001b[0maxis\u001b[0m\u001b[0;34m.\u001b[0m\u001b[0mdrop\u001b[0m\u001b[0;34m(\u001b[0m\u001b[0mlabels\u001b[0m\u001b[0;34m,\u001b[0m \u001b[0merrors\u001b[0m\u001b[0;34m=\u001b[0m\u001b[0merrors\u001b[0m\u001b[0;34m)\u001b[0m\u001b[0;34m\u001b[0m\u001b[0;34m\u001b[0m\u001b[0m\n\u001b[0m\u001b[1;32m   4831\u001b[0m             \u001b[0mindexer\u001b[0m \u001b[0;34m=\u001b[0m \u001b[0maxis\u001b[0m\u001b[0;34m.\u001b[0m\u001b[0mget_indexer\u001b[0m\u001b[0;34m(\u001b[0m\u001b[0mnew_axis\u001b[0m\u001b[0;34m)\u001b[0m\u001b[0;34m\u001b[0m\u001b[0;34m\u001b[0m\u001b[0m\n\u001b[1;32m   4832\u001b[0m \u001b[0;34m\u001b[0m\u001b[0m\n",
            "\u001b[0;32m/usr/local/lib/python3.11/dist-packages/pandas/core/indexes/base.py\u001b[0m in \u001b[0;36mdrop\u001b[0;34m(self, labels, errors)\u001b[0m\n\u001b[1;32m   7068\u001b[0m         \u001b[0;32mif\u001b[0m \u001b[0mmask\u001b[0m\u001b[0;34m.\u001b[0m\u001b[0many\u001b[0m\u001b[0;34m(\u001b[0m\u001b[0;34m)\u001b[0m\u001b[0;34m:\u001b[0m\u001b[0;34m\u001b[0m\u001b[0;34m\u001b[0m\u001b[0m\n\u001b[1;32m   7069\u001b[0m             \u001b[0;32mif\u001b[0m \u001b[0merrors\u001b[0m \u001b[0;34m!=\u001b[0m \u001b[0;34m\"ignore\"\u001b[0m\u001b[0;34m:\u001b[0m\u001b[0;34m\u001b[0m\u001b[0;34m\u001b[0m\u001b[0m\n\u001b[0;32m-> 7070\u001b[0;31m                 \u001b[0;32mraise\u001b[0m \u001b[0mKeyError\u001b[0m\u001b[0;34m(\u001b[0m\u001b[0;34mf\"{labels[mask].tolist()} not found in axis\"\u001b[0m\u001b[0;34m)\u001b[0m\u001b[0;34m\u001b[0m\u001b[0;34m\u001b[0m\u001b[0m\n\u001b[0m\u001b[1;32m   7071\u001b[0m             \u001b[0mindexer\u001b[0m \u001b[0;34m=\u001b[0m \u001b[0mindexer\u001b[0m\u001b[0;34m[\u001b[0m\u001b[0;34m~\u001b[0m\u001b[0mmask\u001b[0m\u001b[0;34m]\u001b[0m\u001b[0;34m\u001b[0m\u001b[0;34m\u001b[0m\u001b[0m\n\u001b[1;32m   7072\u001b[0m         \u001b[0;32mreturn\u001b[0m \u001b[0mself\u001b[0m\u001b[0;34m.\u001b[0m\u001b[0mdelete\u001b[0m\u001b[0;34m(\u001b[0m\u001b[0mindexer\u001b[0m\u001b[0;34m)\u001b[0m\u001b[0;34m\u001b[0m\u001b[0;34m\u001b[0m\u001b[0m\n",
            "\u001b[0;31mKeyError\u001b[0m: \"['DATETIME'] not found in axis\""
          ]
        }
      ]
    },
    {
      "cell_type": "code",
      "source": [
        "from sklearn.model_selection import train_test_split\n",
        "from xgboost import XGBClassifier\n",
        "from sklearn.metrics import classification_report, confusion_matrix\n",
        "\n",
        "# Split data\n",
        "X_train, X_test, y_train, y_test = train_test_split(X_balanced, y_balanced, test_size=0.2, random_state=42)\n",
        "\n",
        "# Train XGBoost model\n",
        "xgb_clf = XGBClassifier(n_estimators=200, learning_rate=0.05, max_depth=6, random_state=42)\n",
        "xgb_clf.fit(X_train, y_train)\n",
        "\n",
        "# Predict & Evaluate\n",
        "y_pred_xgb = xgb_clf.predict(X_test)\n",
        "\n",
        "print(\"🔹 XGBoost Performance:\")\n",
        "print(confusion_matrix(y_test, y_pred_xgb))\n",
        "print(classification_report(y_test, y_pred_xgb))\n"
      ],
      "metadata": {
        "colab": {
          "base_uri": "https://localhost:8080/"
        },
        "id": "qAv6MNDhZkiL",
        "outputId": "f98664e9-5763-4520-fb02-0a13ae711771"
      },
      "execution_count": null,
      "outputs": [
        {
          "output_type": "stream",
          "name": "stdout",
          "text": [
            "🔹 XGBoost Performance:\n",
            "[[739   2]\n",
            " [ 68 297]]\n",
            "              precision    recall  f1-score   support\n",
            "\n",
            "           0       0.92      1.00      0.95       741\n",
            "           1       0.99      0.81      0.89       365\n",
            "\n",
            "    accuracy                           0.94      1106\n",
            "   macro avg       0.95      0.91      0.92      1106\n",
            "weighted avg       0.94      0.94      0.93      1106\n",
            "\n"
          ]
        }
      ]
    },
    {
      "cell_type": "code",
      "source": [
        "from sklearn.model_selection import GridSearchCV\n",
        "\n",
        "# Define parameter grid\n",
        "param_grid = {\n",
        "    'n_estimators': [100, 200, 300],\n",
        "    'learning_rate': [0.01, 0.05, 0.1],\n",
        "    'max_depth': [4, 6, 8],\n",
        "}\n",
        "\n",
        "# Perform Grid Search\n",
        "grid_search = GridSearchCV(XGBClassifier(random_state=42), param_grid, scoring='recall', cv=3)\n",
        "grid_search.fit(X_train, y_train)\n",
        "\n",
        "# Best parameters\n",
        "print(\"Best parameters:\", grid_search.best_params_)\n",
        "\n",
        "# Train model with best parameters\n",
        "best_xgb = XGBClassifier(**grid_search.best_params_, random_state=42)\n",
        "best_xgb.fit(X_train, y_train)\n",
        "\n",
        "# Predict & Evaluate\n",
        "y_pred_best = best_xgb.predict(X_test)\n",
        "\n",
        "print(\"🔹 XGBoost (Tuned) Performance:\")\n",
        "print(confusion_matrix(y_test, y_pred_best))\n",
        "print(classification_report(y_test, y_pred_best))\n"
      ],
      "metadata": {
        "colab": {
          "base_uri": "https://localhost:8080/"
        },
        "id": "TXPdJot_aGHV",
        "outputId": "67efb631-deac-4af8-942f-9bdee188d3cb"
      },
      "execution_count": null,
      "outputs": [
        {
          "output_type": "stream",
          "name": "stdout",
          "text": [
            "Best parameters: {'learning_rate': 0.1, 'max_depth': 8, 'n_estimators': 300}\n",
            "🔹 XGBoost (Tuned) Performance:\n",
            "[[733   8]\n",
            " [ 37 328]]\n",
            "              precision    recall  f1-score   support\n",
            "\n",
            "           0       0.95      0.99      0.97       741\n",
            "           1       0.98      0.90      0.94       365\n",
            "\n",
            "    accuracy                           0.96      1106\n",
            "   macro avg       0.96      0.94      0.95      1106\n",
            "weighted avg       0.96      0.96      0.96      1106\n",
            "\n"
          ]
        }
      ]
    },
    {
      "cell_type": "markdown",
      "source": [
        "CPU Utilization for Tuned XGBoost"
      ],
      "metadata": {
        "id": "m7fH38EAhM4k"
      }
    },
    {
      "cell_type": "code",
      "source": [
        "# Load the scaler (if not already loaded)\n",
        "import joblib\n",
        "scaler = joblib.load(\"scaler.pkl\")\n",
        "\n",
        "# Scale the test set\n",
        "X_test_scaled = scaler.transform(X_test)\n",
        "\n",
        "# Rebuild DataFrame with original column names\n",
        "X_test_df = pd.DataFrame(X_test_scaled, columns=X_test.columns)\n"
      ],
      "metadata": {
        "id": "YO1by5bWfR4x"
      },
      "execution_count": null,
      "outputs": []
    },
    {
      "cell_type": "code",
      "source": [
        "import psutil\n",
        "import time\n",
        "\n",
        "cpu_usages = []\n",
        "timings = []\n",
        "\n",
        "for i in range(20):\n",
        "  # Start measuring\n",
        "  cpu_start = psutil.cpu_percent(interval=None)\n",
        "  mem_start = psutil.virtual_memory().used / (1024 ** 2)  # in MB\n",
        "  start = time.perf_counter()\n",
        "\n",
        "  # Run your model\n",
        "  y_pred_xgb = best_xgb.predict(X_test_df)\n",
        "\n",
        "  # Stop measuring\n",
        "  end = time.perf_counter()\n",
        "  cpu_end = psutil.cpu_percent(interval=None)\n",
        "  mem_end = psutil.virtual_memory().used / (1024 ** 2)\n",
        "\n",
        "  cpu_avg = (cpu_start + cpu_end) / 2\n",
        "  elapsed_time = end - start\n",
        "\n",
        "  cpu_usages.append(cpu_avg)\n",
        "  timings.append(elapsed_time)\n",
        "\n",
        "  print(f\"Run {i+1:02d} → CPU: {cpu_avg:.2f}%, Time: {elapsed_time:.4f} s\")\n",
        "\n",
        "# Summary\n",
        "print(\"\\n🔁 AEED Resource Usage Summary (20 runs):\")\n",
        "print(f\"📊 Avg CPU Usage: {np.mean(cpu_usages):.2f}%\")\n",
        "print(f\"📈 Std Dev CPU:   {np.std(cpu_usages):.2f}%\")\n",
        "print(f\"⏱️  Avg Time:      {np.mean(timings):.4f} s\")\n"
      ],
      "metadata": {
        "colab": {
          "base_uri": "https://localhost:8080/"
        },
        "id": "JaEZ5htcfArm",
        "outputId": "bb7839c3-ab3e-4800-ab45-4f2c5f7c970d"
      },
      "execution_count": null,
      "outputs": [
        {
          "output_type": "stream",
          "name": "stdout",
          "text": [
            "Run 01 → CPU: 41.45%, Time: 0.0148 s\n",
            "Run 02 → CPU: 50.00%, Time: 0.0136 s\n",
            "Run 03 → CPU: 50.00%, Time: 0.0134 s\n",
            "Run 04 → CPU: 50.00%, Time: 0.0133 s\n",
            "Run 05 → CPU: 33.35%, Time: 0.0128 s\n",
            "Run 06 → CPU: 50.00%, Time: 0.0125 s\n",
            "Run 07 → CPU: 50.00%, Time: 0.0124 s\n",
            "Run 08 → CPU: 50.00%, Time: 0.0123 s\n",
            "Run 09 → CPU: 50.00%, Time: 0.0122 s\n",
            "Run 10 → CPU: 50.00%, Time: 0.0132 s\n",
            "Run 11 → CPU: 50.00%, Time: 0.0140 s\n",
            "Run 12 → CPU: 50.00%, Time: 0.0141 s\n",
            "Run 13 → CPU: 50.00%, Time: 0.0126 s\n",
            "Run 14 → CPU: 33.35%, Time: 0.0126 s\n",
            "Run 15 → CPU: 50.00%, Time: 0.0123 s\n",
            "Run 16 → CPU: 50.00%, Time: 0.0126 s\n",
            "Run 17 → CPU: 50.00%, Time: 0.0146 s\n",
            "Run 18 → CPU: 50.00%, Time: 0.0129 s\n",
            "Run 19 → CPU: 50.00%, Time: 0.0128 s\n",
            "Run 20 → CPU: 50.00%, Time: 0.0125 s\n",
            "\n",
            "🔁 AEED Resource Usage Summary (20 runs):\n",
            "📊 Avg CPU Usage: 47.91%\n",
            "📈 Std Dev CPU:   5.20%\n",
            "⏱️  Avg Time:      0.0131 s\n"
          ]
        }
      ]
    },
    {
      "cell_type": "code",
      "source": [
        "import joblib\n",
        "\n",
        "# Save the trained model\n",
        "joblib.dump(best_xgb, \"best_xgb.pkl\")\n"
      ],
      "metadata": {
        "colab": {
          "base_uri": "https://localhost:8080/"
        },
        "id": "QfHEn9F2FOhU",
        "outputId": "aef72f35-1b7b-4e56-d0a5-5663a57fb881"
      },
      "execution_count": null,
      "outputs": [
        {
          "output_type": "execute_result",
          "data": {
            "text/plain": [
              "['best_xgb.pkl']"
            ]
          },
          "metadata": {},
          "execution_count": 8
        }
      ]
    },
    {
      "cell_type": "code",
      "source": [
        "import matplotlib.pyplot as plt\n",
        "import numpy as np\n",
        "\n",
        "# Get feature importance\n",
        "importance = best_xgb.feature_importances_\n",
        "features = X_train.columns\n",
        "\n",
        "# Plot feature importance\n",
        "plt.figure(figsize=(12, 6))\n",
        "plt.barh(features, importance)\n",
        "plt.xlabel(\"Feature Importance Score\")\n",
        "plt.ylabel(\"Features\")\n",
        "plt.title(\"🔹 XGBoost Feature Importance for Cyberattack Detection\")\n",
        "plt.show()\n"
      ],
      "metadata": {
        "colab": {
          "base_uri": "https://localhost:8080/",
          "height": 619
        },
        "id": "kh0qniM3bxF7",
        "outputId": "9eca3a9b-9c4b-4ea0-a49a-dce6b8a8808d"
      },
      "execution_count": null,
      "outputs": [
        {
          "output_type": "stream",
          "name": "stderr",
          "text": [
            "/usr/local/lib/python3.11/dist-packages/IPython/core/pylabtools.py:151: UserWarning: Glyph 128313 (\\N{SMALL BLUE DIAMOND}) missing from font(s) DejaVu Sans.\n",
            "  fig.canvas.print_figure(bytes_io, **kw)\n"
          ]
        },
        {
          "output_type": "display_data",
          "data": {
            "text/plain": [
              "<Figure size 1200x600 with 1 Axes>"
            ],
            "image/png": "[encoded data removed]"
          },
          "metadata": {}
        }
      ]
    },
    {
      "cell_type": "code",
      "source": [
        "# Drop extra columns to match training features\n",
        "df_test = pd.read_csv(\"/content/drive/MyDrive/CWDS_DEMO/BATADAL Datasets/BATADAL_test.csv\", parse_dates=['DATETIME'], dayfirst=True)\n",
        "X_test_unlabeled = df_test.drop(columns=['DATETIME', 'ATT_FLAG'], errors='ignore')\n",
        "\n",
        "# Ensure feature names match\n",
        "print(\"Features in X_train:\", list(X_train.columns))\n",
        "print(\"Features in X_test_unlabeled:\", list(X_test_unlabeled.columns))\n",
        "\n",
        "# Predict anomalies\n",
        "y_pred_test = best_xgb.predict(X_test_unlabeled)\n",
        "\n",
        "# Add predictions to dataset\n",
        "df_test['PREDICTED_ATTACK'] = y_pred_test\n",
        "\n",
        "# Show first few rows\n",
        "df_test.head()\n"
      ],
      "metadata": {
        "colab": {
          "base_uri": "https://localhost:8080/",
          "height": 498
        },
        "id": "RFDdago8b5Io",
        "outputId": "c08f0282-a924-4f85-e0af-0bcc6359a75f"
      },
      "execution_count": null,
      "outputs": [
        {
          "output_type": "stream",
          "name": "stdout",
          "text": [
            "Features in X_train: ['L_T1', 'L_T2', 'L_T3', 'L_T4', 'L_T5', 'L_T6', 'L_T7', 'F_PU1', 'S_PU1', 'F_PU2', 'S_PU2', 'F_PU3', 'S_PU3', 'F_PU4', 'S_PU4', 'F_PU5', 'S_PU5', 'F_PU6', 'S_PU6', 'F_PU7', 'S_PU7', 'F_PU8', 'S_PU8', 'F_PU9', 'S_PU9', 'F_PU10', 'S_PU10', 'F_PU11', 'S_PU11', 'F_V2', 'S_V2', 'P_J280', 'P_J269', 'P_J300', 'P_J256', 'P_J289', 'P_J415', 'P_J302', 'P_J306', 'P_J307', 'P_J317', 'P_J14', 'P_J422']\n",
            "Features in X_test_unlabeled: ['L_T1', 'L_T2', 'L_T3', 'L_T4', 'L_T5', 'L_T6', 'L_T7', 'F_PU1', 'S_PU1', 'F_PU2', 'S_PU2', 'F_PU3', 'S_PU3', 'F_PU4', 'S_PU4', 'F_PU5', 'S_PU5', 'F_PU6', 'S_PU6', 'F_PU7', 'S_PU7', 'F_PU8', 'S_PU8', 'F_PU9', 'S_PU9', 'F_PU10', 'S_PU10', 'F_PU11', 'S_PU11', 'F_V2', 'S_V2', 'P_J280', 'P_J269', 'P_J300', 'P_J256', 'P_J289', 'P_J415', 'P_J302', 'P_J306', 'P_J307', 'P_J317', 'P_J14', 'P_J422']\n"
          ]
        },
        {
          "output_type": "stream",
          "name": "stderr",
          "text": [
            "<ipython-input-37-a07fed02ec22>:2: UserWarning: Could not infer format, so each element will be parsed individually, falling back to `dateutil`. To ensure parsing is consistent and as-expected, please specify a format.\n",
            "  df_test = pd.read_csv(\"/content/drive/MyDrive/CWDS_DEMO/BATADAL Datasets/BATADAL_test.csv\", parse_dates=['DATETIME'], dayfirst=True)\n"
          ]
        },
        {
          "output_type": "execute_result",
          "data": {
            "text/plain": [
              "             DATETIME  L_T1  L_T2  L_T3  L_T4  L_T5  L_T6  L_T7  F_PU1  S_PU1  \\\n",
              "0 2017-01-04 00:00:00  0.73  2.27  4.00  3.26  3.87  5.50  4.28  98.93    1.0   \n",
              "1 2017-01-04 01:00:00  0.69  2.25  4.53  3.26  3.84  5.50  4.78  97.95    1.0   \n",
              "2 2017-01-04 02:00:00  0.90  2.31  5.03  3.41  3.32  5.16  3.22  96.82    1.0   \n",
              "3 2017-01-04 03:00:00  1.11  2.54  5.16  3.97  2.82  5.01  2.54  96.76    1.0   \n",
              "4 2017-01-04 04:00:00  1.27  2.99  4.94  4.27  2.35  5.38  3.41  94.77    1.0   \n",
              "\n",
              "   ...  P_J289  P_J415  P_J302  P_J306  P_J307  P_J317  P_J14  P_J422  \\\n",
              "0  ...   26.74   84.52   19.43   83.27   19.33   71.33  29.61   28.71   \n",
              "1  ...   26.73   85.04   25.97   64.22   25.86   73.79  29.63   28.73   \n",
              "2  ...   26.89   87.16   29.18   63.81   29.18   59.05  29.80   28.90   \n",
              "3  ...   28.23   88.83   26.53   63.42   26.41   70.92  30.80   29.90   \n",
              "4  ...   31.32   69.55   27.46   63.43   27.34   70.88  33.61   32.71   \n",
              "\n",
              "   ATT_FLAG  PREDICTED_ATTACK  \n",
              "0       0.0                 0  \n",
              "1       0.0                 0  \n",
              "2       0.0                 0  \n",
              "3       0.0                 0  \n",
              "4       0.0                 0  \n",
              "\n",
              "[5 rows x 46 columns]"
            ],
            "text/html": [
              "\n",
              "  <div id=\"df-3b5146ad-44cd-4349-82eb-6ded9f9077e7\" class=\"colab-df-container\">\n",
              "    <div>\n",
              "<style scoped>\n",
              "    .dataframe tbody tr th:only-of-type {\n",
              "        vertical-align: middle;\n",
              "    }\n",
              "\n",
              "    .dataframe tbody tr th {\n",
              "        vertical-align: top;\n",
              "    }\n",
              "\n",
              "    .dataframe thead th {\n",
              "        text-align: right;\n",
              "    }\n",
              "</style>\n",
              "<table border=\"1\" class=\"dataframe\">\n",
              "  <thead>\n",
              "    <tr style=\"text-align: right;\">\n",
              "      <th></th>\n",
              "      <th>DATETIME</th>\n",
              "      <th>L_T1</th>\n",
              "      <th>L_T2</th>\n",
              "      <th>L_T3</th>\n",
              "      <th>L_T4</th>\n",
              "      <th>L_T5</th>\n",
              "      <th>L_T6</th>\n",
              "      <th>L_T7</th>\n",
              "      <th>F_PU1</th>\n",
              "      <th>S_PU1</th>\n",
              "      <th>...</th>\n",
              "      <th>P_J289</th>\n",
              "      <th>P_J415</th>\n",
              "      <th>P_J302</th>\n",
              "      <th>P_J306</th>\n",
              "      <th>P_J307</th>\n",
              "      <th>P_J317</th>\n",
              "      <th>P_J14</th>\n",
              "      <th>P_J422</th>\n",
              "      <th>ATT_FLAG</th>\n",
              "      <th>PREDICTED_ATTACK</th>\n",
              "    </tr>\n",
              "  </thead>\n",
              "  <tbody>\n",
              "    <tr>\n",
              "      <th>0</th>\n",
              "      <td>2017-01-04 00:00:00</td>\n",
              "      <td>0.73</td>\n",
              "      <td>2.27</td>\n",
              "      <td>4.00</td>\n",
              "      <td>3.26</td>\n",
              "      <td>3.87</td>\n",
              "      <td>5.50</td>\n",
              "      <td>4.28</td>\n",
              "      <td>98.93</td>\n",
              "      <td>1.0</td>\n",
              "      <td>...</td>\n",
              "      <td>26.74</td>\n",
              "      <td>84.52</td>\n",
              "      <td>19.43</td>\n",
              "      <td>83.27</td>\n",
              "      <td>19.33</td>\n",
              "      <td>71.33</td>\n",
              "      <td>29.61</td>\n",
              "      <td>28.71</td>\n",
              "      <td>0.0</td>\n",
              "      <td>0</td>\n",
              "    </tr>\n",
              "    <tr>\n",
              "      <th>1</th>\n",
              "      <td>2017-01-04 01:00:00</td>\n",
              "      <td>0.69</td>\n",
              "      <td>2.25</td>\n",
              "      <td>4.53</td>\n",
              "      <td>3.26</td>\n",
              "      <td>3.84</td>\n",
              "      <td>5.50</td>\n",
              "      <td>4.78</td>\n",
              "      <td>97.95</td>\n",
              "      <td>1.0</td>\n",
              "      <td>...</td>\n",
              "      <td>26.73</td>\n",
              "      <td>85.04</td>\n",
              "      <td>25.97</td>\n",
              "      <td>64.22</td>\n",
              "      <td>25.86</td>\n",
              "      <td>73.79</td>\n",
              "      <td>29.63</td>\n",
              "      <td>28.73</td>\n",
              "      <td>0.0</td>\n",
              "      <td>0</td>\n",
              "    </tr>\n",
              "    <tr>\n",
              "      <th>2</th>\n",
              "      <td>2017-01-04 02:00:00</td>\n",
              "      <td>0.90</td>\n",
              "      <td>2.31</td>\n",
              "      <td>5.03</td>\n",
              "      <td>3.41</td>\n",
              "      <td>3.32</td>\n",
              "      <td>5.16</td>\n",
              "      <td>3.22</td>\n",
              "      <td>96.82</td>\n",
              "      <td>1.0</td>\n",
              "      <td>...</td>\n",
              "      <td>26.89</td>\n",
              "      <td>87.16</td>\n",
              "      <td>29.18</td>\n",
              "      <td>63.81</td>\n",
              "      <td>29.18</td>\n",
              "      <td>59.05</td>\n",
              "      <td>29.80</td>\n",
              "      <td>28.90</td>\n",
              "      <td>0.0</td>\n",
              "      <td>0</td>\n",
              "    </tr>\n",
              "    <tr>\n",
              "      <th>3</th>\n",
              "      <td>2017-01-04 03:00:00</td>\n",
              "      <td>1.11</td>\n",
              "      <td>2.54</td>\n",
              "      <td>5.16</td>\n",
              "      <td>3.97</td>\n",
              "      <td>2.82</td>\n",
              "      <td>5.01</td>\n",
              "      <td>2.54</td>\n",
              "      <td>96.76</td>\n",
              "      <td>1.0</td>\n",
              "      <td>...</td>\n",
              "      <td>28.23</td>\n",
              "      <td>88.83</td>\n",
              "      <td>26.53</td>\n",
              "      <td>63.42</td>\n",
              "      <td>26.41</td>\n",
              "      <td>70.92</td>\n",
              "      <td>30.80</td>\n",
              "      <td>29.90</td>\n",
              "      <td>0.0</td>\n",
              "      <td>0</td>\n",
              "    </tr>\n",
              "    <tr>\n",
              "      <th>4</th>\n",
              "      <td>2017-01-04 04:00:00</td>\n",
              "      <td>1.27</td>\n",
              "      <td>2.99</td>\n",
              "      <td>4.94</td>\n",
              "      <td>4.27</td>\n",
              "      <td>2.35</td>\n",
              "      <td>5.38</td>\n",
              "      <td>3.41</td>\n",
              "      <td>94.77</td>\n",
              "      <td>1.0</td>\n",
              "      <td>...</td>\n",
              "      <td>31.32</td>\n",
              "      <td>69.55</td>\n",
              "      <td>27.46</td>\n",
              "      <td>63.43</td>\n",
              "      <td>27.34</td>\n",
              "      <td>70.88</td>\n",
              "      <td>33.61</td>\n",
              "      <td>32.71</td>\n",
              "      <td>0.0</td>\n",
              "      <td>0</td>\n",
              "    </tr>\n",
              "  </tbody>\n",
              "</table>\n",
              "<p>5 rows × 46 columns</p>\n",
              "</div>\n",
              "    <div class=\"colab-df-buttons\">\n",
              "\n",
              "  <div class=\"colab-df-container\">\n",
              "    <button class=\"colab-df-convert\" onclick=\"convertToInteractive('df-3b5146ad-44cd-4349-82eb-6ded9f9077e7')\"\n",
              "            title=\"Convert this dataframe to an interactive table.\"\n",
              "            style=\"display:none;\">\n",
              "\n",
              "  <svg xmlns=\"http://www.w3.org/2000/svg\" height=\"24px\" viewBox=\"0 -960 960 960\">\n",
              "    <path d=\"M120-120v-720h720v720H120Zm60-500h600v-160H180v160Zm220 220h160v-160H400v160Zm0 220h160v-160H400v160ZM180-400h160v-160H180v160Zm440 0h160v-160H620v160ZM180-180h160v-160H180v160Zm440 0h160v-160H620v160Z\"/>\n",
              "  </svg>\n",
              "    </button>\n",
              "\n",
              "  <style>\n",
              "    .colab-df-container {\n",
              "      display:flex;\n",
              "      gap: 12px;\n",
              "    }\n",
              "\n",
              "    .colab-df-convert {\n",
              "      background-color: #E8F0FE;\n",
              "      border: none;\n",
              "      border-radius: 50%;\n",
              "      cursor: pointer;\n",
              "      display: none;\n",
              "      fill: #1967D2;\n",
              "      height: 32px;\n",
              "      padding: 0 0 0 0;\n",
              "      width: 32px;\n",
              "    }\n",
              "\n",
              "    .colab-df-convert:hover {\n",
              "      background-color: #E2EBFA;\n",
              "      box-shadow: 0px 1px 2px rgba(60, 64, 67, 0.3), 0px 1px 3px 1px rgba(60, 64, 67, 0.15);\n",
              "      fill: #174EA6;\n",
              "    }\n",
              "\n",
              "    .colab-df-buttons div {\n",
              "      margin-bottom: 4px;\n",
              "    }\n",
              "\n",
              "    [theme=dark] .colab-df-convert {\n",
              "      background-color: #3B4455;\n",
              "      fill: #D2E3FC;\n",
              "    }\n",
              "\n",
              "    [theme=dark] .colab-df-convert:hover {\n",
              "      background-color: #434B5C;\n",
              "      box-shadow: 0px 1px 3px 1px rgba(0, 0, 0, 0.15);\n",
              "      filter: drop-shadow(0px 1px 2px rgba(0, 0, 0, 0.3));\n",
              "      fill: #FFFFFF;\n",
              "    }\n",
              "  </style>\n",
              "\n",
              "    <script>\n",
              "      const buttonEl =\n",
              "        document.querySelector('#df-3b5146ad-44cd-4349-82eb-6ded9f9077e7 button.colab-df-convert');\n",
              "      buttonEl.style.display =\n",
              "        google.colab.kernel.accessAllowed ? 'block' : 'none';\n",
              "\n",
              "      async function convertToInteractive(key) {\n",
              "        const element = document.querySelector('#df-3b5146ad-44cd-4349-82eb-6ded9f9077e7');\n",
              "        const dataTable =\n",
              "          await google.colab.kernel.invokeFunction('convertToInteractive',\n",
              "                                                    [key], {});\n",
              "        if (!dataTable) return;\n",
              "\n",
              "        const docLinkHtml = 'Like what you see? Visit the ' +\n",
              "          '<a target=\"_blank\" href=https://colab.research.google.com/notebooks/data_table.ipynb>data table notebook</a>'\n",
              "          + ' to learn more about interactive tables.';\n",
              "        element.innerHTML = '';\n",
              "        dataTable['output_type'] = 'display_data';\n",
              "        await google.colab.output.renderOutput(dataTable, element);\n",
              "        const docLink = document.createElement('div');\n",
              "        docLink.innerHTML = docLinkHtml;\n",
              "        element.appendChild(docLink);\n",
              "      }\n",
              "    </script>\n",
              "  </div>\n",
              "\n",
              "\n",
              "<div id=\"df-fe167779-80eb-4075-a2ca-1faff33aa6b5\">\n",
              "  <button class=\"colab-df-quickchart\" onclick=\"quickchart('df-fe167779-80eb-4075-a2ca-1faff33aa6b5')\"\n",
              "            title=\"Suggest charts\"\n",
              "            style=\"display:none;\">\n",
              "\n",
              "<svg xmlns=\"http://www.w3.org/2000/svg\" height=\"24px\"viewBox=\"0 0 24 24\"\n",
              "     width=\"24px\">\n",
              "    <g>\n",
              "        <path d=\"M19 3H5c-1.1 0-2 .9-2 2v14c0 1.1.9 2 2 2h14c1.1 0 2-.9 2-2V5c0-1.1-.9-2-2-2zM9 17H7v-7h2v7zm4 0h-2V7h2v10zm4 0h-2v-4h2v4z\"/>\n",
              "    </g>\n",
              "</svg>\n",
              "  </button>\n",
              "\n",
              "<style>\n",
              "  .colab-df-quickchart {\n",
              "      --bg-color: #E8F0FE;\n",
              "      --fill-color: #1967D2;\n",
              "      --hover-bg-color: #E2EBFA;\n",
              "      --hover-fill-color: #174EA6;\n",
              "      --disabled-fill-color: #AAA;\n",
              "      --disabled-bg-color: #DDD;\n",
              "  }\n",
              "\n",
              "  [theme=dark] .colab-df-quickchart {\n",
              "      --bg-color: #3B4455;\n",
              "      --fill-color: #D2E3FC;\n",
              "      --hover-bg-color: #434B5C;\n",
              "      --hover-fill-color: #FFFFFF;\n",
              "      --disabled-bg-color: #3B4455;\n",
              "      --disabled-fill-color: #666;\n",
              "  }\n",
              "\n",
              "  .colab-df-quickchart {\n",
              "    background-color: var(--bg-color);\n",
              "    border: none;\n",
              "    border-radius: 50%;\n",
              "    cursor: pointer;\n",
              "    display: none;\n",
              "    fill: var(--fill-color);\n",
              "    height: 32px;\n",
              "    padding: 0;\n",
              "    width: 32px;\n",
              "  }\n",
              "\n",
              "  .colab-df-quickchart:hover {\n",
              "    background-color: var(--hover-bg-color);\n",
              "    box-shadow: 0 1px 2px rgba(60, 64, 67, 0.3), 0 1px 3px 1px rgba(60, 64, 67, 0.15);\n",
              "    fill: var(--button-hover-fill-color);\n",
              "  }\n",
              "\n",
              "  .colab-df-quickchart-complete:disabled,\n",
              "  .colab-df-quickchart-complete:disabled:hover {\n",
              "    background-color: var(--disabled-bg-color);\n",
              "    fill: var(--disabled-fill-color);\n",
              "    box-shadow: none;\n",
              "  }\n",
              "\n",
              "  .colab-df-spinner {\n",
              "    border: 2px solid var(--fill-color);\n",
              "    border-color: transparent;\n",
              "    border-bottom-color: var(--fill-color);\n",
              "    animation:\n",
              "      spin 1s steps(1) infinite;\n",
              "  }\n",
              "\n",
              "  @keyframes spin {\n",
              "    0% {\n",
              "      border-color: transparent;\n",
              "      border-bottom-color: var(--fill-color);\n",
              "      border-left-color: var(--fill-color);\n",
              "    }\n",
              "    20% {\n",
              "      border-color: transparent;\n",
              "      border-left-color: var(--fill-color);\n",
              "      border-top-color: var(--fill-color);\n",
              "    }\n",
              "    30% {\n",
              "      border-color: transparent;\n",
              "      border-left-color: var(--fill-color);\n",
              "      border-top-color: var(--fill-color);\n",
              "      border-right-color: var(--fill-color);\n",
              "    }\n",
              "    40% {\n",
              "      border-color: transparent;\n",
              "      border-right-color: var(--fill-color);\n",
              "      border-top-color: var(--fill-color);\n",
              "    }\n",
              "    60% {\n",
              "      border-color: transparent;\n",
              "      border-right-color: var(--fill-color);\n",
              "    }\n",
              "    80% {\n",
              "      border-color: transparent;\n",
              "      border-right-color: var(--fill-color);\n",
              "      border-bottom-color: var(--fill-color);\n",
              "    }\n",
              "    90% {\n",
              "      border-color: transparent;\n",
              "      border-bottom-color: var(--fill-color);\n",
              "    }\n",
              "  }\n",
              "</style>\n",
              "\n",
              "  <script>\n",
              "    async function quickchart(key) {\n",
              "      const quickchartButtonEl =\n",
              "        document.querySelector('#' + key + ' button');\n",
              "      quickchartButtonEl.disabled = true;  // To prevent multiple clicks.\n",
              "      quickchartButtonEl.classList.add('colab-df-spinner');\n",
              "      try {\n",
              "        const charts = await google.colab.kernel.invokeFunction(\n",
              "            'suggestCharts', [key], {});\n",
              "      } catch (error) {\n",
              "        console.error('Error during call to suggestCharts:', error);\n",
              "      }\n",
              "      quickchartButtonEl.classList.remove('colab-df-spinner');\n",
              "      quickchartButtonEl.classList.add('colab-df-quickchart-complete');\n",
              "    }\n",
              "    (() => {\n",
              "      let quickchartButtonEl =\n",
              "        document.querySelector('#df-fe167779-80eb-4075-a2ca-1faff33aa6b5 button');\n",
              "      quickchartButtonEl.style.display =\n",
              "        google.colab.kernel.accessAllowed ? 'block' : 'none';\n",
              "    })();\n",
              "  </script>\n",
              "</div>\n",
              "\n",
              "    </div>\n",
              "  </div>\n"
            ],
            "application/vnd.google.colaboratory.intrinsic+json": {
              "type": "dataframe",
              "variable_name": "df_test"
            }
          },
          "metadata": {},
          "execution_count": 37
        }
      ]
    },
    {
      "cell_type": "code",
      "source": [
        "from xgboost import XGBClassifier\n",
        "\n",
        "# Retrain XGBoost with best parameters\n",
        "best_xgb = XGBClassifier(n_estimators=300, learning_rate=0.1, max_depth=6, random_state=42)\n",
        "best_xgb.fit(X_train, y_train)\n",
        "\n",
        "print(\"✅ Model retrained successfully!\")\n"
      ],
      "metadata": {
        "colab": {
          "base_uri": "https://localhost:8080/"
        },
        "id": "Jv3CzXvDdx_D",
        "outputId": "897d31f4-5a90-4e3b-f5f8-6f951c42a90c"
      },
      "execution_count": null,
      "outputs": [
        {
          "output_type": "stream",
          "name": "stdout",
          "text": [
            "✅ Model retrained successfully!\n"
          ]
        }
      ]
    },
    {
      "cell_type": "code",
      "source": [
        "# Ensure only features used during training are present\n",
        "expected_features = X_train.columns  # Get the exact training features\n",
        "X_test_unlabeled = df_test[expected_features]  # Select only those columns\n",
        "\n",
        "# Ensure the features match\n",
        "print(\"✅ Features now match correctly!\")\n"
      ],
      "metadata": {
        "colab": {
          "base_uri": "https://localhost:8080/"
        },
        "id": "hdyspN3BeBGU",
        "outputId": "93ef52e3-7d90-49a6-cb6a-f493fb0bbf22"
      },
      "execution_count": null,
      "outputs": [
        {
          "output_type": "stream",
          "name": "stdout",
          "text": [
            "✅ Features now match correctly!\n"
          ]
        }
      ]
    },
    {
      "cell_type": "code",
      "source": [
        "# Ensure test dataset has the same feature order as training\n",
        "X_test_unlabeled = X_test_unlabeled[X_train.columns]  # Reorder to match training\n",
        "\n",
        "# Verify column order\n",
        "print(\"Training Features:\", list(X_train.columns))\n",
        "print(\"Test Features:\", list(X_test_unlabeled.columns))\n"
      ],
      "metadata": {
        "colab": {
          "base_uri": "https://localhost:8080/"
        },
        "id": "6lF4TDjse0xg",
        "outputId": "a29a713b-4a14-4abb-89b6-673c20cebb56"
      },
      "execution_count": null,
      "outputs": [
        {
          "output_type": "stream",
          "name": "stdout",
          "text": [
            "Training Features: ['L_T1', 'L_T2', 'L_T3', 'L_T4', 'L_T5', 'L_T6', 'L_T7', 'F_PU1', 'S_PU1', 'F_PU2', 'S_PU2', 'F_PU3', 'S_PU3', 'F_PU4', 'S_PU4', 'F_PU5', 'S_PU5', 'F_PU6', 'S_PU6', 'F_PU7', 'S_PU7', 'F_PU8', 'S_PU8', 'F_PU9', 'S_PU9', 'F_PU10', 'S_PU10', 'F_PU11', 'S_PU11', 'F_V2', 'S_V2', 'P_J280', 'P_J269', 'P_J300', 'P_J256', 'P_J289', 'P_J415', 'P_J302', 'P_J306', 'P_J307', 'P_J317', 'P_J14', 'P_J422']\n",
            "Test Features: ['L_T1', 'L_T2', 'L_T3', 'L_T4', 'L_T5', 'L_T6', 'L_T7', 'F_PU1', 'S_PU1', 'F_PU2', 'S_PU2', 'F_PU3', 'S_PU3', 'F_PU4', 'S_PU4', 'F_PU5', 'S_PU5', 'F_PU6', 'S_PU6', 'F_PU7', 'S_PU7', 'F_PU8', 'S_PU8', 'F_PU9', 'S_PU9', 'F_PU10', 'S_PU10', 'F_PU11', 'S_PU11', 'F_V2', 'S_V2', 'P_J280', 'P_J269', 'P_J300', 'P_J256', 'P_J289', 'P_J415', 'P_J302', 'P_J306', 'P_J307', 'P_J317', 'P_J14', 'P_J422']\n"
          ]
        }
      ]
    },
    {
      "cell_type": "code",
      "source": [
        "# Predict anomalies\n",
        "df_test['PREDICTED_ATTACK'] = best_xgb.predict(X_test_unlabeled)\n",
        "\n",
        "# Show first few rows with predictions\n",
        "display(df_test.head())\n"
      ],
      "metadata": {
        "colab": {
          "base_uri": "https://localhost:8080/",
          "height": 429
        },
        "id": "2BpdIcQTfYDH",
        "outputId": "cb26b47e-4f09-459a-cdae-731ceb0b2b9d"
      },
      "execution_count": null,
      "outputs": [
        {
          "output_type": "display_data",
          "data": {
            "text/plain": [
              "             DATETIME  L_T1  L_T2  L_T3  L_T4  L_T5  L_T6  L_T7  F_PU1  S_PU1  \\\n",
              "0 2017-01-04 00:00:00  0.73  2.27  4.00  3.26  3.87  5.50  4.28  98.93    1.0   \n",
              "1 2017-01-04 01:00:00  0.69  2.25  4.53  3.26  3.84  5.50  4.78  97.95    1.0   \n",
              "2 2017-01-04 02:00:00  0.90  2.31  5.03  3.41  3.32  5.16  3.22  96.82    1.0   \n",
              "3 2017-01-04 03:00:00  1.11  2.54  5.16  3.97  2.82  5.01  2.54  96.76    1.0   \n",
              "4 2017-01-04 04:00:00  1.27  2.99  4.94  4.27  2.35  5.38  3.41  94.77    1.0   \n",
              "\n",
              "   ...  P_J289  P_J415  P_J302  P_J306  P_J307  P_J317  P_J14  P_J422  \\\n",
              "0  ...   26.74   84.52   19.43   83.27   19.33   71.33  29.61   28.71   \n",
              "1  ...   26.73   85.04   25.97   64.22   25.86   73.79  29.63   28.73   \n",
              "2  ...   26.89   87.16   29.18   63.81   29.18   59.05  29.80   28.90   \n",
              "3  ...   28.23   88.83   26.53   63.42   26.41   70.92  30.80   29.90   \n",
              "4  ...   31.32   69.55   27.46   63.43   27.34   70.88  33.61   32.71   \n",
              "\n",
              "   ATT_FLAG  PREDICTED_ATTACK  \n",
              "0       0.0                 0  \n",
              "1       0.0                 0  \n",
              "2       0.0                 0  \n",
              "3       0.0                 0  \n",
              "4       0.0                 0  \n",
              "\n",
              "[5 rows x 46 columns]"
            ],
            "text/html": [
              "\n",
              "  <div id=\"df-e70dc811-fb60-4af7-bcf9-f09d4b10db55\" class=\"colab-df-container\">\n",
              "    <div>\n",
              "<style scoped>\n",
              "    .dataframe tbody tr th:only-of-type {\n",
              "        vertical-align: middle;\n",
              "    }\n",
              "\n",
              "    .dataframe tbody tr th {\n",
              "        vertical-align: top;\n",
              "    }\n",
              "\n",
              "    .dataframe thead th {\n",
              "        text-align: right;\n",
              "    }\n",
              "</style>\n",
              "<table border=\"1\" class=\"dataframe\">\n",
              "  <thead>\n",
              "    <tr style=\"text-align: right;\">\n",
              "      <th></th>\n",
              "      <th>DATETIME</th>\n",
              "      <th>L_T1</th>\n",
              "      <th>L_T2</th>\n",
              "      <th>L_T3</th>\n",
              "      <th>L_T4</th>\n",
              "      <th>L_T5</th>\n",
              "      <th>L_T6</th>\n",
              "      <th>L_T7</th>\n",
              "      <th>F_PU1</th>\n",
              "      <th>S_PU1</th>\n",
              "      <th>...</th>\n",
              "      <th>P_J289</th>\n",
              "      <th>P_J415</th>\n",
              "      <th>P_J302</th>\n",
              "      <th>P_J306</th>\n",
              "      <th>P_J307</th>\n",
              "      <th>P_J317</th>\n",
              "      <th>P_J14</th>\n",
              "      <th>P_J422</th>\n",
              "      <th>ATT_FLAG</th>\n",
              "      <th>PREDICTED_ATTACK</th>\n",
              "    </tr>\n",
              "  </thead>\n",
              "  <tbody>\n",
              "    <tr>\n",
              "      <th>0</th>\n",
              "      <td>2017-01-04 00:00:00</td>\n",
              "      <td>0.73</td>\n",
              "      <td>2.27</td>\n",
              "      <td>4.00</td>\n",
              "      <td>3.26</td>\n",
              "      <td>3.87</td>\n",
              "      <td>5.50</td>\n",
              "      <td>4.28</td>\n",
              "      <td>98.93</td>\n",
              "      <td>1.0</td>\n",
              "      <td>...</td>\n",
              "      <td>26.74</td>\n",
              "      <td>84.52</td>\n",
              "      <td>19.43</td>\n",
              "      <td>83.27</td>\n",
              "      <td>19.33</td>\n",
              "      <td>71.33</td>\n",
              "      <td>29.61</td>\n",
              "      <td>28.71</td>\n",
              "      <td>0.0</td>\n",
              "      <td>0</td>\n",
              "    </tr>\n",
              "    <tr>\n",
              "      <th>1</th>\n",
              "      <td>2017-01-04 01:00:00</td>\n",
              "      <td>0.69</td>\n",
              "      <td>2.25</td>\n",
              "      <td>4.53</td>\n",
              "      <td>3.26</td>\n",
              "      <td>3.84</td>\n",
              "      <td>5.50</td>\n",
              "      <td>4.78</td>\n",
              "      <td>97.95</td>\n",
              "      <td>1.0</td>\n",
              "      <td>...</td>\n",
              "      <td>26.73</td>\n",
              "      <td>85.04</td>\n",
              "      <td>25.97</td>\n",
              "      <td>64.22</td>\n",
              "      <td>25.86</td>\n",
              "      <td>73.79</td>\n",
              "      <td>29.63</td>\n",
              "      <td>28.73</td>\n",
              "      <td>0.0</td>\n",
              "      <td>0</td>\n",
              "    </tr>\n",
              "    <tr>\n",
              "      <th>2</th>\n",
              "      <td>2017-01-04 02:00:00</td>\n",
              "      <td>0.90</td>\n",
              "      <td>2.31</td>\n",
              "      <td>5.03</td>\n",
              "      <td>3.41</td>\n",
              "      <td>3.32</td>\n",
              "      <td>5.16</td>\n",
              "      <td>3.22</td>\n",
              "      <td>96.82</td>\n",
              "      <td>1.0</td>\n",
              "      <td>...</td>\n",
              "      <td>26.89</td>\n",
              "      <td>87.16</td>\n",
              "      <td>29.18</td>\n",
              "      <td>63.81</td>\n",
              "      <td>29.18</td>\n",
              "      <td>59.05</td>\n",
              "      <td>29.80</td>\n",
              "      <td>28.90</td>\n",
              "      <td>0.0</td>\n",
              "      <td>0</td>\n",
              "    </tr>\n",
              "    <tr>\n",
              "      <th>3</th>\n",
              "      <td>2017-01-04 03:00:00</td>\n",
              "      <td>1.11</td>\n",
              "      <td>2.54</td>\n",
              "      <td>5.16</td>\n",
              "      <td>3.97</td>\n",
              "      <td>2.82</td>\n",
              "      <td>5.01</td>\n",
              "      <td>2.54</td>\n",
              "      <td>96.76</td>\n",
              "      <td>1.0</td>\n",
              "      <td>...</td>\n",
              "      <td>28.23</td>\n",
              "      <td>88.83</td>\n",
              "      <td>26.53</td>\n",
              "      <td>63.42</td>\n",
              "      <td>26.41</td>\n",
              "      <td>70.92</td>\n",
              "      <td>30.80</td>\n",
              "      <td>29.90</td>\n",
              "      <td>0.0</td>\n",
              "      <td>0</td>\n",
              "    </tr>\n",
              "    <tr>\n",
              "      <th>4</th>\n",
              "      <td>2017-01-04 04:00:00</td>\n",
              "      <td>1.27</td>\n",
              "      <td>2.99</td>\n",
              "      <td>4.94</td>\n",
              "      <td>4.27</td>\n",
              "      <td>2.35</td>\n",
              "      <td>5.38</td>\n",
              "      <td>3.41</td>\n",
              "      <td>94.77</td>\n",
              "      <td>1.0</td>\n",
              "      <td>...</td>\n",
              "      <td>31.32</td>\n",
              "      <td>69.55</td>\n",
              "      <td>27.46</td>\n",
              "      <td>63.43</td>\n",
              "      <td>27.34</td>\n",
              "      <td>70.88</td>\n",
              "      <td>33.61</td>\n",
              "      <td>32.71</td>\n",
              "      <td>0.0</td>\n",
              "      <td>0</td>\n",
              "    </tr>\n",
              "  </tbody>\n",
              "</table>\n",
              "<p>5 rows × 46 columns</p>\n",
              "</div>\n",
              "    <div class=\"colab-df-buttons\">\n",
              "\n",
              "  <div class=\"colab-df-container\">\n",
              "    <button class=\"colab-df-convert\" onclick=\"convertToInteractive('df-e70dc811-fb60-4af7-bcf9-f09d4b10db55')\"\n",
              "            title=\"Convert this dataframe to an interactive table.\"\n",
              "            style=\"display:none;\">\n",
              "\n",
              "  <svg xmlns=\"http://www.w3.org/2000/svg\" height=\"24px\" viewBox=\"0 -960 960 960\">\n",
              "    <path d=\"M120-120v-720h720v720H120Zm60-500h600v-160H180v160Zm220 220h160v-160H400v160Zm0 220h160v-160H400v160ZM180-400h160v-160H180v160Zm440 0h160v-160H620v160ZM180-180h160v-160H180v160Zm440 0h160v-160H620v160Z\"/>\n",
              "  </svg>\n",
              "    </button>\n",
              "\n",
              "  <style>\n",
              "    .colab-df-container {\n",
              "      display:flex;\n",
              "      gap: 12px;\n",
              "    }\n",
              "\n",
              "    .colab-df-convert {\n",
              "      background-color: #E8F0FE;\n",
              "      border: none;\n",
              "      border-radius: 50%;\n",
              "      cursor: pointer;\n",
              "      display: none;\n",
              "      fill: #1967D2;\n",
              "      height: 32px;\n",
              "      padding: 0 0 0 0;\n",
              "      width: 32px;\n",
              "    }\n",
              "\n",
              "    .colab-df-convert:hover {\n",
              "      background-color: #E2EBFA;\n",
              "      box-shadow: 0px 1px 2px rgba(60, 64, 67, 0.3), 0px 1px 3px 1px rgba(60, 64, 67, 0.15);\n",
              "      fill: #174EA6;\n",
              "    }\n",
              "\n",
              "    .colab-df-buttons div {\n",
              "      margin-bottom: 4px;\n",
              "    }\n",
              "\n",
              "    [theme=dark] .colab-df-convert {\n",
              "      background-color: #3B4455;\n",
              "      fill: #D2E3FC;\n",
              "    }\n",
              "\n",
              "    [theme=dark] .colab-df-convert:hover {\n",
              "      background-color: #434B5C;\n",
              "      box-shadow: 0px 1px 3px 1px rgba(0, 0, 0, 0.15);\n",
              "      filter: drop-shadow(0px 1px 2px rgba(0, 0, 0, 0.3));\n",
              "      fill: #FFFFFF;\n",
              "    }\n",
              "  </style>\n",
              "\n",
              "    <script>\n",
              "      const buttonEl =\n",
              "        document.querySelector('#df-e70dc811-fb60-4af7-bcf9-f09d4b10db55 button.colab-df-convert');\n",
              "      buttonEl.style.display =\n",
              "        google.colab.kernel.accessAllowed ? 'block' : 'none';\n",
              "\n",
              "      async function convertToInteractive(key) {\n",
              "        const element = document.querySelector('#df-e70dc811-fb60-4af7-bcf9-f09d4b10db55');\n",
              "        const dataTable =\n",
              "          await google.colab.kernel.invokeFunction('convertToInteractive',\n",
              "                                                    [key], {});\n",
              "        if (!dataTable) return;\n",
              "\n",
              "        const docLinkHtml = 'Like what you see? Visit the ' +\n",
              "          '<a target=\"_blank\" href=https://colab.research.google.com/notebooks/data_table.ipynb>data table notebook</a>'\n",
              "          + ' to learn more about interactive tables.';\n",
              "        element.innerHTML = '';\n",
              "        dataTable['output_type'] = 'display_data';\n",
              "        await google.colab.output.renderOutput(dataTable, element);\n",
              "        const docLink = document.createElement('div');\n",
              "        docLink.innerHTML = docLinkHtml;\n",
              "        element.appendChild(docLink);\n",
              "      }\n",
              "    </script>\n",
              "  </div>\n",
              "\n",
              "\n",
              "<div id=\"df-6121aea3-a101-41a4-b0e4-4e897ff353ab\">\n",
              "  <button class=\"colab-df-quickchart\" onclick=\"quickchart('df-6121aea3-a101-41a4-b0e4-4e897ff353ab')\"\n",
              "            title=\"Suggest charts\"\n",
              "            style=\"display:none;\">\n",
              "\n",
              "<svg xmlns=\"http://www.w3.org/2000/svg\" height=\"24px\"viewBox=\"0 0 24 24\"\n",
              "     width=\"24px\">\n",
              "    <g>\n",
              "        <path d=\"M19 3H5c-1.1 0-2 .9-2 2v14c0 1.1.9 2 2 2h14c1.1 0 2-.9 2-2V5c0-1.1-.9-2-2-2zM9 17H7v-7h2v7zm4 0h-2V7h2v10zm4 0h-2v-4h2v4z\"/>\n",
              "    </g>\n",
              "</svg>\n",
              "  </button>\n",
              "\n",
              "<style>\n",
              "  .colab-df-quickchart {\n",
              "      --bg-color: #E8F0FE;\n",
              "      --fill-color: #1967D2;\n",
              "      --hover-bg-color: #E2EBFA;\n",
              "      --hover-fill-color: #174EA6;\n",
              "      --disabled-fill-color: #AAA;\n",
              "      --disabled-bg-color: #DDD;\n",
              "  }\n",
              "\n",
              "  [theme=dark] .colab-df-quickchart {\n",
              "      --bg-color: #3B4455;\n",
              "      --fill-color: #D2E3FC;\n",
              "      --hover-bg-color: #434B5C;\n",
              "      --hover-fill-color: #FFFFFF;\n",
              "      --disabled-bg-color: #3B4455;\n",
              "      --disabled-fill-color: #666;\n",
              "  }\n",
              "\n",
              "  .colab-df-quickchart {\n",
              "    background-color: var(--bg-color);\n",
              "    border: none;\n",
              "    border-radius: 50%;\n",
              "    cursor: pointer;\n",
              "    display: none;\n",
              "    fill: var(--fill-color);\n",
              "    height: 32px;\n",
              "    padding: 0;\n",
              "    width: 32px;\n",
              "  }\n",
              "\n",
              "  .colab-df-quickchart:hover {\n",
              "    background-color: var(--hover-bg-color);\n",
              "    box-shadow: 0 1px 2px rgba(60, 64, 67, 0.3), 0 1px 3px 1px rgba(60, 64, 67, 0.15);\n",
              "    fill: var(--button-hover-fill-color);\n",
              "  }\n",
              "\n",
              "  .colab-df-quickchart-complete:disabled,\n",
              "  .colab-df-quickchart-complete:disabled:hover {\n",
              "    background-color: var(--disabled-bg-color);\n",
              "    fill: var(--disabled-fill-color);\n",
              "    box-shadow: none;\n",
              "  }\n",
              "\n",
              "  .colab-df-spinner {\n",
              "    border: 2px solid var(--fill-color);\n",
              "    border-color: transparent;\n",
              "    border-bottom-color: var(--fill-color);\n",
              "    animation:\n",
              "      spin 1s steps(1) infinite;\n",
              "  }\n",
              "\n",
              "  @keyframes spin {\n",
              "    0% {\n",
              "      border-color: transparent;\n",
              "      border-bottom-color: var(--fill-color);\n",
              "      border-left-color: var(--fill-color);\n",
              "    }\n",
              "    20% {\n",
              "      border-color: transparent;\n",
              "      border-left-color: var(--fill-color);\n",
              "      border-top-color: var(--fill-color);\n",
              "    }\n",
              "    30% {\n",
              "      border-color: transparent;\n",
              "      border-left-color: var(--fill-color);\n",
              "      border-top-color: var(--fill-color);\n",
              "      border-right-color: var(--fill-color);\n",
              "    }\n",
              "    40% {\n",
              "      border-color: transparent;\n",
              "      border-right-color: var(--fill-color);\n",
              "      border-top-color: var(--fill-color);\n",
              "    }\n",
              "    60% {\n",
              "      border-color: transparent;\n",
              "      border-right-color: var(--fill-color);\n",
              "    }\n",
              "    80% {\n",
              "      border-color: transparent;\n",
              "      border-right-color: var(--fill-color);\n",
              "      border-bottom-color: var(--fill-color);\n",
              "    }\n",
              "    90% {\n",
              "      border-color: transparent;\n",
              "      border-bottom-color: var(--fill-color);\n",
              "    }\n",
              "  }\n",
              "</style>\n",
              "\n",
              "  <script>\n",
              "    async function quickchart(key) {\n",
              "      const quickchartButtonEl =\n",
              "        document.querySelector('#' + key + ' button');\n",
              "      quickchartButtonEl.disabled = true;  // To prevent multiple clicks.\n",
              "      quickchartButtonEl.classList.add('colab-df-spinner');\n",
              "      try {\n",
              "        const charts = await google.colab.kernel.invokeFunction(\n",
              "            'suggestCharts', [key], {});\n",
              "      } catch (error) {\n",
              "        console.error('Error during call to suggestCharts:', error);\n",
              "      }\n",
              "      quickchartButtonEl.classList.remove('colab-df-spinner');\n",
              "      quickchartButtonEl.classList.add('colab-df-quickchart-complete');\n",
              "    }\n",
              "    (() => {\n",
              "      let quickchartButtonEl =\n",
              "        document.querySelector('#df-6121aea3-a101-41a4-b0e4-4e897ff353ab button');\n",
              "      quickchartButtonEl.style.display =\n",
              "        google.colab.kernel.accessAllowed ? 'block' : 'none';\n",
              "    })();\n",
              "  </script>\n",
              "</div>\n",
              "\n",
              "    </div>\n",
              "  </div>\n"
            ],
            "application/vnd.google.colaboratory.intrinsic+json": {
              "type": "dataframe"
            }
          },
          "metadata": {}
        }
      ]
    },
    {
      "cell_type": "code",
      "source": [
        "df_test['PREDICTED_ATTACK'].value_counts()\n"
      ],
      "metadata": {
        "colab": {
          "base_uri": "https://localhost:8080/",
          "height": 178
        },
        "id": "xm5JQ3uWfwk9",
        "outputId": "ef8bffad-d07d-46d7-f410-d86bbec5e8e7"
      },
      "execution_count": null,
      "outputs": [
        {
          "output_type": "execute_result",
          "data": {
            "text/plain": [
              "PREDICTED_ATTACK\n",
              "0    2027\n",
              "1      62\n",
              "Name: count, dtype: int64"
            ],
            "text/html": [
              "<div>\n",
              "<style scoped>\n",
              "    .dataframe tbody tr th:only-of-type {\n",
              "        vertical-align: middle;\n",
              "    }\n",
              "\n",
              "    .dataframe tbody tr th {\n",
              "        vertical-align: top;\n",
              "    }\n",
              "\n",
              "    .dataframe thead th {\n",
              "        text-align: right;\n",
              "    }\n",
              "</style>\n",
              "<table border=\"1\" class=\"dataframe\">\n",
              "  <thead>\n",
              "    <tr style=\"text-align: right;\">\n",
              "      <th></th>\n",
              "      <th>count</th>\n",
              "    </tr>\n",
              "    <tr>\n",
              "      <th>PREDICTED_ATTACK</th>\n",
              "      <th></th>\n",
              "    </tr>\n",
              "  </thead>\n",
              "  <tbody>\n",
              "    <tr>\n",
              "      <th>0</th>\n",
              "      <td>2027</td>\n",
              "    </tr>\n",
              "    <tr>\n",
              "      <th>1</th>\n",
              "      <td>62</td>\n",
              "    </tr>\n",
              "  </tbody>\n",
              "</table>\n",
              "</div><br><label><b>dtype:</b> int64</label>"
            ]
          },
          "metadata": {},
          "execution_count": 44
        }
      ]
    },
    {
      "cell_type": "code",
      "source": [
        "# Save the dataset with predictions\n",
        "df_test.to_csv(\"/content/BATADAL_XGBoost_Predictions.csv\", index=False)\n",
        "\n",
        "print(\"✅ File saved! Ready for download.\")\n"
      ],
      "metadata": {
        "colab": {
          "base_uri": "https://localhost:8080/"
        },
        "id": "l61x-kU7g65o",
        "outputId": "189700c1-a7db-4624-977b-35feb3e78e60"
      },
      "execution_count": null,
      "outputs": [
        {
          "output_type": "stream",
          "name": "stdout",
          "text": [
            "✅ File saved! Ready for download.\n"
          ]
        }
      ]
    }
  ]
}